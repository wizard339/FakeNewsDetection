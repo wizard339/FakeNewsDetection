{
 "cells": [
  {
   "cell_type": "code",
   "execution_count": 1,
   "metadata": {
    "execution": {
     "iopub.execute_input": "2023-04-28T15:25:32.255939Z",
     "iopub.status.busy": "2023-04-28T15:25:32.255939Z",
     "iopub.status.idle": "2023-04-28T15:25:33.328299Z",
     "shell.execute_reply": "2023-04-28T15:25:33.328299Z",
     "shell.execute_reply.started": "2023-04-28T15:25:32.255939Z"
    },
    "id": "gZwaHTken4sU"
   },
   "outputs": [],
   "source": [
    "import pandas as pd\n",
    "from datasets import load_dataset"
   ]
  },
  {
   "cell_type": "markdown",
   "metadata": {
    "id": "WuWmF7tPvgby",
    "jp-MarkdownHeadingCollapsed": true,
    "tags": []
   },
   "source": [
    "# Dataset 1 https://huggingface.co/datasets/okite97/news-data"
   ]
  },
  {
   "cell_type": "markdown",
   "metadata": {
    "id": "M07hD9gX2SB7"
   },
   "source": [
    "Dataset Summary\n",
    "\n",
    "The News Dataset is an English-language dataset containing just over 4k unique news articles scrapped from AriseTv- One of the most popular news television in Nigeria."
   ]
  },
  {
   "cell_type": "code",
   "execution_count": 2,
   "metadata": {
    "colab": {
     "base_uri": "https://localhost:8080/",
     "height": 260,
     "referenced_widgets": [
      "bbf42664eb05460ea681f93a8d51838b",
      "d3c9f05d319a4635bd9be9e54c066124",
      "2821ba5d508c4881bdb956eabd206336",
      "7af5607c50c9422ebf21724334c29c80",
      "3057553c666644e0a08355df8af89464",
      "3941be476d444315ab563f88a9a4c0f4",
      "9c5d9bd91ba5468eaac1d30ddfad7fe6",
      "71dd541021d64d8e96ddb7c3c97634de",
      "e875f8ed89ca463484173db02a060ae2",
      "b4623b98a9cf414fba88c55a985bcc1a",
      "98a1f236612a4f1a93296b886068fb3d"
     ]
    },
    "execution": {
     "iopub.execute_input": "2023-04-28T15:25:36.468324Z",
     "iopub.status.busy": "2023-04-28T15:25:36.468324Z",
     "iopub.status.idle": "2023-04-28T15:25:40.983990Z",
     "shell.execute_reply": "2023-04-28T15:25:40.983990Z",
     "shell.execute_reply.started": "2023-04-28T15:25:36.468324Z"
    },
    "id": "db_rfxm4th1G",
    "outputId": "8bceec08-6e07-4b95-b166-7c576bbad2f4"
   },
   "outputs": [
    {
     "data": {
      "application/vnd.jupyter.widget-view+json": {
       "model_id": "d01bc2c949704b5985ee5f24c3f24ed8",
       "version_major": 2,
       "version_minor": 0
      },
      "text/plain": [
       "Downloading readme:   0%|          | 0.00/3.51k [00:00<?, ?B/s]"
      ]
     },
     "metadata": {},
     "output_type": "display_data"
    },
    {
     "name": "stdout",
     "output_type": "stream",
     "text": [
      "Downloading and preparing dataset csv/okite97--news-data to C:/Users/Home/.cache/huggingface/datasets/okite97___csv/okite97--news-data-40e98cfd881f0955/0.0.0/6b34fb8fcf56f7c8ba51dc895bfa2bfbe43546f190a60fcf74bb5e8afdcc2317...\n"
     ]
    },
    {
     "data": {
      "application/vnd.jupyter.widget-view+json": {
       "model_id": "4cf57d36083943c2974d560a6ee6742f",
       "version_major": 2,
       "version_minor": 0
      },
      "text/plain": [
       "Downloading data files:   0%|          | 0/2 [00:00<?, ?it/s]"
      ]
     },
     "metadata": {},
     "output_type": "display_data"
    },
    {
     "data": {
      "application/vnd.jupyter.widget-view+json": {
       "model_id": "35d99d5bcf1247e093a2fb8c82d8f803",
       "version_major": 2,
       "version_minor": 0
      },
      "text/plain": [
       "Downloading data:   0%|          | 0.00/980k [00:00<?, ?B/s]"
      ]
     },
     "metadata": {},
     "output_type": "display_data"
    },
    {
     "data": {
      "application/vnd.jupyter.widget-view+json": {
       "model_id": "5fe554397f5644a7b31c35f1934c2e58",
       "version_major": 2,
       "version_minor": 0
      },
      "text/plain": [
       "Downloading data:   0%|          | 0.00/174k [00:00<?, ?B/s]"
      ]
     },
     "metadata": {},
     "output_type": "display_data"
    },
    {
     "data": {
      "application/vnd.jupyter.widget-view+json": {
       "model_id": "7145feb373834cc6a95e869f9786b3ca",
       "version_major": 2,
       "version_minor": 0
      },
      "text/plain": [
       "Extracting data files:   0%|          | 0/2 [00:00<?, ?it/s]"
      ]
     },
     "metadata": {},
     "output_type": "display_data"
    },
    {
     "data": {
      "application/vnd.jupyter.widget-view+json": {
       "model_id": "",
       "version_major": 2,
       "version_minor": 0
      },
      "text/plain": [
       "Generating train split: 0 examples [00:00, ? examples/s]"
      ]
     },
     "metadata": {},
     "output_type": "display_data"
    },
    {
     "name": "stderr",
     "output_type": "stream",
     "text": [
      "C:\\ProgramData\\Anaconda3\\envs\\pytorch_1\\lib\\site-packages\\datasets\\download\\streaming_download_manager.py:776: FutureWarning: the 'mangle_dupe_cols' keyword is deprecated and will be removed in a future version. Please take steps to stop the use of 'mangle_dupe_cols'\n",
      "  return pd.read_csv(xopen(filepath_or_buffer, \"rb\", use_auth_token=use_auth_token), **kwargs)\n"
     ]
    },
    {
     "data": {
      "application/vnd.jupyter.widget-view+json": {
       "model_id": "",
       "version_major": 2,
       "version_minor": 0
      },
      "text/plain": [
       "Generating test split: 0 examples [00:00, ? examples/s]"
      ]
     },
     "metadata": {},
     "output_type": "display_data"
    },
    {
     "name": "stdout",
     "output_type": "stream",
     "text": [
      "Dataset csv downloaded and prepared to C:/Users/Home/.cache/huggingface/datasets/okite97___csv/okite97--news-data-40e98cfd881f0955/0.0.0/6b34fb8fcf56f7c8ba51dc895bfa2bfbe43546f190a60fcf74bb5e8afdcc2317. Subsequent calls will reuse this data.\n"
     ]
    },
    {
     "name": "stderr",
     "output_type": "stream",
     "text": [
      "C:\\ProgramData\\Anaconda3\\envs\\pytorch_1\\lib\\site-packages\\datasets\\download\\streaming_download_manager.py:776: FutureWarning: the 'mangle_dupe_cols' keyword is deprecated and will be removed in a future version. Please take steps to stop the use of 'mangle_dupe_cols'\n",
      "  return pd.read_csv(xopen(filepath_or_buffer, \"rb\", use_auth_token=use_auth_token), **kwargs)\n"
     ]
    },
    {
     "data": {
      "application/vnd.jupyter.widget-view+json": {
       "model_id": "3c39fe3b93fe46a9b5f8ee6fce885f0d",
       "version_major": 2,
       "version_minor": 0
      },
      "text/plain": [
       "  0%|          | 0/2 [00:00<?, ?it/s]"
      ]
     },
     "metadata": {},
     "output_type": "display_data"
    },
    {
     "data": {
      "text/plain": [
       "DatasetDict({\n",
       "    train: Dataset({\n",
       "        features: ['Title', 'Excerpt', 'Category'],\n",
       "        num_rows: 4686\n",
       "    })\n",
       "    test: Dataset({\n",
       "        features: ['Title', 'Excerpt', 'Category'],\n",
       "        num_rows: 828\n",
       "    })\n",
       "})"
      ]
     },
     "execution_count": 2,
     "metadata": {},
     "output_type": "execute_result"
    }
   ],
   "source": [
    "# https://huggingface.co/datasets/okite97/news-data\n",
    "dataset = load_dataset(\"okite97/news-data\")\n",
    "dataset"
   ]
  },
  {
   "cell_type": "code",
   "execution_count": 3,
   "metadata": {
    "colab": {
     "base_uri": "https://localhost:8080/",
     "height": 224
    },
    "execution": {
     "iopub.execute_input": "2023-04-28T15:25:53.382159Z",
     "iopub.status.busy": "2023-04-28T15:25:53.382159Z",
     "iopub.status.idle": "2023-04-28T15:25:53.489464Z",
     "shell.execute_reply": "2023-04-28T15:25:53.488958Z",
     "shell.execute_reply.started": "2023-04-28T15:25:53.382159Z"
    },
    "id": "8ME2ByUOtwAt",
    "outputId": "536bbbd9-953a-4293-9327-74dc78648453"
   },
   "outputs": [
    {
     "name": "stdout",
     "output_type": "stream",
     "text": [
      "(5514, 3)\n"
     ]
    },
    {
     "data": {
      "text/html": [
       "<div>\n",
       "<style scoped>\n",
       "    .dataframe tbody tr th:only-of-type {\n",
       "        vertical-align: middle;\n",
       "    }\n",
       "\n",
       "    .dataframe tbody tr th {\n",
       "        vertical-align: top;\n",
       "    }\n",
       "\n",
       "    .dataframe thead th {\n",
       "        text-align: right;\n",
       "    }\n",
       "</style>\n",
       "<table border=\"1\" class=\"dataframe\">\n",
       "  <thead>\n",
       "    <tr style=\"text-align: right;\">\n",
       "      <th></th>\n",
       "      <th>Title</th>\n",
       "      <th>Excerpt</th>\n",
       "      <th>Category</th>\n",
       "    </tr>\n",
       "  </thead>\n",
       "  <tbody>\n",
       "    <tr>\n",
       "      <th>0</th>\n",
       "      <td>Nigeria: Cross River Governor Ayade Dumps PDP ...</td>\n",
       "      <td>Cross River State Governor, Ben Ayade has defe...</td>\n",
       "      <td>politics</td>\n",
       "    </tr>\n",
       "    <tr>\n",
       "      <th>1</th>\n",
       "      <td>Electoral Bill: Nigeria Senate Mobilises to Ov...</td>\n",
       "      <td>Nigerians have not heard the last of President...</td>\n",
       "      <td>politics</td>\n",
       "    </tr>\n",
       "    <tr>\n",
       "      <th>2</th>\n",
       "      <td>Nigeria: Central Bank Increases Forex Allocati...</td>\n",
       "      <td>The Central Bank of Nigeria (CBN) on Sunday an...</td>\n",
       "      <td>business</td>\n",
       "    </tr>\n",
       "    <tr>\n",
       "      <th>3</th>\n",
       "      <td>Nigeria to Set Up Fund to Cover 83m Poor Citiz...</td>\n",
       "      <td>President Muhammadu Buhari has signed into law...</td>\n",
       "      <td>health</td>\n",
       "    </tr>\n",
       "    <tr>\n",
       "      <th>4</th>\n",
       "      <td>World Bank Revises Sub-Saharan Africa’s Growth...</td>\n",
       "      <td>The World Bank has revised its growth forecast...</td>\n",
       "      <td>business</td>\n",
       "    </tr>\n",
       "  </tbody>\n",
       "</table>\n",
       "</div>"
      ],
      "text/plain": [
       "                                               Title  \\\n",
       "0  Nigeria: Cross River Governor Ayade Dumps PDP ...   \n",
       "1  Electoral Bill: Nigeria Senate Mobilises to Ov...   \n",
       "2  Nigeria: Central Bank Increases Forex Allocati...   \n",
       "3  Nigeria to Set Up Fund to Cover 83m Poor Citiz...   \n",
       "4  World Bank Revises Sub-Saharan Africa’s Growth...   \n",
       "\n",
       "                                             Excerpt  Category  \n",
       "0  Cross River State Governor, Ben Ayade has defe...  politics  \n",
       "1  Nigerians have not heard the last of President...  politics  \n",
       "2  The Central Bank of Nigeria (CBN) on Sunday an...  business  \n",
       "3  President Muhammadu Buhari has signed into law...    health  \n",
       "4  The World Bank has revised its growth forecast...  business  "
      ]
     },
     "execution_count": 3,
     "metadata": {},
     "output_type": "execute_result"
    }
   ],
   "source": [
    "# concat two parts 'train' and 'test' at the one dataset\n",
    "real_news_by_categories = pd.concat([pd.DataFrame(dataset['test']), pd.DataFrame(dataset['train'])])\n",
    "print(real_news_by_categories.shape)\n",
    "real_news_by_categories.head()"
   ]
  },
  {
   "cell_type": "markdown",
   "metadata": {
    "id": "cChd8SR82x6o"
   },
   "source": [
    "Look at the examples:"
   ]
  },
  {
   "cell_type": "code",
   "execution_count": 4,
   "metadata": {
    "colab": {
     "base_uri": "https://localhost:8080/"
    },
    "execution": {
     "iopub.execute_input": "2023-04-28T15:25:55.913958Z",
     "iopub.status.busy": "2023-04-28T15:25:55.913958Z",
     "iopub.status.idle": "2023-04-28T15:25:55.922955Z",
     "shell.execute_reply": "2023-04-28T15:25:55.922955Z",
     "shell.execute_reply.started": "2023-04-28T15:25:55.913958Z"
    },
    "id": "PBD7JBNG36Qr",
    "outputId": "c5043ca6-4a14-4d40-eeeb-28c8cea09f0c"
   },
   "outputs": [
    {
     "data": {
      "text/plain": [
       "business         1492\n",
       "sports           1323\n",
       "politics         1263\n",
       "health            647\n",
       "entertainment     449\n",
       "tech              340\n",
       "Name: Category, dtype: int64"
      ]
     },
     "execution_count": 4,
     "metadata": {},
     "output_type": "execute_result"
    }
   ],
   "source": [
    "real_news_by_categories.Category.value_counts()"
   ]
  },
  {
   "cell_type": "code",
   "execution_count": 5,
   "metadata": {
    "colab": {
     "base_uri": "https://localhost:8080/"
    },
    "execution": {
     "iopub.execute_input": "2023-04-28T15:25:57.007955Z",
     "iopub.status.busy": "2023-04-28T15:25:57.007955Z",
     "iopub.status.idle": "2023-04-28T15:25:57.046954Z",
     "shell.execute_reply": "2023-04-28T15:25:57.046954Z",
     "shell.execute_reply.started": "2023-04-28T15:25:57.007955Z"
    },
    "id": "RDeMNqffuJje",
    "outputId": "5a339996-40b4-4b9f-ff87-097b16b407fa"
   },
   "outputs": [
    {
     "name": "stdout",
     "output_type": "stream",
     "text": [
      "********************POLITICS********************\n",
      "0\n",
      "Nigeria: Cross River Governor Ayade Dumps PDP for APC\n",
      "--------------------\n",
      "Cross River State Governor, Ben Ayade has defected from the People's Democratic Party to the governing All Progressives Congress (APC).\n",
      "\n",
      "1\n",
      "Electoral Bill: Nigeria Senate Mobilises to Override President’s Veto, House Defers Battle Till January\n",
      "--------------------\n",
      "Nigerians have not heard the last of President Muhammadu Buhari's refusal to assent to the 2021 Electoral Act (Amendment) Bill,\n",
      "\n",
      "2\n",
      "Putin Signs Law Paving Way to Rule Until 2036\n",
      "--------------------\n",
      "Russian President Vladimir Putin has signed a law allowing him to run for two more terms in the Kremlin once\n",
      "\n",
      "********************BUSINESS********************\n",
      "0\n",
      "Nigeria: Central Bank Increases Forex Allocation to Banks\n",
      "--------------------\n",
      "The Central Bank of Nigeria (CBN) on Sunday announced the increase of foreign exchange (forex) allocations to banks to meet\n",
      "\n",
      "1\n",
      "World Bank Revises Sub-Saharan Africa’s Growth Forecast to 3.4%\n",
      "--------------------\n",
      "The World Bank has revised its growth forecast for Sub-Saharan Africa (SSA) from -5.1 per cent to 3.4 per cent\n",
      "\n",
      "2\n",
      "New Petroleum Act: Nigeria Says No Immediate Removal of Petrol Subsidy\n",
      "--------------------\n",
      "Nigeria’s federal government has said it will not immediately end its current subsidy of petrol, saying it intends to manage\n",
      "\n",
      "********************HEALTH********************\n",
      "0\n",
      "Nigeria to Set Up Fund to Cover 83m Poor Citizens, as Buhari Signs National Health Authority Bill into Law\n",
      "--------------------\n",
      "President Muhammadu Buhari has signed into law the recently passed National Health Insurance Authority Bill 2022, which repealed the National\n",
      "\n",
      "1\n",
      "Nigeria, Others Losing $95bn in Productivity Due to Unsafe Food Intake\n",
      "--------------------\n",
      "Nigeria's federal government has said consumption of unsafe or contaminated food was causing the country and other low income economies\n",
      "\n",
      "2\n",
      "Merck Covid Pill’s Success Slams Moderna Shares, Shakes up Healthcare Sector\n",
      "--------------------\n",
      "Positive clinical trial results for Merck & Co's experimental antiviral COVID-19 pill reverberated through the healthcare sector on Friday, sending\n",
      "\n",
      "********************SPORTS********************\n",
      "0\n",
      "Former Champions Ghana, South Africa Set For AFCON Qualifiers Showdown in Johannesburg Thursday\n",
      "--------------------\n",
      "The biggest African match of the international window takes place in Johannesburg on Thursday, as 1996 champions South Africa face\n",
      "\n",
      "1\n",
      "Euro 2020: France, Portugal Advance as Ronaldo Ties International Goals Record in Draw\n",
      "--------------------\n",
      "Portugal's Cristiano Ronaldo tied the all-time men's record for international goals with a pair of penalties in a 2-2 draw\n",
      "\n",
      "2\n",
      "Abraham Scores Twice as Chelsea Thrash West Ham  3-0\n",
      "--------------------\n",
      "Tammy Abraham scored twice on Monday as Chelsea ended their recent mini-slump by beating West Ham United at Stamford Bridge\n",
      "\n",
      "********************TECH********************\n",
      "0\n",
      "Tesla Loses Third of Its Value for the Third Time in A Year\n",
      "--------------------\n",
      "Tesla Inc’s stock extended losses on Monday and is now down by a third from its January record high, making\n",
      "\n",
      "1\n",
      "Buzzfeed Acquires HuffPost from Verizon Wireless\n",
      "--------------------\n",
      "HuffPost has a new owner, with its current parent company Verizon Media reaching an agreement to sell the site to\n",
      "\n",
      "2\n",
      "Facebook Freezes Venezuela President Maduro’s Page Over Covid Misinformation\n",
      "--------------------\n",
      "Facebook has frozen Venezuelan President Nicolas Maduro’s page for violating policies against spreading misinformation about COVID-19 by promoting a remedy\n",
      "\n",
      "********************ENTERTAINMENT********************\n",
      "0\n",
      "Disney Focuses More on Streaming Amid Cinema Closures\n",
      "--------------------\n",
      "The Walt Disney Company is reorganizing its media and entertainment businesses amid the economic turmoil caused by the coronavirus pandemic.\n",
      "\n",
      "1\n",
      "Fireboy DML Announces ‘The Fire Concert’ for January 2022\n",
      "--------------------\n",
      "Multiple award-winning Aftobeats artiste Fireboy DML has announced his first ever headline concert tagged “The Fire Concert”. The concert is\n",
      "\n",
      "2\n",
      "Nigeria’s ‘Eyimofe’ to Screen at 50th anniversary of ND/NF Festival in New York\n",
      "--------------------\n",
      "The Nigerian film 'Eyimofe (This Is My Desire)’ has been selected to screen at the 50th-anniversary edition of the New Directors/New\n",
      "\n"
     ]
    }
   ],
   "source": [
    "for category in real_news_by_categories.Category.unique():\n",
    "    print('*'*20 + category.upper() + '*'*20)\n",
    "    for i in range(3):\n",
    "        print(i)\n",
    "        print(real_news_by_categories[real_news_by_categories['Category']==category]['Title'].iloc[i])\n",
    "        print('-'*20)\n",
    "        print(real_news_by_categories[real_news_by_categories['Category']==category]['Excerpt'].iloc[i])\n",
    "        print()"
   ]
  },
  {
   "cell_type": "markdown",
   "metadata": {
    "id": "RKhKVAu85ZU6"
   },
   "source": [
    "Let's leave only the 'Title' and divide them into categories:"
   ]
  },
  {
   "cell_type": "code",
   "execution_count": 6,
   "metadata": {
    "execution": {
     "iopub.execute_input": "2023-04-28T15:26:00.187718Z",
     "iopub.status.busy": "2023-04-28T15:26:00.187718Z",
     "iopub.status.idle": "2023-04-28T15:26:00.199226Z",
     "shell.execute_reply": "2023-04-28T15:26:00.199226Z",
     "shell.execute_reply.started": "2023-04-28T15:26:00.187718Z"
    },
    "id": "QvsuRlcquLGF"
   },
   "outputs": [],
   "source": [
    "series_by_categories = {}\n",
    "\n",
    "for category in real_news_by_categories.Category.unique():\n",
    "    series_by_categories[category] = real_news_by_categories[real_news_by_categories['Category']==category]['Title'].reset_index(drop=True)"
   ]
  },
  {
   "cell_type": "markdown",
   "metadata": {
    "id": "vBNYGa3C7W3y",
    "jp-MarkdownHeadingCollapsed": true,
    "tags": []
   },
   "source": [
    "# Dataset 2 https://www.kaggle.com/datasets/ambityga/covid19misinformation"
   ]
  },
  {
   "cell_type": "markdown",
   "metadata": {
    "id": "H0cjCbTH7ptk"
   },
   "source": [
    "DESCRIPTION\n",
    "\n",
    "The dataset has been scraped from Poynter - Covid19. These data are labeled by #CoronaVirusFacts Alliance, across 70+ countries in 40+ languages."
   ]
  },
  {
   "cell_type": "code",
   "execution_count": 9,
   "metadata": {
    "colab": {
     "base_uri": "https://localhost:8080/",
     "height": 143
    },
    "execution": {
     "iopub.execute_input": "2023-04-28T15:27:17.461957Z",
     "iopub.status.busy": "2023-04-28T15:27:17.461957Z",
     "iopub.status.idle": "2023-04-28T15:27:17.495971Z",
     "shell.execute_reply": "2023-04-28T15:27:17.495971Z",
     "shell.execute_reply.started": "2023-04-28T15:27:17.461957Z"
    },
    "id": "82hygXdFn45S",
    "outputId": "9a90c006-d09f-4a17-d884-80923e07945e",
    "tags": []
   },
   "outputs": [
    {
     "data": {
      "text/html": [
       "<div>\n",
       "<style scoped>\n",
       "    .dataframe tbody tr th:only-of-type {\n",
       "        vertical-align: middle;\n",
       "    }\n",
       "\n",
       "    .dataframe tbody tr th {\n",
       "        vertical-align: top;\n",
       "    }\n",
       "\n",
       "    .dataframe thead th {\n",
       "        text-align: right;\n",
       "    }\n",
       "</style>\n",
       "<table border=\"1\" class=\"dataframe\">\n",
       "  <thead>\n",
       "    <tr style=\"text-align: right;\">\n",
       "      <th></th>\n",
       "      <th>label</th>\n",
       "      <th>text</th>\n",
       "    </tr>\n",
       "  </thead>\n",
       "  <tbody>\n",
       "    <tr>\n",
       "      <th>0</th>\n",
       "      <td>misleading</td>\n",
       "      <td>A post that has a list of recommendations to ...</td>\n",
       "    </tr>\n",
       "    <tr>\n",
       "      <th>1</th>\n",
       "      <td>false</td>\n",
       "      <td>The first person to received a Chinese COVID-...</td>\n",
       "    </tr>\n",
       "    <tr>\n",
       "      <th>2</th>\n",
       "      <td>false</td>\n",
       "      <td>A video from family doctor Natalia Prego Canc...</td>\n",
       "    </tr>\n",
       "  </tbody>\n",
       "</table>\n",
       "</div>"
      ],
      "text/plain": [
       "        label                                               text\n",
       "0  misleading   A post that has a list of recommendations to ...\n",
       "1       false   The first person to received a Chinese COVID-...\n",
       "2       false   A video from family doctor Natalia Prego Canc..."
      ]
     },
     "execution_count": 9,
     "metadata": {},
     "output_type": "execute_result"
    }
   ],
   "source": [
    "# https://www.kaggle.com/datasets/ambityga/covid19misinformation\n",
    "covid_fake = pd.read_csv('./dataset/poynter_data.csv')\n",
    "covid_fake.head(3)"
   ]
  },
  {
   "cell_type": "code",
   "execution_count": 10,
   "metadata": {
    "colab": {
     "base_uri": "https://localhost:8080/"
    },
    "execution": {
     "iopub.execute_input": "2023-04-28T15:27:21.429751Z",
     "iopub.status.busy": "2023-04-28T15:27:21.428755Z",
     "iopub.status.idle": "2023-04-28T15:27:21.446919Z",
     "shell.execute_reply": "2023-04-28T15:27:21.446919Z",
     "shell.execute_reply.started": "2023-04-28T15:27:21.429751Z"
    },
    "id": "kGz4BTe2n47m",
    "outputId": "94d735ba-0066-4964-bb89-12a187d69993"
   },
   "outputs": [
    {
     "data": {
      "text/plain": [
       "false         6315\n",
       "misleading    1159\n",
       "true            70\n",
       "Name: label, dtype: int64"
      ]
     },
     "execution_count": 10,
     "metadata": {},
     "output_type": "execute_result"
    }
   ],
   "source": [
    "covid_fake.label.value_counts()"
   ]
  },
  {
   "cell_type": "code",
   "execution_count": 11,
   "metadata": {
    "colab": {
     "base_uri": "https://localhost:8080/"
    },
    "execution": {
     "iopub.execute_input": "2023-04-28T15:27:22.981058Z",
     "iopub.status.busy": "2023-04-28T15:27:22.981058Z",
     "iopub.status.idle": "2023-04-28T15:27:23.000060Z",
     "shell.execute_reply": "2023-04-28T15:27:23.000060Z",
     "shell.execute_reply.started": "2023-04-28T15:27:22.981058Z"
    },
    "id": "RmRYpZGg8U4q",
    "outputId": "d020cbf6-acfc-48dc-e1b0-35f69b8abbf2"
   },
   "outputs": [
    {
     "name": "stdout",
     "output_type": "stream",
     "text": [
      "********************MISLEADING********************\n",
      "0\n",
      " A post that has a list of recommendations to prevent and treat the new coronavirus.\n",
      "\n",
      "1\n",
      " A post that indicates that Spanish doctors say that face masks don’t work outdoors.\n",
      "\n",
      "2\n",
      " A picture showing the Italian Prime Minister Giuseppe Conte, the French President Emmanuel Macron and the German Chancellor Angela Merkel having a drink together, with no masks and not respecting social distancing measures.\n",
      "\n",
      "********************FALSE********************\n",
      "0\n",
      " The first person to received a Chinese COVID-19 vaccine that is being tested in Brazil was not actually vaccinated. The video was just a simulation, since the cap of the injection was still on.\n",
      "\n",
      "1\n",
      " A video from family doctor Natalia Prego Cancel criticizing PCR, the test used to detect coronavirus in active infections.\n",
      "\n",
      "2\n",
      " RNA-based COVID-19 vaccines can turn humans into genetically modified organisms.\n",
      "\n",
      "********************TRUE********************\n",
      "0\n",
      " The supposed phrase of the daughter of the president of Banco Santander in Portugal, who died of coronavirus, in which she says: ‘We are a millionaire family, but my father died alone and suffocated, looking for something as simple as air. The money stayed at home”.\n",
      "\n",
      "1\n",
      " Smokers are less likely to be hospitalized for the coronavirus.\n",
      "\n",
      "2\n",
      " A photo of the room of a hotel in Almería, Spain in which 70 immigrants are accommodated and where medical equipment is seen.\n",
      "\n"
     ]
    }
   ],
   "source": [
    "for category in covid_fake['label'].unique():\n",
    "    print('*'*20 + category.upper() + '*'*20)\n",
    "    for i in range(3):\n",
    "        print(i)\n",
    "        print(covid_fake[covid_fake['label']==category]['text'].iloc[i])\n",
    "        print()"
   ]
  },
  {
   "cell_type": "code",
   "execution_count": 12,
   "metadata": {
    "execution": {
     "iopub.execute_input": "2023-04-28T15:27:28.103170Z",
     "iopub.status.busy": "2023-04-28T15:27:28.103170Z",
     "iopub.status.idle": "2023-04-28T15:27:28.122169Z",
     "shell.execute_reply": "2023-04-28T15:27:28.122169Z",
     "shell.execute_reply.started": "2023-04-28T15:27:28.103170Z"
    },
    "id": "MFmxtjH19EGR"
   },
   "outputs": [],
   "source": [
    "covid_news_by_categories = {}\n",
    "\n",
    "for category in covid_fake.label.unique():\n",
    "    covid_news_by_categories[category] = covid_fake[covid_fake['label']==category]['text'].reset_index(drop=True)"
   ]
  },
  {
   "cell_type": "markdown",
   "metadata": {
    "id": "slkUvEQ29cSY",
    "jp-MarkdownHeadingCollapsed": true,
    "tags": []
   },
   "source": [
    "# Dataset 3 https://www.kaggle.com/datasets/algord/fake-news"
   ]
  },
  {
   "cell_type": "markdown",
   "metadata": {},
   "source": [
    "File contains information about news articles.\n",
    "Format: CSV.\n",
    "\n",
    "title: title of the article.\n",
    "\n",
    "news_url: URL of the article.\n",
    "\n",
    "source domain: web domain where article was posted.\n",
    "\n",
    "tweet_num: number of retweets for this article.\n",
    "\n",
    "real: label column, where 1 is real and 0 is fake."
   ]
  },
  {
   "cell_type": "code",
   "execution_count": 20,
   "metadata": {
    "colab": {
     "base_uri": "https://localhost:8080/",
     "height": 143
    },
    "execution": {
     "iopub.execute_input": "2023-04-28T15:36:50.127954Z",
     "iopub.status.busy": "2023-04-28T15:36:50.126958Z",
     "iopub.status.idle": "2023-04-28T15:36:50.181265Z",
     "shell.execute_reply": "2023-04-28T15:36:50.181265Z",
     "shell.execute_reply.started": "2023-04-28T15:36:50.127954Z"
    },
    "id": "sqtuAJ9nrKI9",
    "outputId": "b896a400-1708-415b-820b-dbff8173e5f9",
    "tags": []
   },
   "outputs": [
    {
     "data": {
      "text/html": [
       "<div>\n",
       "<style scoped>\n",
       "    .dataframe tbody tr th:only-of-type {\n",
       "        vertical-align: middle;\n",
       "    }\n",
       "\n",
       "    .dataframe tbody tr th {\n",
       "        vertical-align: top;\n",
       "    }\n",
       "\n",
       "    .dataframe thead th {\n",
       "        text-align: right;\n",
       "    }\n",
       "</style>\n",
       "<table border=\"1\" class=\"dataframe\">\n",
       "  <thead>\n",
       "    <tr style=\"text-align: right;\">\n",
       "      <th></th>\n",
       "      <th>title</th>\n",
       "      <th>news_url</th>\n",
       "      <th>source_domain</th>\n",
       "      <th>tweet_num</th>\n",
       "      <th>real</th>\n",
       "    </tr>\n",
       "  </thead>\n",
       "  <tbody>\n",
       "    <tr>\n",
       "      <th>0</th>\n",
       "      <td>Kandi Burruss Explodes Over Rape Accusation on...</td>\n",
       "      <td>http://toofab.com/2017/05/08/real-housewives-a...</td>\n",
       "      <td>toofab.com</td>\n",
       "      <td>42</td>\n",
       "      <td>1</td>\n",
       "    </tr>\n",
       "    <tr>\n",
       "      <th>1</th>\n",
       "      <td>People's Choice Awards 2018: The best red carp...</td>\n",
       "      <td>https://www.today.com/style/see-people-s-choic...</td>\n",
       "      <td>www.today.com</td>\n",
       "      <td>0</td>\n",
       "      <td>1</td>\n",
       "    </tr>\n",
       "    <tr>\n",
       "      <th>2</th>\n",
       "      <td>Sophia Bush Sends Sweet Birthday Message to 'O...</td>\n",
       "      <td>https://www.etonline.com/news/220806_sophia_bu...</td>\n",
       "      <td>www.etonline.com</td>\n",
       "      <td>63</td>\n",
       "      <td>1</td>\n",
       "    </tr>\n",
       "  </tbody>\n",
       "</table>\n",
       "</div>"
      ],
      "text/plain": [
       "                                               title  \\\n",
       "0  Kandi Burruss Explodes Over Rape Accusation on...   \n",
       "1  People's Choice Awards 2018: The best red carp...   \n",
       "2  Sophia Bush Sends Sweet Birthday Message to 'O...   \n",
       "\n",
       "                                            news_url     source_domain  \\\n",
       "0  http://toofab.com/2017/05/08/real-housewives-a...        toofab.com   \n",
       "1  https://www.today.com/style/see-people-s-choic...     www.today.com   \n",
       "2  https://www.etonline.com/news/220806_sophia_bu...  www.etonline.com   \n",
       "\n",
       "   tweet_num  real  \n",
       "0         42     1  \n",
       "1          0     1  \n",
       "2         63     1  "
      ]
     },
     "execution_count": 20,
     "metadata": {},
     "output_type": "execute_result"
    }
   ],
   "source": [
    "# https://www.kaggle.com/datasets/algord/fake-news\n",
    "fakenewsnet = pd.read_csv('./dataset/FakeNewsNet.csv')\n",
    "fakenewsnet.head(3)"
   ]
  },
  {
   "cell_type": "code",
   "execution_count": 21,
   "metadata": {
    "execution": {
     "iopub.execute_input": "2023-04-28T15:36:51.014063Z",
     "iopub.status.busy": "2023-04-28T15:36:51.014063Z",
     "iopub.status.idle": "2023-04-28T15:36:51.038061Z",
     "shell.execute_reply": "2023-04-28T15:36:51.038061Z",
     "shell.execute_reply.started": "2023-04-28T15:36:51.014063Z"
    },
    "tags": []
   },
   "outputs": [
    {
     "name": "stdout",
     "output_type": "stream",
     "text": [
      "********************REAL********************\n",
      "0\n",
      "Kandi Burruss Explodes Over Rape Accusation on 'Real Housewives of Atlanta' Reunion (Video)\n",
      "\n",
      "1\n",
      "People's Choice Awards 2018: The best red carpet looks\n",
      "\n",
      "2\n",
      "Sophia Bush Sends Sweet Birthday Message to 'One Tree Hill' Co-Star Hilarie Burton: 'Breyton 4eva'\n",
      "\n",
      "********************FAKE********************\n",
      "0\n",
      "Gwen Stefani Got Dumped by Blake Shelton Over \"Jealousy and Drama\" (EXCLUSIVE)\n",
      "\n",
      "1\n",
      "Broward County Sheriff Fired For Lying About Parkland\n",
      "\n",
      "2\n",
      "Amber Rose Shuts Down French Montana Dating Rumors, Calls Rapper Her 'Bruvaaa'\n",
      "\n"
     ]
    }
   ],
   "source": [
    "for label in fakenewsnet['real'].unique():\n",
    "    print('*'*20 + ('REAL' if label==1 else 'FAKE') + '*'*20)\n",
    "    for i in range(3):\n",
    "        print(i)\n",
    "        print(fakenewsnet[fakenewsnet['real']==label]['title'].iloc[i])\n",
    "        print()"
   ]
  },
  {
   "cell_type": "code",
   "execution_count": 22,
   "metadata": {
    "execution": {
     "iopub.execute_input": "2023-04-28T15:37:44.799967Z",
     "iopub.status.busy": "2023-04-28T15:37:44.799967Z",
     "iopub.status.idle": "2023-04-28T15:37:44.811961Z",
     "shell.execute_reply": "2023-04-28T15:37:44.811961Z",
     "shell.execute_reply.started": "2023-04-28T15:37:44.799967Z"
    }
   },
   "outputs": [
    {
     "data": {
      "text/plain": [
       "1    17441\n",
       "0     5755\n",
       "Name: real, dtype: int64"
      ]
     },
     "execution_count": 22,
     "metadata": {},
     "output_type": "execute_result"
    }
   ],
   "source": [
    "fakenewsnet.real.value_counts()"
   ]
  },
  {
   "cell_type": "markdown",
   "metadata": {},
   "source": [
    "Let's leave some of the real news:"
   ]
  },
  {
   "cell_type": "code",
   "execution_count": 29,
   "metadata": {
    "colab": {
     "base_uri": "https://localhost:8080/"
    },
    "execution": {
     "iopub.execute_input": "2023-04-28T15:50:53.740961Z",
     "iopub.status.busy": "2023-04-28T15:50:53.740961Z",
     "iopub.status.idle": "2023-04-28T15:50:53.762470Z",
     "shell.execute_reply": "2023-04-28T15:50:53.762470Z",
     "shell.execute_reply.started": "2023-04-28T15:50:53.740961Z"
    },
    "id": "nXYWTp54TNX3",
    "outputId": "4d3ac9dd-f432-4ffc-affe-19c51aeb8edd",
    "tags": []
   },
   "outputs": [
    {
     "data": {
      "text/plain": [
       "0       Kim Kardashian Thanks Trump After Alice Johnso...\n",
       "1       Eva Longoria Lists Her $3.8 Million Hollywood ...\n",
       "2                                         Contact Support\n",
       "3       Hollywood speaks out against director James To...\n",
       "4       Kirsten Dunst continues to have strong opinion...\n",
       "                              ...                        \n",
       "5301       Pendants, Hanging Lights & Lamps at Lumens.com\n",
       "5302                                Demi-Leigh Nel-Peters\n",
       "5303                                   Inside Amy Schumer\n",
       "5304    'The Voice' Coach Kelly Clarkson Whispered a S...\n",
       "5305    SELENA GOMEZ SLAMS ‘BEAUTY MYTH’ IN INSTAGRAM ...\n",
       "Name: title, Length: 5306, dtype: object"
      ]
     },
     "execution_count": 29,
     "metadata": {},
     "output_type": "execute_result"
    }
   ],
   "source": [
    "real_entertainment = fakenewsnet[fakenewsnet['real']==1]['title'].sample(5306).reset_index(drop=True)\n",
    "real_entertainment"
   ]
  },
  {
   "cell_type": "code",
   "execution_count": 30,
   "metadata": {
    "colab": {
     "base_uri": "https://localhost:8080/"
    },
    "execution": {
     "iopub.execute_input": "2023-04-28T15:50:59.776331Z",
     "iopub.status.busy": "2023-04-28T15:50:59.775331Z",
     "iopub.status.idle": "2023-04-28T15:50:59.797328Z",
     "shell.execute_reply": "2023-04-28T15:50:59.797328Z",
     "shell.execute_reply.started": "2023-04-28T15:50:59.776331Z"
    },
    "id": "zeAC6nLIWHxN",
    "outputId": "f2f15531-0c5f-45dd-885a-35584520c3f8",
    "tags": []
   },
   "outputs": [
    {
     "data": {
      "text/plain": [
       "0       Gwen Stefani Got Dumped by Blake Shelton Over ...\n",
       "1       Broward County Sheriff Fired For Lying About P...\n",
       "2       Amber Rose Shuts Down French Montana Dating Ru...\n",
       "3       Mel Gibson: Hollywood Pedophiles Have Nowhere ...\n",
       "4       5 Reasons Why Tarek El Moussa Will Overcome Hi...\n",
       "                              ...                        \n",
       "5750    Holy Smokes, Batman! Ben Affleck Looks A Littl...\n",
       "5751                                  flashnewscorner.com\n",
       "5752    Caitlyn Jenner considering ‘de-transitioning’ ...\n",
       "5753    Zayn Malik & Gigi Hadid’s Shocking Split: Why ...\n",
       "5754    Tristan Thompson Feels \"Dumped\" After Khloé Ka...\n",
       "Name: title, Length: 5755, dtype: object"
      ]
     },
     "execution_count": 30,
     "metadata": {},
     "output_type": "execute_result"
    }
   ],
   "source": [
    "fake_entertainment = fakenewsnet[fakenewsnet['real']==0]['title'].reset_index(drop=True)\n",
    "fake_entertainment"
   ]
  },
  {
   "cell_type": "markdown",
   "metadata": {
    "jp-MarkdownHeadingCollapsed": true,
    "tags": []
   },
   "source": [
    "# Dataset 4 https://www.kaggle.com/datasets/shawkyelgendy/fake-news-football?select=real.csv"
   ]
  },
  {
   "cell_type": "markdown",
   "metadata": {},
   "source": [
    "DESCRITION\n",
    "\n",
    "The dataset contains 20,000 real news and 20,000 fake news\n",
    "\n",
    "The dataset is collected from Twitter and Youm7"
   ]
  },
  {
   "cell_type": "code",
   "execution_count": 110,
   "metadata": {
    "colab": {
     "base_uri": "https://localhost:8080/",
     "height": 143
    },
    "execution": {
     "iopub.execute_input": "2023-04-28T19:03:04.406466Z",
     "iopub.status.busy": "2023-04-28T19:03:04.406466Z",
     "iopub.status.idle": "2023-04-28T19:03:04.438986Z",
     "shell.execute_reply": "2023-04-28T19:03:04.438986Z",
     "shell.execute_reply.started": "2023-04-28T19:03:04.406466Z"
    },
    "id": "wnKAUYkZrhkh",
    "outputId": "5a826331-b5b3-4f6b-81f3-7e41cd5f67e2",
    "tags": []
   },
   "outputs": [
    {
     "data": {
      "text/html": [
       "<div>\n",
       "<style scoped>\n",
       "    .dataframe tbody tr th:only-of-type {\n",
       "        vertical-align: middle;\n",
       "    }\n",
       "\n",
       "    .dataframe tbody tr th {\n",
       "        vertical-align: top;\n",
       "    }\n",
       "\n",
       "    .dataframe thead th {\n",
       "        text-align: right;\n",
       "    }\n",
       "</style>\n",
       "<table border=\"1\" class=\"dataframe\">\n",
       "  <thead>\n",
       "    <tr style=\"text-align: right;\">\n",
       "      <th></th>\n",
       "      <th>tweet</th>\n",
       "    </tr>\n",
       "  </thead>\n",
       "  <tbody>\n",
       "    <tr>\n",
       "      <th>0</th>\n",
       "      <td>the tongue of his condition, now i saw things ...</td>\n",
       "    </tr>\n",
       "    <tr>\n",
       "      <th>1</th>\n",
       "      <td>by god the great, after i saw the derby of wyd...</td>\n",
       "    </tr>\n",
       "    <tr>\n",
       "      <th>2</th>\n",
       "      <td>believe in god, this zamalek fans are as good ...</td>\n",
       "    </tr>\n",
       "  </tbody>\n",
       "</table>\n",
       "</div>"
      ],
      "text/plain": [
       "                                               tweet\n",
       "0  the tongue of his condition, now i saw things ...\n",
       "1  by god the great, after i saw the derby of wyd...\n",
       "2  believe in god, this zamalek fans are as good ..."
      ]
     },
     "execution_count": 110,
     "metadata": {},
     "output_type": "execute_result"
    }
   ],
   "source": [
    "# https://www.kaggle.com/datasets/shawkyelgendy/fake-news-football?select=real.csv\n",
    "football_fake = pd.read_csv('./dataset/fake.csv')\n",
    "football_fake.head(3)"
   ]
  },
  {
   "cell_type": "code",
   "execution_count": 111,
   "metadata": {
    "colab": {
     "base_uri": "https://localhost:8080/",
     "height": 143
    },
    "execution": {
     "iopub.execute_input": "2023-04-28T19:03:04.798284Z",
     "iopub.status.busy": "2023-04-28T19:03:04.797283Z",
     "iopub.status.idle": "2023-04-28T19:03:04.846316Z",
     "shell.execute_reply": "2023-04-28T19:03:04.846316Z",
     "shell.execute_reply.started": "2023-04-28T19:03:04.798284Z"
    },
    "id": "W6txRViNsK57",
    "outputId": "f8ed1601-5d41-4238-a79a-5dfe469e8d0a",
    "tags": []
   },
   "outputs": [
    {
     "data": {
      "text/html": [
       "<div>\n",
       "<style scoped>\n",
       "    .dataframe tbody tr th:only-of-type {\n",
       "        vertical-align: middle;\n",
       "    }\n",
       "\n",
       "    .dataframe tbody tr th {\n",
       "        vertical-align: top;\n",
       "    }\n",
       "\n",
       "    .dataframe thead th {\n",
       "        text-align: right;\n",
       "    }\n",
       "</style>\n",
       "<table border=\"1\" class=\"dataframe\">\n",
       "  <thead>\n",
       "    <tr style=\"text-align: right;\">\n",
       "      <th></th>\n",
       "      <th>tweet</th>\n",
       "    </tr>\n",
       "  </thead>\n",
       "  <tbody>\n",
       "    <tr>\n",
       "      <th>0</th>\n",
       "      <td>sun downs technical director: al-ahly respecte...</td>\n",
       "    </tr>\n",
       "    <tr>\n",
       "      <th>1</th>\n",
       "      <td>shawky gharib after the tie with enppi: our go...</td>\n",
       "    </tr>\n",
       "    <tr>\n",
       "      <th>2</th>\n",
       "      <td>egyptian sports news today, wednesday 1/25/202...</td>\n",
       "    </tr>\n",
       "  </tbody>\n",
       "</table>\n",
       "</div>"
      ],
      "text/plain": [
       "                                               tweet\n",
       "0  sun downs technical director: al-ahly respecte...\n",
       "1  shawky gharib after the tie with enppi: our go...\n",
       "2  egyptian sports news today, wednesday 1/25/202..."
      ]
     },
     "execution_count": 111,
     "metadata": {},
     "output_type": "execute_result"
    }
   ],
   "source": [
    "football_real = pd.read_csv('./dataset/real.csv')\n",
    "football_real.head(3)"
   ]
  },
  {
   "cell_type": "code",
   "execution_count": 112,
   "metadata": {
    "colab": {
     "base_uri": "https://localhost:8080/"
    },
    "execution": {
     "iopub.execute_input": "2023-04-28T19:03:05.400713Z",
     "iopub.status.busy": "2023-04-28T19:03:05.400713Z",
     "iopub.status.idle": "2023-04-28T19:03:05.410710Z",
     "shell.execute_reply": "2023-04-28T19:03:05.410710Z",
     "shell.execute_reply.started": "2023-04-28T19:03:05.400713Z"
    },
    "id": "e7v716JesQT6",
    "outputId": "e6d42038-85dc-425b-9f73-cd89c2825e9a",
    "tags": []
   },
   "outputs": [
    {
     "data": {
      "text/plain": [
       "(21869, 1)"
      ]
     },
     "execution_count": 112,
     "metadata": {},
     "output_type": "execute_result"
    }
   ],
   "source": [
    "football_real.shape"
   ]
  },
  {
   "cell_type": "code",
   "execution_count": 113,
   "metadata": {
    "colab": {
     "base_uri": "https://localhost:8080/"
    },
    "execution": {
     "iopub.execute_input": "2023-04-28T19:03:05.811956Z",
     "iopub.status.busy": "2023-04-28T19:03:05.811956Z",
     "iopub.status.idle": "2023-04-28T19:03:05.815962Z",
     "shell.execute_reply": "2023-04-28T19:03:05.815962Z",
     "shell.execute_reply.started": "2023-04-28T19:03:05.811956Z"
    },
    "id": "UfUtSseYsXJS",
    "outputId": "edb07618-84ae-4a8d-fe71-70a18dbd9211",
    "tags": []
   },
   "outputs": [
    {
     "data": {
      "text/plain": [
       "(19999, 1)"
      ]
     },
     "execution_count": 113,
     "metadata": {},
     "output_type": "execute_result"
    }
   ],
   "source": [
    "football_fake.shape"
   ]
  },
  {
   "cell_type": "code",
   "execution_count": 114,
   "metadata": {
    "execution": {
     "iopub.execute_input": "2023-04-28T19:03:06.246345Z",
     "iopub.status.busy": "2023-04-28T19:03:06.246345Z",
     "iopub.status.idle": "2023-04-28T19:03:06.266341Z",
     "shell.execute_reply": "2023-04-28T19:03:06.266341Z",
     "shell.execute_reply.started": "2023-04-28T19:03:06.246345Z"
    },
    "id": "Q5TTVaAAWdQ4",
    "tags": []
   },
   "outputs": [
    {
     "name": "stdout",
     "output_type": "stream",
     "text": [
      "********************REAL********************\n",
      "0\n",
      "sun downs technical director: al-ahly respected us and played to win\n",
      "\n",
      "********************REAL********************\n",
      "1\n",
      "shawky gharib after the tie with enppi: our goal is to return to the golden square\n",
      "\n",
      "********************REAL********************\n",
      "2\n",
      "egyptian sports news today, wednesday 1/25/2023, which is many important sports news, including the appointment of baba vassiliou as technical director of the national bank.\n",
      "\n",
      "********************FAKE********************\n",
      "0\n",
      "the tongue of his condition, now i saw things that confused you, shame on you, i am not young haha # tarek_hamed_tafah_kila \n",
      "\n",
      "********************FAKE********************\n",
      "1\n",
      "by god the great, after i saw the derby of wydad and al-raja al-maghribi about the beauty of the audience and the sweetness of the crowd, i would like to tell you that we are in another place. a thousand million congratulations to everyone who was the reason for preventing the fans from entering. you succeeded in poverty in football in egypt.\n",
      "what is the derby?\n",
      "\n",
      "********************FAKE********************\n",
      "2\n",
      "believe in god, this zamalek fans are as good as this, i swear to god\n",
      "they celebrate us or as if they took africa\n",
      "\n"
     ]
    }
   ],
   "source": [
    "for i in range(3):\n",
    "    print('*'*20 + 'REAL' + '*'*20)\n",
    "    print(i)\n",
    "    print(football_real['tweet'].iloc[i])\n",
    "    print()\n",
    "    \n",
    "for i in range(3):\n",
    "    print('*'*20 + 'FAKE' + '*'*20)\n",
    "    print(i)\n",
    "    print(football_fake['tweet'].iloc[i])\n",
    "    print()"
   ]
  },
  {
   "cell_type": "code",
   "execution_count": 115,
   "metadata": {
    "execution": {
     "iopub.execute_input": "2023-04-28T19:03:06.787967Z",
     "iopub.status.busy": "2023-04-28T19:03:06.786968Z",
     "iopub.status.idle": "2023-04-28T19:03:06.799966Z",
     "shell.execute_reply": "2023-04-28T19:03:06.799966Z",
     "shell.execute_reply.started": "2023-04-28T19:03:06.787967Z"
    },
    "id": "68wRTMEaWdTH",
    "tags": []
   },
   "outputs": [],
   "source": [
    "football_real = football_real.sample(5677).reset_index(drop=True)\n",
    "football_fake = football_fake.sample(7000).reset_index(drop=True)"
   ]
  },
  {
   "cell_type": "markdown",
   "metadata": {
    "jp-MarkdownHeadingCollapsed": true,
    "tags": []
   },
   "source": [
    "# Dataset 5 https://huggingface.co/datasets/newspop"
   ]
  },
  {
   "cell_type": "markdown",
   "metadata": {},
   "source": [
    "Dataset Summary\n",
    "\n",
    "Social sharing data across Facebook, Google+ and LinkedIn for 100k news items on the topics of: economy, microsoft, obama and palestine."
   ]
  },
  {
   "cell_type": "code",
   "execution_count": 39,
   "metadata": {
    "colab": {
     "base_uri": "https://localhost:8080/",
     "height": 264,
     "referenced_widgets": [
      "a7e26e6825a94cd48a7f13a38525252b",
      "ff76c001625a4df7aa2a8dcb303d6c2b",
      "90bda2821d354fe8a335e06044eadeca",
      "167136f2a11043018cc6e1ad6890c875",
      "f4620093682d4f939530fc47bd8de529",
      "2499e28d627641c29459456e60be2507",
      "18bbc4701781448793864e6ef824ac4b",
      "323787e3ec9d4d48bbe3104b896f719a",
      "0e9bbbcc103f46139b1e2df6f2777212",
      "d37464b747d14354a9ac91f3f4cd4155",
      "5d6e660b338d4ea480097fccf05a26ba",
      "21a7bed4b5644214a7f756394f9ebf57",
      "a8727573f47244b8afa96ba0e211c605",
      "29be7a92c9234b74873709369fcbbfdb",
      "d5637abd9b834c809b4ef4266b89fad8",
      "d0e6cb426d404a73b041c2b23a6496c0",
      "52262c3b8c95468f8e2568f06acbe750",
      "4acd8bba24ff4eb8801c36e448bb1b48",
      "6e821d98fab54bc5bee0054967868883",
      "78ea8562bf514a61a209788c547374ed",
      "702ca484ee1d41988259d011a126e338",
      "3a8d30632e97444daef0510cc0070e3d",
      "38777242a0eb4241b6ced2198c8a1b1f",
      "009ff664c77e4df2ab170c5162575e09",
      "2d118324ddc4452ebcc92e1d5d3519e8",
      "3f6f33388bea4292807fa1f2e1de4bc6",
      "551aad824d5d4e4d8a856e46b11b7651",
      "c2f72b5111df499fa54807ff0290e92f",
      "ed8b3df44b87482da68515f62125b8cf",
      "0560e819d5234db0877cadc64af3b8f9",
      "b0166acfc8ea4a5ca81ac33eca0a8c63",
      "4aef2ab7daa74e01b5fc10cdd224ecad",
      "217b7fcb040643a5a6960dac63e9195f",
      "d919c569a65c43b5aedacfc8b6147277",
      "fb15437ffa6f41829b1dc6b18341d647",
      "d225c5eb63744c83aa5fe99a8787b6ee",
      "9c5dd396d0f94f7fbe81827a89d592c2",
      "0469d520b86a422992b4e3ea0fd21746",
      "958f8fbdb0074c269c0d3a9204161054",
      "1686472c512e4c66b29a9f6361eff5da",
      "4f796bfe388d41a694664fba54824d8f",
      "c3199da7523c4695a9fdfa528bb1f133",
      "e9349032ced54a86980a068c538b6380",
      "1ed07144cd264112882f04dd7b24f32b",
      "20275f612c6f4ca1bfeb66335ddf6bb2",
      "34cccb3e1c2f43cb9a656f30d2e9c4db",
      "33a445bf99534b13b504ba63470cea21",
      "03c6982991e945ec9d3d5c591accba96",
      "cf59be65a9354587ba2cf5fefcbecf6a",
      "2c3f99babaff44998afb3d0d9e35f94b",
      "e0ce9a07be734d87bf54845b8327c262",
      "948781a8f12b4dc2a9f8d0e4cf2669ed",
      "3dd3a0ddd0ce4402bfe482e0033f8402",
      "d68b3464bf274b4f898d29732e94fa1b",
      "880d0af798c5468aaebf8c3dab2d5986",
      "c4c88086211b473e95c16e01af4a371e",
      "598a598e46974d259169feb3bd3f59af",
      "dda69079d24a40fdb7e6ae5e7dda064f",
      "49062416df324f828386e9f93eb41f49",
      "19f8b97907484f868673689938c87d10",
      "0f7a7c514b2f41d1926b249fc204a696",
      "4e064102b539408697415185ef93720b",
      "26410c59ed2a4c1f8dc2c45866341dc0",
      "b5c0f7f04137426e87cd07606bbbc254",
      "5522aebcc246461aad4151e942a25e4b",
      "69ceae1142ec487abc672878456a9fcc"
     ]
    },
    "execution": {
     "iopub.execute_input": "2023-04-28T17:02:38.274051Z",
     "iopub.status.busy": "2023-04-28T17:02:38.274051Z",
     "iopub.status.idle": "2023-04-28T17:02:40.252963Z",
     "shell.execute_reply": "2023-04-28T17:02:40.252963Z",
     "shell.execute_reply.started": "2023-04-28T17:02:38.274051Z"
    },
    "id": "dU_v-QKUsilQ",
    "outputId": "e1906a0f-2edd-46d9-f4f6-0784193cbdb6",
    "tags": []
   },
   "outputs": [
    {
     "name": "stderr",
     "output_type": "stream",
     "text": [
      "Found cached dataset newspop (C:/Users/Home/.cache/huggingface/datasets/newspop/default/0.0.0/9904d4082ffd3c0953efa538ff926c43d27da8f37c9b5d6a13f51ab96740474e)\n"
     ]
    },
    {
     "data": {
      "application/vnd.jupyter.widget-view+json": {
       "model_id": "a98819bdfcbe473bb7bbf035b7a27520",
       "version_major": 2,
       "version_minor": 0
      },
      "text/plain": [
       "  0%|          | 0/1 [00:00<?, ?it/s]"
      ]
     },
     "metadata": {},
     "output_type": "display_data"
    },
    {
     "data": {
      "text/plain": [
       "DatasetDict({\n",
       "    train: Dataset({\n",
       "        features: ['id', 'title', 'headline', 'source', 'topic', 'publish_date', 'facebook', 'google_plus', 'linked_in'],\n",
       "        num_rows: 93239\n",
       "    })\n",
       "})"
      ]
     },
     "execution_count": 39,
     "metadata": {},
     "output_type": "execute_result"
    }
   ],
   "source": [
    "# https://huggingface.co/datasets/newspop\n",
    "dataset = load_dataset(\"newspop\")\n",
    "dataset"
   ]
  },
  {
   "cell_type": "code",
   "execution_count": 40,
   "metadata": {
    "colab": {
     "base_uri": "https://localhost:8080/",
     "height": 143
    },
    "execution": {
     "iopub.execute_input": "2023-04-28T17:04:32.583316Z",
     "iopub.status.busy": "2023-04-28T17:04:32.583316Z",
     "iopub.status.idle": "2023-04-28T17:04:36.225762Z",
     "shell.execute_reply": "2023-04-28T17:04:36.225762Z",
     "shell.execute_reply.started": "2023-04-28T17:04:32.583316Z"
    },
    "id": "HxxUQN1ZtBxx",
    "outputId": "bd9dfaa2-2a96-4f0e-ef47-a883d3e18d88"
   },
   "outputs": [
    {
     "data": {
      "text/html": [
       "<div>\n",
       "<style scoped>\n",
       "    .dataframe tbody tr th:only-of-type {\n",
       "        vertical-align: middle;\n",
       "    }\n",
       "\n",
       "    .dataframe tbody tr th {\n",
       "        vertical-align: top;\n",
       "    }\n",
       "\n",
       "    .dataframe thead th {\n",
       "        text-align: right;\n",
       "    }\n",
       "</style>\n",
       "<table border=\"1\" class=\"dataframe\">\n",
       "  <thead>\n",
       "    <tr style=\"text-align: right;\">\n",
       "      <th></th>\n",
       "      <th>id</th>\n",
       "      <th>title</th>\n",
       "      <th>headline</th>\n",
       "      <th>source</th>\n",
       "      <th>topic</th>\n",
       "      <th>publish_date</th>\n",
       "      <th>facebook</th>\n",
       "      <th>google_plus</th>\n",
       "      <th>linked_in</th>\n",
       "    </tr>\n",
       "  </thead>\n",
       "  <tbody>\n",
       "    <tr>\n",
       "      <th>0</th>\n",
       "      <td>99248</td>\n",
       "      <td>Obama Lays Wreath at Arlington National Cemetery</td>\n",
       "      <td>Obama Lays Wreath at Arlington National Cemete...</td>\n",
       "      <td>USA TODAY</td>\n",
       "      <td>obama</td>\n",
       "      <td>2002-04-02 00:00:00</td>\n",
       "      <td>-1</td>\n",
       "      <td>-1</td>\n",
       "      <td>-1</td>\n",
       "    </tr>\n",
       "    <tr>\n",
       "      <th>1</th>\n",
       "      <td>10423</td>\n",
       "      <td>A Look at the Health of the Chinese Economy</td>\n",
       "      <td>Tim Haywood, investment director business-unit...</td>\n",
       "      <td>Bloomberg</td>\n",
       "      <td>economy</td>\n",
       "      <td>2008-09-20 00:00:00</td>\n",
       "      <td>-1</td>\n",
       "      <td>-1</td>\n",
       "      <td>-1</td>\n",
       "    </tr>\n",
       "    <tr>\n",
       "      <th>2</th>\n",
       "      <td>18828</td>\n",
       "      <td>Nouriel Roubini: Global Economy Not Back to 2008</td>\n",
       "      <td>Nouriel Roubini, NYU professor and chairman at...</td>\n",
       "      <td>Bloomberg</td>\n",
       "      <td>economy</td>\n",
       "      <td>2012-01-28 00:00:00</td>\n",
       "      <td>-1</td>\n",
       "      <td>-1</td>\n",
       "      <td>-1</td>\n",
       "    </tr>\n",
       "  </tbody>\n",
       "</table>\n",
       "</div>"
      ],
      "text/plain": [
       "      id                                             title  \\\n",
       "0  99248  Obama Lays Wreath at Arlington National Cemetery   \n",
       "1  10423       A Look at the Health of the Chinese Economy   \n",
       "2  18828  Nouriel Roubini: Global Economy Not Back to 2008   \n",
       "\n",
       "                                            headline     source    topic  \\\n",
       "0  Obama Lays Wreath at Arlington National Cemete...  USA TODAY    obama   \n",
       "1  Tim Haywood, investment director business-unit...  Bloomberg  economy   \n",
       "2  Nouriel Roubini, NYU professor and chairman at...  Bloomberg  economy   \n",
       "\n",
       "          publish_date  facebook  google_plus  linked_in  \n",
       "0  2002-04-02 00:00:00        -1           -1         -1  \n",
       "1  2008-09-20 00:00:00        -1           -1         -1  \n",
       "2  2012-01-28 00:00:00        -1           -1         -1  "
      ]
     },
     "execution_count": 40,
     "metadata": {},
     "output_type": "execute_result"
    }
   ],
   "source": [
    "newspop = pd.DataFrame(dataset['train'])\n",
    "newspop.head(3)"
   ]
  },
  {
   "cell_type": "code",
   "execution_count": 42,
   "metadata": {
    "colab": {
     "base_uri": "https://localhost:8080/"
    },
    "execution": {
     "iopub.execute_input": "2023-04-28T17:04:42.085376Z",
     "iopub.status.busy": "2023-04-28T17:04:42.084380Z",
     "iopub.status.idle": "2023-04-28T17:04:42.111408Z",
     "shell.execute_reply": "2023-04-28T17:04:42.111408Z",
     "shell.execute_reply.started": "2023-04-28T17:04:42.084380Z"
    },
    "id": "eRnfjZBDtK9o",
    "outputId": "d44d154d-77bb-423b-fd80-91747a596fb1",
    "tags": []
   },
   "outputs": [
    {
     "data": {
      "text/plain": [
       "economy      33928\n",
       "obama        28610\n",
       "microsoft    21858\n",
       "palestine     8843\n",
       "Name: topic, dtype: int64"
      ]
     },
     "execution_count": 42,
     "metadata": {},
     "output_type": "execute_result"
    }
   ],
   "source": [
    "newspop.topic.value_counts()"
   ]
  },
  {
   "cell_type": "code",
   "execution_count": 45,
   "metadata": {
    "colab": {
     "base_uri": "https://localhost:8080/",
     "height": 424
    },
    "execution": {
     "iopub.execute_input": "2023-04-28T17:07:43.958858Z",
     "iopub.status.busy": "2023-04-28T17:07:43.958858Z",
     "iopub.status.idle": "2023-04-28T17:07:44.156885Z",
     "shell.execute_reply": "2023-04-28T17:07:44.156885Z",
     "shell.execute_reply.started": "2023-04-28T17:07:43.958858Z"
    },
    "id": "L_igvroG_6NL",
    "outputId": "78b2bd77-9549-4a15-850c-5d51d8aa375a",
    "tags": []
   },
   "outputs": [
    {
     "name": "stdout",
     "output_type": "stream",
     "text": [
      "********************OBAMA********************\n",
      "0\n",
      "Obama Lays Wreath at Arlington National Cemetery\n",
      "--------------------\n",
      "Obama Lays Wreath at Arlington National Cemetery. President Barack Obama has laid a wreath at the Tomb of the Unknowns to honor\n",
      "\n",
      "1\n",
      "Obama, stars pay a musical tribute to Ray Charles\n",
      "--------------------\n",
      "First lady Michelle Obama speaks in the State Dinning Room at the White House in Washington, Wednesday, Feb. 24, 2016, during an interactive student workshop on the musical legacy of Ray Charles , where students from 10 schools and community organizations from across the country participate as part of the &quot;In Performance at the White House&quot; series. \n",
      "\n",
      "2\n",
      "Obama encouraging young people to learn math, science\n",
      "--------------------\n",
      "President Barack Obama is launching a version of &quot;take your child to work day&quot; that's focused on America's science laboratories instead of its corporate workspaces. It's part of Obama's effort \n",
      "\n",
      "********************ECONOMY********************\n",
      "0\n",
      "A Look at the Health of the Chinese Economy\n",
      "--------------------\n",
      "Tim Haywood, investment director business-unit head for fixed income at Gam, discusses the China beige book and the state of the economy.\n",
      "\n",
      "1\n",
      "Nouriel Roubini: Global Economy Not Back to 2008\n",
      "--------------------\n",
      "Nouriel Roubini, NYU professor and chairman at Roubini Global Economics, explains why the global economy isn't facing the same conditions\n",
      "\n",
      "2\n",
      "Finland GDP Expands In Q4\n",
      "--------------------\n",
      "Finland's economy expanded marginally in the three months ended December, after contracting in the previous quarter, preliminary figures from Statistics Finland showed Monday. \n",
      "\n",
      "********************MICROSOFT********************\n",
      "0\n",
      "Intellitec Solutions to Host 13th Annual Spring Microsoft Dynamics User Group\n",
      "--------------------\n",
      "Over 100 attendees expected to see latest version of Microsoft Dynamics SL and Dynamics GP (PRWeb February 29, 2016) Read the full story at http://www.prweb.com/releases/2016/03/prweb13238571.htm \n",
      "\n",
      "1\n",
      "Microsoft's new Windows 10 ad targets Apple\n",
      "--------------------\n",
      "New Delhi, Feb.29 : Technology giant Microsoft has targeted its rival Apple in its new series of ads focusing on Windows 10, gross bugs, and the Windows machines. \n",
      "\n",
      "2\n",
      "Microsoft Project Centennial seen with “universal” desktop Office\n",
      "--------------------\n",
      "Microsoft may have burned off one bridge, but it is still building a different, and perhaps more critical build. Redmond has officially declared Project Astoria, the bridge that would let Android developers easily port their apps to Windows 10, dead but Project Centennial seems to be very much alive and kicking. In fact, it might have an rather ambitious demo … Continue reading \n",
      "\n",
      "********************PALESTINE********************\n",
      "0\n",
      "Monday, 29 Feb 2016\n",
      "--------------------\n",
      "RAMALLAH, February 25, 2016 (WAFA) - Palestine Liberation Organization’s Sectretary-General Saeb Erekat Thursday expressed his concerns over Kenyan President Uhuru Kenyatta’s visit to Jerusalem and the Jordan Valley. \n",
      "\n",
      "1\n",
      "Fire claims more than 100-year-old barn in Hancock County\n",
      "--------------------\n",
      "A Hancock County man lost a barn early Monday morning that had been in his family more than 100 years. \n",
      "\n",
      "2\n",
      "Monday, 29 Feb 2016\n",
      "--------------------\n",
      "RAMALLAH, February 29, 2016 (WAFA) - The Government of Japan contributed $38.21 million to the United Nations Relief and Works Agency for Palestine Refugees in the Near East (UNRWA). \n",
      "\n"
     ]
    }
   ],
   "source": [
    "for category in newspop['topic'].unique():\n",
    "    print('*'*20 + category.upper() + '*'*20)\n",
    "    for i in range(3):\n",
    "        print(i)\n",
    "        print(newspop[newspop['topic']==category]['title'].iloc[i])\n",
    "        print('-'*20)\n",
    "        print(newspop[newspop['topic']==category]['headline'].iloc[i])\n",
    "        print()"
   ]
  },
  {
   "cell_type": "code",
   "execution_count": 47,
   "metadata": {
    "execution": {
     "iopub.execute_input": "2023-04-28T17:28:46.364030Z",
     "iopub.status.busy": "2023-04-28T17:28:46.364030Z",
     "iopub.status.idle": "2023-04-28T17:28:46.417736Z",
     "shell.execute_reply": "2023-04-28T17:28:46.417736Z",
     "shell.execute_reply.started": "2023-04-28T17:28:46.364030Z"
    }
   },
   "outputs": [],
   "source": [
    "series_by_categories_newspop = {}\n",
    "\n",
    "for category in newspop['topic'].unique():\n",
    "    series_by_categories_newspop[category] = newspop[newspop['topic']==category]['headline'].reset_index(drop=True)"
   ]
  },
  {
   "cell_type": "markdown",
   "metadata": {
    "jp-MarkdownHeadingCollapsed": true,
    "tags": []
   },
   "source": [
    "# Dataset 6 https://huggingface.co/datasets/nanyy1025/covid_fake_news"
   ]
  },
  {
   "cell_type": "markdown",
   "metadata": {
    "execution": {
     "iopub.execute_input": "2023-04-28T17:21:49.289956Z",
     "iopub.status.busy": "2023-04-28T17:21:49.289956Z",
     "iopub.status.idle": "2023-04-28T17:21:49.309956Z",
     "shell.execute_reply": "2023-04-28T17:21:49.308953Z",
     "shell.execute_reply.started": "2023-04-28T17:21:49.289956Z"
    }
   },
   "source": [
    "@misc{patwa2020fighting,\n",
    "\n",
    "title={Fighting an Infodemic: COVID-19 Fake News Dataset}, \n",
    "\n",
    "author={Parth Patwa and Shivam Sharma and Srinivas PYKL and Vineeth Guptha and Gitanjali Kumari and Md Shad Akhtar and Asif Ekbal and Amitava Das and Tanmoy Chakraborty},\n",
    "\n",
    "year={2020},\n",
    "\n",
    "eprint={2011.03327},\n",
    "\n",
    "archivePrefix={arXiv},\n",
    "\n",
    "primaryClass={cs.CL}\n",
    "\n",
    "}"
   ]
  },
  {
   "cell_type": "code",
   "execution_count": 49,
   "metadata": {
    "colab": {
     "base_uri": "https://localhost:8080/",
     "height": 539,
     "referenced_widgets": [
      "63b60fd26beb49da9167f8dad72a01ea",
      "ab9b45836cd14917979130a84ca5a8ce",
      "ab41f6cbddb241818ddea236d96aa179",
      "e3b693fb1aca40aa9133fb5729c8f9d7",
      "f3d20f14724b4fad87efde3295faffc4",
      "b8a65b51871a41b387c923bde286d727",
      "0fd788394a1c49ffb04dcf0589f5b5ad",
      "6fdd472ebe8d4b948a35025353c51a1c",
      "5653ac904e1143998790e3bb37f06fd9",
      "d1c0935300b048bcbb4f61f39c01f6b9",
      "1d2e19d0512246a8b935a47240a4d4a4",
      "eac425bd10be479db06d7a591041ee40",
      "91f68b8f54b9496083bd8c40334c3dfd",
      "23455bbb05244d52ba107b275cb4c532",
      "02b0c4e4cf7e4c90af73d25f8ef273bf",
      "fc88a6f7a3654a7da5b72d3d9a79426d",
      "78f9afb5842a483997460b8387791399",
      "607e31821e0f43269ec2822cab858666",
      "2f57cd092b8a414794cbfe3e088b4a22",
      "fcb2713247b945e68f3300a0904513d1",
      "9fe762d851704f12bcc01edfb082a1b1",
      "16047b303bbc44c38f68465ebe61a332",
      "cea885e1d3c64657a5e567fcfbcd3639",
      "8afbc8dd3f4c4501be71bf116d23dda2",
      "9d54d98910a24b438fad79aec4524f23",
      "2a6b8bc2ff5b46aca37022c61aa951fd",
      "f2c04a3d9fad4025a17bc43b78769f72",
      "f839b0449f99423e85f974e5c6da4e88",
      "7523818f7ef54e2f9519e166e59a30ba",
      "6e90ba82841948a7a0229a1badfad497",
      "aeed8330702b4bb885c9d68c5ed0a0ad",
      "3cc0006def3e448d96f7684a149eef5e",
      "49ccba210c134d499cf8e61744826b95",
      "460143a762854358990cdd2977a4acd8",
      "26bd902f8ed34b9593d7f15aeb0c9ba1",
      "7191ada65e9e40e4a8023fad7059e06c",
      "93361ba6ba044d56a6e9690abc338b95",
      "4510497c284a4dcbbbc777348b1f16fe",
      "3b1f6a40d5a04fe9ba90a48fe5a67021",
      "12e03d29f3a548c288a73b9bf268cb6e",
      "6ebbb79b4228412b9893d5e4721f87c0",
      "90710a10fe4e4b1da6c619178bdec5a1",
      "9c0ca556c5ad4954bd1b42f259861dc9",
      "a4679335c64a4b6eacbae7001cb728c3",
      "5db7d95fbba64619be95ee2749ab4775",
      "0cca24440cf64c76927b099c5feff449",
      "2c7964e534ce41f2a32cca9bfed34af3",
      "916d6f49f4ba4ce4b937df355bf41fe2",
      "5bd6302bc41149c49151a6e5daa6b368",
      "f99059193f3d45a8b242ba7300451226",
      "1df0cd4a7377449f8da00e81e0facfea",
      "0ca07394e83f4a848747154123c22984",
      "5fdb7de963e94c56a53ea6f31d8314e8",
      "45ea419a27a5441486a14745babcf1f5",
      "59b840e727fa4bbfa126f5a370d1ff6c",
      "27f414d1c3c94f98b1a2a5e6719248b3",
      "852e342f725a47bb80aec595a0c26570",
      "5164fc43680b425c99e43e06dab89390",
      "1120ea4bc70c404798807bf798f89fff",
      "3664b193667c4609be8ab38f4f898d62",
      "6c18ac88cfde49aa8637ce3946ee15e8",
      "7a7e07f534dd45d9832fc041f4cda256",
      "9a60209ff2d84d8bac54de2ee5567fad",
      "bd0c9d510e30462d9aeed17760dd467e",
      "786a8f5cf7ba4f1a920983e55aa796da",
      "40bd3939ad92479eb9eb8e7e555f53f3",
      "4d7f17b0d15f4203b06aa8159ef5d82f",
      "695e59c5c4e84e23b695c2e61c763755",
      "db285299833149fd9c43859af99a4cff",
      "70bb24eb618d4a7d815e911ecc77b2b9",
      "c7224aba1bdc4183b71076cab29497f2",
      "7c0a53c877c140daa475407729ab4159",
      "4318b736a2774ee3b412c12ba632aee9",
      "1e393d0f5bd34b7b8e775731463f0d36",
      "9d6fc164c94a4cf09ef6c9200e7c6fdd",
      "3e677af70d33416587f2b346982f745b",
      "3b748ac84c61498b951e75863127b4fa",
      "8ceec0f227cc4c3caa4d6a3c052a17c7",
      "87e10c9576ac43b59a6626bf41896a43",
      "c0bca0e7d5f4456d87382a8dbbeae8cc",
      "e975ecc6c0cd438a890a400f6e0764ad",
      "3b282fa63d6f4ace8722ec3907295b7b",
      "e9dc06fdf11e47ee815592ae5571bed4",
      "137c4c6ab50d4c07b9aec81e42d7a529",
      "5b062b0cb47048648bd6d9479f24db57",
      "8bbee7d490634387b3d4cdb0344d3027",
      "0d86c76ba15f4754814e8bc8ac21f87a",
      "ad0bf3ce237e4401aa536eba37c7306a",
      "48e7c8a98e4d410291afe493864f6368",
      "b6bf4952c31a48b2acf8d6da41238cff",
      "86f019fa16a44f6798e80eb15eaeafd1",
      "d72a35f51dc442499a0c479ec9eea2dc",
      "642b2a12f8d34b569cb067a0b6763b7a",
      "524d556f942f48de908d40f5aa7c2102",
      "33004516d92f4c26a3f2f99bbd458f2b",
      "92753da3e2ec420c8387eb7a6a867af7",
      "d86fef8236e3456f8b90aa1a4c424039",
      "dda82376818e407a9679c5fb2cc7fcb2",
      "fd973f51faca491fa466690bb789b9b3",
      "788994e8a1f74d84b4c60d4ac8675ab2",
      "1e0a183f51ce4a4391d00109d0819760",
      "f6a50eba222d45e583195bfe1faa0e7c",
      "080fabeb5df949feaa76e0409fdfc70d",
      "5e1fde3290e4491e92ab8de320612958",
      "9e7bb69f81194418a2f4e8a4799f0f61",
      "038aeb7ee7c04d55b122934dda7cc07e",
      "ef830f832c6d4b5d879dc038ba8a876e",
      "224aa05321724125b8019e6059986a53",
      "f69cf70058cf4c37bd427c7bc13c51d0",
      "f33f24d0b10a428aa7385165efe62bee"
     ]
    },
    "execution": {
     "iopub.execute_input": "2023-04-28T17:29:23.603955Z",
     "iopub.status.busy": "2023-04-28T17:29:23.602955Z",
     "iopub.status.idle": "2023-04-28T17:29:29.180473Z",
     "shell.execute_reply": "2023-04-28T17:29:29.180473Z",
     "shell.execute_reply.started": "2023-04-28T17:29:23.603955Z"
    },
    "id": "qK2T0AJPu5Gk",
    "outputId": "e9cde15b-51d7-4ffc-909e-95f6f8acdb96"
   },
   "outputs": [
    {
     "data": {
      "application/vnd.jupyter.widget-view+json": {
       "model_id": "5ec8a8e9e3af47ad80a4a93c87916e52",
       "version_major": 2,
       "version_minor": 0
      },
      "text/plain": [
       "Downloading readme:   0%|          | 0.00/495 [00:00<?, ?B/s]"
      ]
     },
     "metadata": {},
     "output_type": "display_data"
    },
    {
     "name": "stdout",
     "output_type": "stream",
     "text": [
      "Downloading and preparing dataset csv/nanyy1025--covid_fake_news to C:/Users/Home/.cache/huggingface/datasets/nanyy1025___csv/nanyy1025--covid_fake_news-4b03a39bb1c8264f/0.0.0/6b34fb8fcf56f7c8ba51dc895bfa2bfbe43546f190a60fcf74bb5e8afdcc2317...\n"
     ]
    },
    {
     "data": {
      "application/vnd.jupyter.widget-view+json": {
       "model_id": "4ddc7fc32c4b4db380ffedbfafb5bab1",
       "version_major": 2,
       "version_minor": 0
      },
      "text/plain": [
       "Downloading data files:   0%|          | 0/3 [00:00<?, ?it/s]"
      ]
     },
     "metadata": {},
     "output_type": "display_data"
    },
    {
     "data": {
      "application/vnd.jupyter.widget-view+json": {
       "model_id": "0c0f01041b9240bea23e888869718b88",
       "version_major": 2,
       "version_minor": 0
      },
      "text/plain": [
       "Downloading data:   0%|          | 0.00/1.25M [00:00<?, ?B/s]"
      ]
     },
     "metadata": {},
     "output_type": "display_data"
    },
    {
     "data": {
      "application/vnd.jupyter.widget-view+json": {
       "model_id": "f11bd84c6ddd40f2997c4e261e9d3f89",
       "version_major": 2,
       "version_minor": 0
      },
      "text/plain": [
       "Downloading data:   0%|          | 0.00/423k [00:00<?, ?B/s]"
      ]
     },
     "metadata": {},
     "output_type": "display_data"
    },
    {
     "data": {
      "application/vnd.jupyter.widget-view+json": {
       "model_id": "7c63f44f829d485b8a059a35b389810a",
       "version_major": 2,
       "version_minor": 0
      },
      "text/plain": [
       "Downloading data:   0%|          | 0.00/411k [00:00<?, ?B/s]"
      ]
     },
     "metadata": {},
     "output_type": "display_data"
    },
    {
     "data": {
      "application/vnd.jupyter.widget-view+json": {
       "model_id": "d29c09ecf1c3403599b6da721b8cc0af",
       "version_major": 2,
       "version_minor": 0
      },
      "text/plain": [
       "Extracting data files:   0%|          | 0/3 [00:00<?, ?it/s]"
      ]
     },
     "metadata": {},
     "output_type": "display_data"
    },
    {
     "data": {
      "application/vnd.jupyter.widget-view+json": {
       "model_id": "",
       "version_major": 2,
       "version_minor": 0
      },
      "text/plain": [
       "Generating train split: 0 examples [00:00, ? examples/s]"
      ]
     },
     "metadata": {},
     "output_type": "display_data"
    },
    {
     "name": "stderr",
     "output_type": "stream",
     "text": [
      "C:\\ProgramData\\Anaconda3\\envs\\pytorch_1\\lib\\site-packages\\datasets\\download\\streaming_download_manager.py:776: FutureWarning: the 'mangle_dupe_cols' keyword is deprecated and will be removed in a future version. Please take steps to stop the use of 'mangle_dupe_cols'\n",
      "  return pd.read_csv(xopen(filepath_or_buffer, \"rb\", use_auth_token=use_auth_token), **kwargs)\n"
     ]
    },
    {
     "data": {
      "application/vnd.jupyter.widget-view+json": {
       "model_id": "",
       "version_major": 2,
       "version_minor": 0
      },
      "text/plain": [
       "Generating test split: 0 examples [00:00, ? examples/s]"
      ]
     },
     "metadata": {},
     "output_type": "display_data"
    },
    {
     "name": "stderr",
     "output_type": "stream",
     "text": [
      "C:\\ProgramData\\Anaconda3\\envs\\pytorch_1\\lib\\site-packages\\datasets\\download\\streaming_download_manager.py:776: FutureWarning: the 'mangle_dupe_cols' keyword is deprecated and will be removed in a future version. Please take steps to stop the use of 'mangle_dupe_cols'\n",
      "  return pd.read_csv(xopen(filepath_or_buffer, \"rb\", use_auth_token=use_auth_token), **kwargs)\n"
     ]
    },
    {
     "data": {
      "application/vnd.jupyter.widget-view+json": {
       "model_id": "",
       "version_major": 2,
       "version_minor": 0
      },
      "text/plain": [
       "Generating validation split: 0 examples [00:00, ? examples/s]"
      ]
     },
     "metadata": {},
     "output_type": "display_data"
    },
    {
     "name": "stdout",
     "output_type": "stream",
     "text": [
      "Dataset csv downloaded and prepared to C:/Users/Home/.cache/huggingface/datasets/nanyy1025___csv/nanyy1025--covid_fake_news-4b03a39bb1c8264f/0.0.0/6b34fb8fcf56f7c8ba51dc895bfa2bfbe43546f190a60fcf74bb5e8afdcc2317. Subsequent calls will reuse this data.\n"
     ]
    },
    {
     "name": "stderr",
     "output_type": "stream",
     "text": [
      "C:\\ProgramData\\Anaconda3\\envs\\pytorch_1\\lib\\site-packages\\datasets\\download\\streaming_download_manager.py:776: FutureWarning: the 'mangle_dupe_cols' keyword is deprecated and will be removed in a future version. Please take steps to stop the use of 'mangle_dupe_cols'\n",
      "  return pd.read_csv(xopen(filepath_or_buffer, \"rb\", use_auth_token=use_auth_token), **kwargs)\n"
     ]
    },
    {
     "data": {
      "application/vnd.jupyter.widget-view+json": {
       "model_id": "ad8358d3e9e04b87b01da380fe6d13be",
       "version_major": 2,
       "version_minor": 0
      },
      "text/plain": [
       "  0%|          | 0/3 [00:00<?, ?it/s]"
      ]
     },
     "metadata": {},
     "output_type": "display_data"
    },
    {
     "data": {
      "text/plain": [
       "DatasetDict({\n",
       "    train: Dataset({\n",
       "        features: ['id', 'tweet', 'label'],\n",
       "        num_rows: 6420\n",
       "    })\n",
       "    test: Dataset({\n",
       "        features: ['id', 'tweet', 'label'],\n",
       "        num_rows: 2140\n",
       "    })\n",
       "    validation: Dataset({\n",
       "        features: ['id', 'tweet', 'label'],\n",
       "        num_rows: 2140\n",
       "    })\n",
       "})"
      ]
     },
     "execution_count": 49,
     "metadata": {},
     "output_type": "execute_result"
    }
   ],
   "source": [
    "# https://huggingface.co/datasets/nanyy1025/covid_fake_news\n",
    "dataset = load_dataset(\"nanyy1025/covid_fake_news\")\n",
    "dataset"
   ]
  },
  {
   "cell_type": "code",
   "execution_count": 51,
   "metadata": {
    "colab": {
     "base_uri": "https://localhost:8080/",
     "height": 206
    },
    "execution": {
     "iopub.execute_input": "2023-04-28T17:41:38.005118Z",
     "iopub.status.busy": "2023-04-28T17:41:38.005118Z",
     "iopub.status.idle": "2023-04-28T17:41:38.196455Z",
     "shell.execute_reply": "2023-04-28T17:41:38.196455Z",
     "shell.execute_reply.started": "2023-04-28T17:41:38.005118Z"
    },
    "id": "whDTE4cyvVIT",
    "outputId": "9e0788d8-914d-428f-bf00-25b194b4800a",
    "tags": []
   },
   "outputs": [
    {
     "data": {
      "text/html": [
       "<div>\n",
       "<style scoped>\n",
       "    .dataframe tbody tr th:only-of-type {\n",
       "        vertical-align: middle;\n",
       "    }\n",
       "\n",
       "    .dataframe tbody tr th {\n",
       "        vertical-align: top;\n",
       "    }\n",
       "\n",
       "    .dataframe thead th {\n",
       "        text-align: right;\n",
       "    }\n",
       "</style>\n",
       "<table border=\"1\" class=\"dataframe\">\n",
       "  <thead>\n",
       "    <tr style=\"text-align: right;\">\n",
       "      <th></th>\n",
       "      <th>id</th>\n",
       "      <th>tweet</th>\n",
       "      <th>label</th>\n",
       "    </tr>\n",
       "  </thead>\n",
       "  <tbody>\n",
       "    <tr>\n",
       "      <th>0</th>\n",
       "      <td>1</td>\n",
       "      <td>The CDC currently reports 99031 deaths. In gen...</td>\n",
       "      <td>real</td>\n",
       "    </tr>\n",
       "    <tr>\n",
       "      <th>1</th>\n",
       "      <td>2</td>\n",
       "      <td>States reported 1121 deaths a small rise from ...</td>\n",
       "      <td>real</td>\n",
       "    </tr>\n",
       "    <tr>\n",
       "      <th>2</th>\n",
       "      <td>3</td>\n",
       "      <td>Politically Correct Woman (Almost) Uses Pandem...</td>\n",
       "      <td>fake</td>\n",
       "    </tr>\n",
       "    <tr>\n",
       "      <th>3</th>\n",
       "      <td>4</td>\n",
       "      <td>#IndiaFightsCorona: We have 1524 #COVID testin...</td>\n",
       "      <td>real</td>\n",
       "    </tr>\n",
       "    <tr>\n",
       "      <th>4</th>\n",
       "      <td>5</td>\n",
       "      <td>Populous states can generate large case counts...</td>\n",
       "      <td>real</td>\n",
       "    </tr>\n",
       "  </tbody>\n",
       "</table>\n",
       "</div>"
      ],
      "text/plain": [
       "   id                                              tweet label\n",
       "0   1  The CDC currently reports 99031 deaths. In gen...  real\n",
       "1   2  States reported 1121 deaths a small rise from ...  real\n",
       "2   3  Politically Correct Woman (Almost) Uses Pandem...  fake\n",
       "3   4  #IndiaFightsCorona: We have 1524 #COVID testin...  real\n",
       "4   5  Populous states can generate large case counts...  real"
      ]
     },
     "execution_count": 51,
     "metadata": {},
     "output_type": "execute_result"
    }
   ],
   "source": [
    "covid_df = pd.concat([pd.DataFrame(dataset['train']), pd.DataFrame(dataset['test']), pd.DataFrame(dataset['validation'])])\n",
    "covid_df.head()"
   ]
  },
  {
   "cell_type": "code",
   "execution_count": 52,
   "metadata": {
    "colab": {
     "base_uri": "https://localhost:8080/"
    },
    "execution": {
     "iopub.execute_input": "2023-04-28T17:41:57.088957Z",
     "iopub.status.busy": "2023-04-28T17:41:57.088957Z",
     "iopub.status.idle": "2023-04-28T17:41:57.109955Z",
     "shell.execute_reply": "2023-04-28T17:41:57.109955Z",
     "shell.execute_reply.started": "2023-04-28T17:41:57.088957Z"
    },
    "id": "oQp6WbS1vlW2",
    "outputId": "1db30284-b695-485f-aed4-cfdee402b5e2"
   },
   "outputs": [
    {
     "data": {
      "text/plain": [
       "real    5600\n",
       "fake    5100\n",
       "Name: label, dtype: int64"
      ]
     },
     "execution_count": 52,
     "metadata": {},
     "output_type": "execute_result"
    }
   ],
   "source": [
    "covid_df.label.value_counts()"
   ]
  },
  {
   "cell_type": "code",
   "execution_count": 55,
   "metadata": {
    "colab": {
     "base_uri": "https://localhost:8080/",
     "height": 53
    },
    "execution": {
     "iopub.execute_input": "2023-04-28T17:44:59.370153Z",
     "iopub.status.busy": "2023-04-28T17:44:59.370153Z",
     "iopub.status.idle": "2023-04-28T17:44:59.381157Z",
     "shell.execute_reply": "2023-04-28T17:44:59.381157Z",
     "shell.execute_reply.started": "2023-04-28T17:44:59.370153Z"
    },
    "id": "st08hydHvonR",
    "outputId": "2ecfb2f7-fa8a-4740-8e84-30e7eb8545e9"
   },
   "outputs": [
    {
     "name": "stdout",
     "output_type": "stream",
     "text": [
      "********************REAL********************\n",
      "0\n",
      "The CDC currently reports 99031 deaths. In general the discrepancies in death counts between different sources are small and explicable. The death toll stands at roughly 100000 people today.\n",
      "\n",
      "1\n",
      "States reported 1121 deaths a small rise from last Tuesday. Southern states reported 640 of those deaths. https://t.co/YASGRTT4ux\n",
      "\n",
      "2\n",
      "#IndiaFightsCorona: We have 1524 #COVID testing laboratories in India and as on 25th August 2020 36827520 tests have been done : @ProfBhargava DG @ICMRDELHI #StaySafe #IndiaWillWin https://t.co/Yh3ZxknnhZ\n",
      "\n",
      "********************FAKE********************\n",
      "0\n",
      "Politically Correct Woman (Almost) Uses Pandemic as Excuse Not to Reuse Plastic Bag https://t.co/thF8GuNFPe #coronavirus #nashville\n",
      "\n",
      "1\n",
      "Obama Calls Trump’s Coronavirus Response A Chaotic Disaster https://t.co/DeDqZEhAsB\n",
      "\n",
      "2\n",
      "???Clearly, the Obama administration did not leave any kind of game plan for something like this.??�\n",
      "\n"
     ]
    }
   ],
   "source": [
    "for label in covid_df['label'].unique():\n",
    "    print('*'*20 + label.upper() + '*'*20)\n",
    "    for i in range(3):\n",
    "        print(i)\n",
    "        print(covid_df[covid_df['label']==label]['tweet'].iloc[i])\n",
    "        print()"
   ]
  },
  {
   "cell_type": "code",
   "execution_count": 56,
   "metadata": {
    "colab": {
     "base_uri": "https://localhost:8080/",
     "height": 35
    },
    "execution": {
     "iopub.execute_input": "2023-04-28T17:57:58.171958Z",
     "iopub.status.busy": "2023-04-28T17:57:58.170957Z",
     "iopub.status.idle": "2023-04-28T17:57:58.182971Z",
     "shell.execute_reply": "2023-04-28T17:57:58.181956Z",
     "shell.execute_reply.started": "2023-04-28T17:57:58.171958Z"
    },
    "id": "nwbd-ZpVvr8J",
    "outputId": "57dfbc91-f1cb-4e15-93b9-7e728db7eeca"
   },
   "outputs": [
    {
     "name": "stdout",
     "output_type": "stream",
     "text": [
      "fake: (5100,)\n",
      "real: (5600,)\n"
     ]
    }
   ],
   "source": [
    "covid_df_fake = covid_df[covid_df['label']=='fake']['tweet']\n",
    "covid_df_real = covid_df[covid_df['label']=='real']['tweet']\n",
    "print(f'fake: {covid_df_fake.shape}')\n",
    "print(f'real: {covid_df_real.shape}')"
   ]
  },
  {
   "cell_type": "markdown",
   "metadata": {
    "jp-MarkdownHeadingCollapsed": true,
    "tags": []
   },
   "source": [
    "# Dataset 7 https://www.kaggle.com/datasets/clmentbisaillon/fake-and-real-news-dataset?select=Fake.csv"
   ]
  },
  {
   "cell_type": "markdown",
   "metadata": {},
   "source": [
    "Ahmed H, Traore I, Saad S. “Detecting opinion spams and fake news using text classification”, Journal of Security and Privacy, Volume 1, Issue 1, Wiley, January/February 2018.\n",
    "\n",
    "Ahmed H, Traore I, Saad S. (2017) “Detection of Online Fake News Using N-Gram Analysis and Machine Learning Techniques. In: Traore I., Woungang I., Awad A. (eds) Intelligent, Secure, and Dependable Systems in Distributed and Cloud Environments. ISDDC 2017. Lecture Notes in Computer Science, vol 10618. Springer, Cham (pp. 127-138)."
   ]
  },
  {
   "cell_type": "code",
   "execution_count": 57,
   "metadata": {
    "execution": {
     "iopub.execute_input": "2023-04-28T18:01:24.743256Z",
     "iopub.status.busy": "2023-04-28T18:01:24.743256Z",
     "iopub.status.idle": "2023-04-28T18:01:25.150856Z",
     "shell.execute_reply": "2023-04-28T18:01:25.149854Z",
     "shell.execute_reply.started": "2023-04-28T18:01:24.743256Z"
    },
    "id": "yi9JjjaVQKoM"
   },
   "outputs": [
    {
     "data": {
      "text/html": [
       "<div>\n",
       "<style scoped>\n",
       "    .dataframe tbody tr th:only-of-type {\n",
       "        vertical-align: middle;\n",
       "    }\n",
       "\n",
       "    .dataframe tbody tr th {\n",
       "        vertical-align: top;\n",
       "    }\n",
       "\n",
       "    .dataframe thead th {\n",
       "        text-align: right;\n",
       "    }\n",
       "</style>\n",
       "<table border=\"1\" class=\"dataframe\">\n",
       "  <thead>\n",
       "    <tr style=\"text-align: right;\">\n",
       "      <th></th>\n",
       "      <th>title</th>\n",
       "      <th>text</th>\n",
       "      <th>subject</th>\n",
       "      <th>date</th>\n",
       "    </tr>\n",
       "  </thead>\n",
       "  <tbody>\n",
       "    <tr>\n",
       "      <th>0</th>\n",
       "      <td>Donald Trump Sends Out Embarrassing New Year’...</td>\n",
       "      <td>Donald Trump just couldn t wish all Americans ...</td>\n",
       "      <td>News</td>\n",
       "      <td>December 31, 2017</td>\n",
       "    </tr>\n",
       "    <tr>\n",
       "      <th>1</th>\n",
       "      <td>Drunk Bragging Trump Staffer Started Russian ...</td>\n",
       "      <td>House Intelligence Committee Chairman Devin Nu...</td>\n",
       "      <td>News</td>\n",
       "      <td>December 31, 2017</td>\n",
       "    </tr>\n",
       "    <tr>\n",
       "      <th>2</th>\n",
       "      <td>Sheriff David Clarke Becomes An Internet Joke...</td>\n",
       "      <td>On Friday, it was revealed that former Milwauk...</td>\n",
       "      <td>News</td>\n",
       "      <td>December 30, 2017</td>\n",
       "    </tr>\n",
       "  </tbody>\n",
       "</table>\n",
       "</div>"
      ],
      "text/plain": [
       "                                               title  \\\n",
       "0   Donald Trump Sends Out Embarrassing New Year’...   \n",
       "1   Drunk Bragging Trump Staffer Started Russian ...   \n",
       "2   Sheriff David Clarke Becomes An Internet Joke...   \n",
       "\n",
       "                                                text subject  \\\n",
       "0  Donald Trump just couldn t wish all Americans ...    News   \n",
       "1  House Intelligence Committee Chairman Devin Nu...    News   \n",
       "2  On Friday, it was revealed that former Milwauk...    News   \n",
       "\n",
       "                date  \n",
       "0  December 31, 2017  \n",
       "1  December 31, 2017  \n",
       "2  December 30, 2017  "
      ]
     },
     "execution_count": 57,
     "metadata": {},
     "output_type": "execute_result"
    }
   ],
   "source": [
    "# https://www.kaggle.com/datasets/clmentbisaillon/fake-and-real-news-dataset?select=Fake.csv\n",
    "df_fake = pd.read_csv('./dataset/Fake_.csv')\n",
    "df_fake.head(3)"
   ]
  },
  {
   "cell_type": "code",
   "execution_count": 58,
   "metadata": {
    "execution": {
     "iopub.execute_input": "2023-04-28T18:01:45.994461Z",
     "iopub.status.busy": "2023-04-28T18:01:45.993460Z",
     "iopub.status.idle": "2023-04-28T18:01:46.366500Z",
     "shell.execute_reply": "2023-04-28T18:01:46.366500Z",
     "shell.execute_reply.started": "2023-04-28T18:01:45.994461Z"
    }
   },
   "outputs": [
    {
     "data": {
      "text/html": [
       "<div>\n",
       "<style scoped>\n",
       "    .dataframe tbody tr th:only-of-type {\n",
       "        vertical-align: middle;\n",
       "    }\n",
       "\n",
       "    .dataframe tbody tr th {\n",
       "        vertical-align: top;\n",
       "    }\n",
       "\n",
       "    .dataframe thead th {\n",
       "        text-align: right;\n",
       "    }\n",
       "</style>\n",
       "<table border=\"1\" class=\"dataframe\">\n",
       "  <thead>\n",
       "    <tr style=\"text-align: right;\">\n",
       "      <th></th>\n",
       "      <th>title</th>\n",
       "      <th>text</th>\n",
       "      <th>subject</th>\n",
       "      <th>date</th>\n",
       "    </tr>\n",
       "  </thead>\n",
       "  <tbody>\n",
       "    <tr>\n",
       "      <th>0</th>\n",
       "      <td>As U.S. budget fight looms, Republicans flip t...</td>\n",
       "      <td>WASHINGTON (Reuters) - The head of a conservat...</td>\n",
       "      <td>politicsNews</td>\n",
       "      <td>December 31, 2017</td>\n",
       "    </tr>\n",
       "    <tr>\n",
       "      <th>1</th>\n",
       "      <td>U.S. military to accept transgender recruits o...</td>\n",
       "      <td>WASHINGTON (Reuters) - Transgender people will...</td>\n",
       "      <td>politicsNews</td>\n",
       "      <td>December 29, 2017</td>\n",
       "    </tr>\n",
       "    <tr>\n",
       "      <th>2</th>\n",
       "      <td>Senior U.S. Republican senator: 'Let Mr. Muell...</td>\n",
       "      <td>WASHINGTON (Reuters) - The special counsel inv...</td>\n",
       "      <td>politicsNews</td>\n",
       "      <td>December 31, 2017</td>\n",
       "    </tr>\n",
       "  </tbody>\n",
       "</table>\n",
       "</div>"
      ],
      "text/plain": [
       "                                               title  \\\n",
       "0  As U.S. budget fight looms, Republicans flip t...   \n",
       "1  U.S. military to accept transgender recruits o...   \n",
       "2  Senior U.S. Republican senator: 'Let Mr. Muell...   \n",
       "\n",
       "                                                text       subject  \\\n",
       "0  WASHINGTON (Reuters) - The head of a conservat...  politicsNews   \n",
       "1  WASHINGTON (Reuters) - Transgender people will...  politicsNews   \n",
       "2  WASHINGTON (Reuters) - The special counsel inv...  politicsNews   \n",
       "\n",
       "                 date  \n",
       "0  December 31, 2017   \n",
       "1  December 29, 2017   \n",
       "2  December 31, 2017   "
      ]
     },
     "execution_count": 58,
     "metadata": {},
     "output_type": "execute_result"
    }
   ],
   "source": [
    "df_real = pd.read_csv('./dataset/True.csv')\n",
    "df_real.head(3)"
   ]
  },
  {
   "cell_type": "code",
   "execution_count": 59,
   "metadata": {
    "execution": {
     "iopub.execute_input": "2023-04-28T18:02:16.662956Z",
     "iopub.status.busy": "2023-04-28T18:02:16.661955Z",
     "iopub.status.idle": "2023-04-28T18:02:16.670957Z",
     "shell.execute_reply": "2023-04-28T18:02:16.670957Z",
     "shell.execute_reply.started": "2023-04-28T18:02:16.662956Z"
    }
   },
   "outputs": [
    {
     "data": {
      "text/plain": [
       "News               9050\n",
       "politics           6841\n",
       "left-news          4459\n",
       "Government News    1570\n",
       "US_News             783\n",
       "Middle-east         778\n",
       "Name: subject, dtype: int64"
      ]
     },
     "execution_count": 59,
     "metadata": {},
     "output_type": "execute_result"
    }
   ],
   "source": [
    "df_fake.subject.value_counts()"
   ]
  },
  {
   "cell_type": "code",
   "execution_count": 60,
   "metadata": {
    "execution": {
     "iopub.execute_input": "2023-04-28T18:02:23.052956Z",
     "iopub.status.busy": "2023-04-28T18:02:23.052956Z",
     "iopub.status.idle": "2023-04-28T18:02:23.070955Z",
     "shell.execute_reply": "2023-04-28T18:02:23.070955Z",
     "shell.execute_reply.started": "2023-04-28T18:02:23.052956Z"
    }
   },
   "outputs": [
    {
     "data": {
      "text/plain": [
       "politicsNews    11272\n",
       "worldnews       10145\n",
       "Name: subject, dtype: int64"
      ]
     },
     "execution_count": 60,
     "metadata": {},
     "output_type": "execute_result"
    }
   ],
   "source": [
    "df_real.subject.value_counts()"
   ]
  },
  {
   "cell_type": "code",
   "execution_count": 64,
   "metadata": {
    "execution": {
     "iopub.execute_input": "2023-04-28T18:15:17.069982Z",
     "iopub.status.busy": "2023-04-28T18:15:17.068982Z",
     "iopub.status.idle": "2023-04-28T18:15:17.100981Z",
     "shell.execute_reply": "2023-04-28T18:15:17.100981Z",
     "shell.execute_reply.started": "2023-04-28T18:15:17.069982Z"
    },
    "tags": []
   },
   "outputs": [
    {
     "name": "stdout",
     "output_type": "stream",
     "text": [
      "********************FAKE********************\n",
      "********************politics********************\n",
      "6\n",
      "GOTCHA! A Stammering John Podesta Stunned by a REAL Question from CBS Reporter\n",
      "\n",
      "7\n",
      "HIGH SCHOOL TEACHER Makes “Shooting At Trump” Option For Answer On Multiple Choice Test\n",
      "\n",
      "8\n",
      "IT BEGINS…RINO MEGA-DONOR Threatens Jeb Bush: No More Money To GOP Until Assault Weapons Are Banned\n",
      "\n",
      "9\n",
      "BUSTED! Maxine Waters’ Ties to Black Nationalist Hate Group Further Exposed [Video]\n",
      "\n",
      "********************Government News********************\n",
      "6\n",
      "JUST IN: Documents Reveal Hillary Clinton “Struck a Deal” to Keep Records Private\n",
      "\n",
      "7\n",
      "THE DOJ TOOK $7 MILLION TAXPAYER DOLLARS AND STARTED A BONFIRE…’Russian Meddling’ Probe Goes off The Rails\n",
      "\n",
      "8\n",
      "JUST IN: SUPREME COURT Rules On Trump Travel Ban\n",
      "\n",
      "9\n",
      "FBI AGENT Who ‘Found Nothing’ on Huma and Anthony Weiner’s Laptops in Record Time Right Before Election is Same Agent FIRED by Mueller for Anti-Trump Texts\n",
      "\n",
      "********************left-news********************\n",
      "6\n",
      "TOP FIVE Food Stamp Fraud Takedowns of 2017…Do You See The Common Thread?\n",
      "\n",
      "7\n",
      "IT ONLY TOOK ONE TWEET FROM PRESIDENT TRUMP For Billionaires To Open Up Their Wallets For This “FIGHTER!”\n",
      "\n",
      "8\n",
      "WATCH HERO Singlehandedly Shut Down Anti-Trump Protest: “Hey! This is library!” [Video]\n",
      "\n",
      "9\n",
      "FINALLY RELEASED! Email from Huma Abedin Includes Classified Documents [Video]\n",
      "\n",
      "********************News********************\n",
      "6\n",
      " Fresh Off The Golf Course, Trump Lashes Out At FBI Deputy Director And James Comey\n",
      "\n",
      "7\n",
      " Trump Said Some INSANELY Racist Stuff Inside The Oval Office, And Witnesses Back It Up\n",
      "\n",
      "8\n",
      " Former CIA Director Slams Trump Over UN Bullying, Openly Suggests He’s Acting Like A Dictator (TWEET)\n",
      "\n",
      "9\n",
      " WATCH: Brand-New Pro-Trump Ad Features So Much A** Kissing It Will Make You Sick\n",
      "\n"
     ]
    }
   ],
   "source": [
    "print('*'*20 + 'FAKE' + '*'*20)\n",
    "for category in ['politics', 'Government News', 'left-news', 'News']:\n",
    "    print('*'*20 + category + '*'*20)\n",
    "    for i in range(6, 10):\n",
    "        print(i)\n",
    "        print(df_fake[df_fake['subject']==category]['title'].iloc[i])\n",
    "        print()"
   ]
  },
  {
   "cell_type": "code",
   "execution_count": 66,
   "metadata": {
    "execution": {
     "iopub.execute_input": "2023-04-28T18:17:47.461958Z",
     "iopub.status.busy": "2023-04-28T18:17:47.461958Z",
     "iopub.status.idle": "2023-04-28T18:17:47.481963Z",
     "shell.execute_reply": "2023-04-28T18:17:47.481963Z",
     "shell.execute_reply.started": "2023-04-28T18:17:47.461958Z"
    },
    "tags": []
   },
   "outputs": [
    {
     "name": "stdout",
     "output_type": "stream",
     "text": [
      "********************REAL********************\n",
      "********************politicsNews********************\n",
      "6\n",
      "Trump says Russia probe will be fair, but timeline unclear: NYT\n",
      "\n",
      "7\n",
      "Factbox: Trump on Twitter (Dec 29) - Approval rating, Amazon\n",
      "\n",
      "8\n",
      "Trump on Twitter (Dec 28) - Global Warming\n",
      "\n",
      "9\n",
      "Alabama official to certify Senator-elect Jones today despite challenge: CNN\n",
      "\n",
      "********************worldnews********************\n",
      "6\n",
      "Libya puts 142 migrants on plane back to Guinea\n",
      "\n",
      "7\n",
      "U.S. sanctions North Korean missile experts, Russia offers to mediate\n",
      "\n",
      "8\n",
      "Tillerson, Lavrov agree to continue North Korea diplomacy: U.S. State Department\n",
      "\n",
      "9\n",
      "Israel ambassador asks to meet New Zealand pop star Lorde over canceled show\n",
      "\n"
     ]
    }
   ],
   "source": [
    "print('*'*20 + 'REAL' + '*'*20)\n",
    "for category in df_real['subject'].unique():\n",
    "    print('*'*20 + category + '*'*20)\n",
    "    for i in range(6, 10):\n",
    "        print(i)\n",
    "        print(df_real[df_real['subject']==category]['title'].iloc[i])\n",
    "        print()"
   ]
  },
  {
   "cell_type": "markdown",
   "metadata": {},
   "source": [
    "In general, all the data here somehow relate to politics."
   ]
  },
  {
   "cell_type": "code",
   "execution_count": 67,
   "metadata": {
    "execution": {
     "iopub.execute_input": "2023-04-28T18:26:26.758961Z",
     "iopub.status.busy": "2023-04-28T18:26:26.757962Z",
     "iopub.status.idle": "2023-04-28T18:26:26.764959Z",
     "shell.execute_reply": "2023-04-28T18:26:26.764959Z",
     "shell.execute_reply.started": "2023-04-28T18:26:26.758961Z"
    }
   },
   "outputs": [
    {
     "data": {
      "text/plain": [
       "(5737,)"
      ]
     },
     "execution_count": 67,
     "metadata": {},
     "output_type": "execute_result"
    }
   ],
   "source": [
    "df_real = df_real.sample(5737)['title']\n",
    "df_real.shape"
   ]
  },
  {
   "cell_type": "code",
   "execution_count": 68,
   "metadata": {
    "execution": {
     "iopub.execute_input": "2023-04-28T18:26:47.497501Z",
     "iopub.status.busy": "2023-04-28T18:26:47.497501Z",
     "iopub.status.idle": "2023-04-28T18:26:47.518505Z",
     "shell.execute_reply": "2023-04-28T18:26:47.518505Z",
     "shell.execute_reply.started": "2023-04-28T18:26:47.497501Z"
    }
   },
   "outputs": [
    {
     "data": {
      "text/plain": [
       "(7000,)"
      ]
     },
     "execution_count": 68,
     "metadata": {},
     "output_type": "execute_result"
    }
   ],
   "source": [
    "df_fake = df_fake.sample(7000)['title']\n",
    "df_fake.shape"
   ]
  },
  {
   "cell_type": "markdown",
   "metadata": {
    "tags": []
   },
   "source": [
    "# Final dataset"
   ]
  },
  {
   "cell_type": "markdown",
   "metadata": {},
   "source": [
    "Putting everything together"
   ]
  },
  {
   "cell_type": "code",
   "execution_count": null,
   "metadata": {},
   "outputs": [],
   "source": [
    "topics = [\n",
    "    'health_real', 'health_fake',\n",
    "    'entertainment_real', 'entertainment_fake',\n",
    "    'sport_real', 'sport_fake',\n",
    "    'politics_real', 'politics_fake'\n",
    "]"
   ]
  },
  {
   "cell_type": "markdown",
   "metadata": {
    "jp-MarkdownHeadingCollapsed": true,
    "tags": []
   },
   "source": [
    "## Politics"
   ]
  },
  {
   "cell_type": "code",
   "execution_count": 79,
   "metadata": {
    "execution": {
     "iopub.execute_input": "2023-04-28T18:40:32.349903Z",
     "iopub.status.busy": "2023-04-28T18:40:32.349903Z",
     "iopub.status.idle": "2023-04-28T18:40:32.359419Z",
     "shell.execute_reply": "2023-04-28T18:40:32.358412Z",
     "shell.execute_reply.started": "2023-04-28T18:40:32.349903Z"
    },
    "tags": []
   },
   "outputs": [
    {
     "data": {
      "text/plain": [
       "(7000,)"
      ]
     },
     "execution_count": 79,
     "metadata": {},
     "output_type": "execute_result"
    }
   ],
   "source": [
    "politics_real = pd.concat([df_real, series_by_categories['politics']]).reset_index(drop=True)\n",
    "politics_real.shape"
   ]
  },
  {
   "cell_type": "code",
   "execution_count": 89,
   "metadata": {
    "execution": {
     "iopub.execute_input": "2023-04-28T18:48:05.638959Z",
     "iopub.status.busy": "2023-04-28T18:48:05.637955Z",
     "iopub.status.idle": "2023-04-28T18:48:05.652956Z",
     "shell.execute_reply": "2023-04-28T18:48:05.652956Z",
     "shell.execute_reply.started": "2023-04-28T18:48:05.638959Z"
    },
    "tags": []
   },
   "outputs": [
    {
     "data": {
      "text/html": [
       "<div>\n",
       "<style scoped>\n",
       "    .dataframe tbody tr th:only-of-type {\n",
       "        vertical-align: middle;\n",
       "    }\n",
       "\n",
       "    .dataframe tbody tr th {\n",
       "        vertical-align: top;\n",
       "    }\n",
       "\n",
       "    .dataframe thead th {\n",
       "        text-align: right;\n",
       "    }\n",
       "</style>\n",
       "<table border=\"1\" class=\"dataframe\">\n",
       "  <thead>\n",
       "    <tr style=\"text-align: right;\">\n",
       "      <th></th>\n",
       "      <th>text</th>\n",
       "      <th>label</th>\n",
       "    </tr>\n",
       "  </thead>\n",
       "  <tbody>\n",
       "    <tr>\n",
       "      <th>0</th>\n",
       "      <td>Factbox: Trump on Twitter (Sept 27) - Filibust...</td>\n",
       "      <td>politics_real</td>\n",
       "    </tr>\n",
       "    <tr>\n",
       "      <th>1</th>\n",
       "      <td>U.S. lawmakers delay bill on European data pri...</td>\n",
       "      <td>politics_real</td>\n",
       "    </tr>\n",
       "    <tr>\n",
       "      <th>2</th>\n",
       "      <td>Hariri says Hezbollah must remain neutral to e...</td>\n",
       "      <td>politics_real</td>\n",
       "    </tr>\n",
       "    <tr>\n",
       "      <th>3</th>\n",
       "      <td>Factbox: Contenders for key jobs in Trump's ad...</td>\n",
       "      <td>politics_real</td>\n",
       "    </tr>\n",
       "    <tr>\n",
       "      <th>4</th>\n",
       "      <td>U.S. concerned by KRG security raid on local b...</td>\n",
       "      <td>politics_real</td>\n",
       "    </tr>\n",
       "  </tbody>\n",
       "</table>\n",
       "</div>"
      ],
      "text/plain": [
       "                                                text          label\n",
       "0  Factbox: Trump on Twitter (Sept 27) - Filibust...  politics_real\n",
       "1  U.S. lawmakers delay bill on European data pri...  politics_real\n",
       "2  Hariri says Hezbollah must remain neutral to e...  politics_real\n",
       "3  Factbox: Contenders for key jobs in Trump's ad...  politics_real\n",
       "4  U.S. concerned by KRG security raid on local b...  politics_real"
      ]
     },
     "execution_count": 89,
     "metadata": {},
     "output_type": "execute_result"
    }
   ],
   "source": [
    "politics_real = politics_real.to_frame().join(pd.Series(['politics_real']*politics_real.shape[0], name='label'))\n",
    "politics_real.columns = ['text', 'label']\n",
    "politics_real.head()"
   ]
  },
  {
   "cell_type": "code",
   "execution_count": 93,
   "metadata": {
    "execution": {
     "iopub.execute_input": "2023-04-28T18:51:11.086962Z",
     "iopub.status.busy": "2023-04-28T18:51:11.086962Z",
     "iopub.status.idle": "2023-04-28T18:51:11.105961Z",
     "shell.execute_reply": "2023-04-28T18:51:11.105961Z",
     "shell.execute_reply.started": "2023-04-28T18:51:11.086962Z"
    },
    "tags": []
   },
   "outputs": [
    {
     "data": {
      "text/plain": [
       "16351    WOW! HILLARY Took State Department Furniture T...\n",
       "14424    THE BEST CASE For A TRUMP PRESIDENCY Comes Fro...\n",
       "17938    WATCH: MAXINE WATERS Hits New Low…Trash Talks ...\n",
       "11114    VOTING MACHINES STOLEN In Controversial GA Ele...\n",
       "11981    TRUTH BOMB! PAUL RYAN SETS THE DEMS STRAIGHT O...\n",
       "                               ...                        \n",
       "16092    DETECTIVE ON SETH RICH Murder Mystery Drops Sh...\n",
       "14423    SENATOR MIKE LEE Nails It On Why The Senate Op...\n",
       "11684    CENSORED: CRANKY BERNIE Calls CNN “Fake News” ...\n",
       "9936     HATE-FILLED LEFTISTS Tell Former Fox News Host...\n",
       "22810    Ben Carson Home Vandalized with Anti-Trump Gra...\n",
       "Name: title, Length: 7000, dtype: object"
      ]
     },
     "execution_count": 93,
     "metadata": {},
     "output_type": "execute_result"
    }
   ],
   "source": [
    "df_fake"
   ]
  },
  {
   "cell_type": "code",
   "execution_count": 101,
   "metadata": {
    "execution": {
     "iopub.execute_input": "2023-04-28T18:53:19.752253Z",
     "iopub.status.busy": "2023-04-28T18:53:19.752253Z",
     "iopub.status.idle": "2023-04-28T18:53:19.765764Z",
     "shell.execute_reply": "2023-04-28T18:53:19.765764Z",
     "shell.execute_reply.started": "2023-04-28T18:53:19.752253Z"
    },
    "tags": []
   },
   "outputs": [
    {
     "data": {
      "text/plain": [
       "(7000, 1)"
      ]
     },
     "execution_count": 101,
     "metadata": {},
     "output_type": "execute_result"
    }
   ],
   "source": [
    "politics_fake = df_fake.to_frame().reset_index(drop=True)\n",
    "politics_fake.shape"
   ]
  },
  {
   "cell_type": "code",
   "execution_count": 102,
   "metadata": {
    "execution": {
     "iopub.execute_input": "2023-04-28T18:53:20.675965Z",
     "iopub.status.busy": "2023-04-28T18:53:20.675965Z",
     "iopub.status.idle": "2023-04-28T18:53:20.687965Z",
     "shell.execute_reply": "2023-04-28T18:53:20.687965Z",
     "shell.execute_reply.started": "2023-04-28T18:53:20.675965Z"
    },
    "tags": []
   },
   "outputs": [
    {
     "data": {
      "text/html": [
       "<div>\n",
       "<style scoped>\n",
       "    .dataframe tbody tr th:only-of-type {\n",
       "        vertical-align: middle;\n",
       "    }\n",
       "\n",
       "    .dataframe tbody tr th {\n",
       "        vertical-align: top;\n",
       "    }\n",
       "\n",
       "    .dataframe thead th {\n",
       "        text-align: right;\n",
       "    }\n",
       "</style>\n",
       "<table border=\"1\" class=\"dataframe\">\n",
       "  <thead>\n",
       "    <tr style=\"text-align: right;\">\n",
       "      <th></th>\n",
       "      <th>text</th>\n",
       "      <th>label</th>\n",
       "    </tr>\n",
       "  </thead>\n",
       "  <tbody>\n",
       "    <tr>\n",
       "      <th>0</th>\n",
       "      <td>WOW! HILLARY Took State Department Furniture T...</td>\n",
       "      <td>politics_fake</td>\n",
       "    </tr>\n",
       "    <tr>\n",
       "      <th>1</th>\n",
       "      <td>THE BEST CASE For A TRUMP PRESIDENCY Comes Fro...</td>\n",
       "      <td>politics_fake</td>\n",
       "    </tr>\n",
       "    <tr>\n",
       "      <th>2</th>\n",
       "      <td>WATCH: MAXINE WATERS Hits New Low…Trash Talks ...</td>\n",
       "      <td>politics_fake</td>\n",
       "    </tr>\n",
       "    <tr>\n",
       "      <th>3</th>\n",
       "      <td>VOTING MACHINES STOLEN In Controversial GA Ele...</td>\n",
       "      <td>politics_fake</td>\n",
       "    </tr>\n",
       "    <tr>\n",
       "      <th>4</th>\n",
       "      <td>TRUTH BOMB! PAUL RYAN SETS THE DEMS STRAIGHT O...</td>\n",
       "      <td>politics_fake</td>\n",
       "    </tr>\n",
       "  </tbody>\n",
       "</table>\n",
       "</div>"
      ],
      "text/plain": [
       "                                                text          label\n",
       "0  WOW! HILLARY Took State Department Furniture T...  politics_fake\n",
       "1  THE BEST CASE For A TRUMP PRESIDENCY Comes Fro...  politics_fake\n",
       "2  WATCH: MAXINE WATERS Hits New Low…Trash Talks ...  politics_fake\n",
       "3  VOTING MACHINES STOLEN In Controversial GA Ele...  politics_fake\n",
       "4  TRUTH BOMB! PAUL RYAN SETS THE DEMS STRAIGHT O...  politics_fake"
      ]
     },
     "execution_count": 102,
     "metadata": {},
     "output_type": "execute_result"
    }
   ],
   "source": [
    "politics_fake = politics_fake.join(pd.Series(['politics_fake']*politics_fake.shape[0], name='label'))\n",
    "politics_fake.columns = ['text', 'label']\n",
    "politics_fake.head()"
   ]
  },
  {
   "cell_type": "code",
   "execution_count": 104,
   "metadata": {
    "execution": {
     "iopub.execute_input": "2023-04-28T18:54:28.470959Z",
     "iopub.status.busy": "2023-04-28T18:54:28.470959Z",
     "iopub.status.idle": "2023-04-28T18:54:28.483470Z",
     "shell.execute_reply": "2023-04-28T18:54:28.483470Z",
     "shell.execute_reply.started": "2023-04-28T18:54:28.470959Z"
    },
    "tags": []
   },
   "outputs": [
    {
     "name": "stdout",
     "output_type": "stream",
     "text": [
      "(14000, 2)\n"
     ]
    },
    {
     "data": {
      "text/html": [
       "<div>\n",
       "<style scoped>\n",
       "    .dataframe tbody tr th:only-of-type {\n",
       "        vertical-align: middle;\n",
       "    }\n",
       "\n",
       "    .dataframe tbody tr th {\n",
       "        vertical-align: top;\n",
       "    }\n",
       "\n",
       "    .dataframe thead th {\n",
       "        text-align: right;\n",
       "    }\n",
       "</style>\n",
       "<table border=\"1\" class=\"dataframe\">\n",
       "  <thead>\n",
       "    <tr style=\"text-align: right;\">\n",
       "      <th></th>\n",
       "      <th>text</th>\n",
       "      <th>label</th>\n",
       "    </tr>\n",
       "  </thead>\n",
       "  <tbody>\n",
       "    <tr>\n",
       "      <th>0</th>\n",
       "      <td>WOW! HILLARY Took State Department Furniture T...</td>\n",
       "      <td>politics_fake</td>\n",
       "    </tr>\n",
       "    <tr>\n",
       "      <th>1</th>\n",
       "      <td>THE BEST CASE For A TRUMP PRESIDENCY Comes Fro...</td>\n",
       "      <td>politics_fake</td>\n",
       "    </tr>\n",
       "    <tr>\n",
       "      <th>2</th>\n",
       "      <td>WATCH: MAXINE WATERS Hits New Low…Trash Talks ...</td>\n",
       "      <td>politics_fake</td>\n",
       "    </tr>\n",
       "  </tbody>\n",
       "</table>\n",
       "</div>"
      ],
      "text/plain": [
       "                                                text          label\n",
       "0  WOW! HILLARY Took State Department Furniture T...  politics_fake\n",
       "1  THE BEST CASE For A TRUMP PRESIDENCY Comes Fro...  politics_fake\n",
       "2  WATCH: MAXINE WATERS Hits New Low…Trash Talks ...  politics_fake"
      ]
     },
     "execution_count": 104,
     "metadata": {},
     "output_type": "execute_result"
    }
   ],
   "source": [
    "politics = pd.concat([politics_fake, politics_real])\n",
    "print(politics.shape)\n",
    "politics.head(3)"
   ]
  },
  {
   "cell_type": "markdown",
   "metadata": {
    "jp-MarkdownHeadingCollapsed": true,
    "tags": []
   },
   "source": [
    "## Sports"
   ]
  },
  {
   "cell_type": "code",
   "execution_count": 123,
   "metadata": {
    "execution": {
     "iopub.execute_input": "2023-04-28T19:07:46.201420Z",
     "iopub.status.busy": "2023-04-28T19:07:46.201420Z",
     "iopub.status.idle": "2023-04-28T19:07:46.217417Z",
     "shell.execute_reply": "2023-04-28T19:07:46.217417Z",
     "shell.execute_reply.started": "2023-04-28T19:07:46.201420Z"
    },
    "tags": []
   },
   "outputs": [],
   "source": [
    "football_real.columns = ['text']\n",
    "series_by_categories['sports'].name = 'text'"
   ]
  },
  {
   "cell_type": "code",
   "execution_count": 126,
   "metadata": {
    "execution": {
     "iopub.execute_input": "2023-04-28T19:08:47.205059Z",
     "iopub.status.busy": "2023-04-28T19:08:47.204058Z",
     "iopub.status.idle": "2023-04-28T19:08:47.210057Z",
     "shell.execute_reply": "2023-04-28T19:08:47.210057Z",
     "shell.execute_reply.started": "2023-04-28T19:08:47.205059Z"
    },
    "tags": []
   },
   "outputs": [
    {
     "name": "stdout",
     "output_type": "stream",
     "text": [
      "real shape: (7000, 1)\n",
      "fake shape: (7000, 1)\n"
     ]
    }
   ],
   "source": [
    "football_real = pd.concat([football_real, series_by_categories['sports'].to_frame().reset_index(drop=True)])\n",
    "football_fake.columns = ['text']\n",
    "print(f'real shape: {football_real.shape}')\n",
    "print(f'fake shape: {football_fake.shape}')"
   ]
  },
  {
   "cell_type": "code",
   "execution_count": 128,
   "metadata": {
    "execution": {
     "iopub.execute_input": "2023-04-28T19:10:50.714015Z",
     "iopub.status.busy": "2023-04-28T19:10:50.714015Z",
     "iopub.status.idle": "2023-04-28T19:10:50.720015Z",
     "shell.execute_reply": "2023-04-28T19:10:50.720015Z",
     "shell.execute_reply.started": "2023-04-28T19:10:50.714015Z"
    },
    "tags": []
   },
   "outputs": [],
   "source": [
    "football_real['label'] = pd.Series(['sports_real']*football_real.shape[0])\n",
    "football_fake['label'] = pd.Series(['sports_fake']*football_fake.shape[0])"
   ]
  },
  {
   "cell_type": "code",
   "execution_count": 129,
   "metadata": {
    "execution": {
     "iopub.execute_input": "2023-04-28T19:11:29.053961Z",
     "iopub.status.busy": "2023-04-28T19:11:29.052960Z",
     "iopub.status.idle": "2023-04-28T19:11:29.068960Z",
     "shell.execute_reply": "2023-04-28T19:11:29.068960Z",
     "shell.execute_reply.started": "2023-04-28T19:11:29.053961Z"
    },
    "tags": []
   },
   "outputs": [
    {
     "data": {
      "text/html": [
       "<div>\n",
       "<style scoped>\n",
       "    .dataframe tbody tr th:only-of-type {\n",
       "        vertical-align: middle;\n",
       "    }\n",
       "\n",
       "    .dataframe tbody tr th {\n",
       "        vertical-align: top;\n",
       "    }\n",
       "\n",
       "    .dataframe thead th {\n",
       "        text-align: right;\n",
       "    }\n",
       "</style>\n",
       "<table border=\"1\" class=\"dataframe\">\n",
       "  <thead>\n",
       "    <tr style=\"text-align: right;\">\n",
       "      <th></th>\n",
       "      <th>text</th>\n",
       "      <th>label</th>\n",
       "    </tr>\n",
       "  </thead>\n",
       "  <tbody>\n",
       "    <tr>\n",
       "      <th>0</th>\n",
       "      <td>the delegation of the first football team in z...</td>\n",
       "      <td>sports_real</td>\n",
       "    </tr>\n",
       "    <tr>\n",
       "      <th>1</th>\n",
       "      <td>engineer mohamed adel fathi, a member of the b...</td>\n",
       "      <td>sports_real</td>\n",
       "    </tr>\n",
       "    <tr>\n",
       "      <th>2</th>\n",
       "      <td>the future team, under the technical leadershi...</td>\n",
       "      <td>sports_real</td>\n",
       "    </tr>\n",
       "    <tr>\n",
       "      <th>3</th>\n",
       "      <td>reda shehata: i won all my matches with pyrami...</td>\n",
       "      <td>sports_real</td>\n",
       "    </tr>\n",
       "    <tr>\n",
       "      <th>4</th>\n",
       "      <td>farouk jaafar.. cooper needs ahmed hegazy beca...</td>\n",
       "      <td>sports_real</td>\n",
       "    </tr>\n",
       "  </tbody>\n",
       "</table>\n",
       "</div>"
      ],
      "text/plain": [
       "                                                text        label\n",
       "0  the delegation of the first football team in z...  sports_real\n",
       "1  engineer mohamed adel fathi, a member of the b...  sports_real\n",
       "2  the future team, under the technical leadershi...  sports_real\n",
       "3  reda shehata: i won all my matches with pyrami...  sports_real\n",
       "4  farouk jaafar.. cooper needs ahmed hegazy beca...  sports_real"
      ]
     },
     "execution_count": 129,
     "metadata": {},
     "output_type": "execute_result"
    }
   ],
   "source": [
    "football = pd.concat([football_real, football_fake])\n",
    "football.head()"
   ]
  },
  {
   "cell_type": "markdown",
   "metadata": {
    "execution": {
     "iopub.execute_input": "2023-04-28T19:12:40.351423Z",
     "iopub.status.busy": "2023-04-28T19:12:40.350423Z",
     "iopub.status.idle": "2023-04-28T19:12:40.363423Z",
     "shell.execute_reply": "2023-04-28T19:12:40.363423Z",
     "shell.execute_reply.started": "2023-04-28T19:12:40.351423Z"
    },
    "jp-MarkdownHeadingCollapsed": true,
    "tags": []
   },
   "source": [
    "## Entertainment"
   ]
  },
  {
   "cell_type": "code",
   "execution_count": 135,
   "metadata": {
    "execution": {
     "iopub.execute_input": "2023-04-28T19:14:43.982920Z",
     "iopub.status.busy": "2023-04-28T19:14:43.982920Z",
     "iopub.status.idle": "2023-04-28T19:14:43.999431Z",
     "shell.execute_reply": "2023-04-28T19:14:43.999431Z",
     "shell.execute_reply.started": "2023-04-28T19:14:43.982920Z"
    },
    "tags": []
   },
   "outputs": [],
   "source": [
    "series_by_categories['entertainment'].name = 'text'\n",
    "real_entertainment.columns = ['text']"
   ]
  },
  {
   "cell_type": "code",
   "execution_count": 146,
   "metadata": {
    "execution": {
     "iopub.execute_input": "2023-04-28T19:22:24.059280Z",
     "iopub.status.busy": "2023-04-28T19:22:24.059280Z",
     "iopub.status.idle": "2023-04-28T19:22:24.071279Z",
     "shell.execute_reply": "2023-04-28T19:22:24.071279Z",
     "shell.execute_reply.started": "2023-04-28T19:22:24.059280Z"
    },
    "tags": []
   },
   "outputs": [
    {
     "data": {
      "text/plain": [
       "(5755,)"
      ]
     },
     "execution_count": 146,
     "metadata": {},
     "output_type": "execute_result"
    }
   ],
   "source": [
    "entertainment_real = pd.concat([real_entertainment, series_by_categories['entertainment']])\n",
    "entertainment_real.shape"
   ]
  },
  {
   "cell_type": "code",
   "execution_count": 148,
   "metadata": {
    "execution": {
     "iopub.execute_input": "2023-04-28T19:23:37.567626Z",
     "iopub.status.busy": "2023-04-28T19:23:37.567626Z",
     "iopub.status.idle": "2023-04-28T19:23:37.585624Z",
     "shell.execute_reply": "2023-04-28T19:23:37.585624Z",
     "shell.execute_reply.started": "2023-04-28T19:23:37.567626Z"
    }
   },
   "outputs": [],
   "source": [
    "real_entertainment = entertainment_real.to_frame()"
   ]
  },
  {
   "cell_type": "code",
   "execution_count": 149,
   "metadata": {
    "execution": {
     "iopub.execute_input": "2023-04-28T19:23:48.715323Z",
     "iopub.status.busy": "2023-04-28T19:23:48.715323Z",
     "iopub.status.idle": "2023-04-28T19:23:48.738328Z",
     "shell.execute_reply": "2023-04-28T19:23:48.738328Z",
     "shell.execute_reply.started": "2023-04-28T19:23:48.715323Z"
    },
    "tags": []
   },
   "outputs": [
    {
     "name": "stdout",
     "output_type": "stream",
     "text": [
      "(5756, 2)\n"
     ]
    },
    {
     "data": {
      "text/html": [
       "<div>\n",
       "<style scoped>\n",
       "    .dataframe tbody tr th:only-of-type {\n",
       "        vertical-align: middle;\n",
       "    }\n",
       "\n",
       "    .dataframe tbody tr th {\n",
       "        vertical-align: top;\n",
       "    }\n",
       "\n",
       "    .dataframe thead th {\n",
       "        text-align: right;\n",
       "    }\n",
       "</style>\n",
       "<table border=\"1\" class=\"dataframe\">\n",
       "  <thead>\n",
       "    <tr style=\"text-align: right;\">\n",
       "      <th></th>\n",
       "      <th>0</th>\n",
       "      <th>label</th>\n",
       "    </tr>\n",
       "  </thead>\n",
       "  <tbody>\n",
       "    <tr>\n",
       "      <th>0</th>\n",
       "      <td>Kim Kardashian Thanks Trump After Alice Johnso...</td>\n",
       "      <td>entertainment_real</td>\n",
       "    </tr>\n",
       "    <tr>\n",
       "      <th>1</th>\n",
       "      <td>Eva Longoria Lists Her $3.8 Million Hollywood ...</td>\n",
       "      <td>entertainment_real</td>\n",
       "    </tr>\n",
       "    <tr>\n",
       "      <th>2</th>\n",
       "      <td>Contact Support</td>\n",
       "      <td>entertainment_real</td>\n",
       "    </tr>\n",
       "    <tr>\n",
       "      <th>3</th>\n",
       "      <td>Hollywood speaks out against director James To...</td>\n",
       "      <td>entertainment_real</td>\n",
       "    </tr>\n",
       "    <tr>\n",
       "      <th>4</th>\n",
       "      <td>Kirsten Dunst continues to have strong opinion...</td>\n",
       "      <td>entertainment_real</td>\n",
       "    </tr>\n",
       "  </tbody>\n",
       "</table>\n",
       "</div>"
      ],
      "text/plain": [
       "                                                   0               label\n",
       "0  Kim Kardashian Thanks Trump After Alice Johnso...  entertainment_real\n",
       "1  Eva Longoria Lists Her $3.8 Million Hollywood ...  entertainment_real\n",
       "2                                    Contact Support  entertainment_real\n",
       "3  Hollywood speaks out against director James To...  entertainment_real\n",
       "4  Kirsten Dunst continues to have strong opinion...  entertainment_real"
      ]
     },
     "execution_count": 149,
     "metadata": {},
     "output_type": "execute_result"
    }
   ],
   "source": [
    "real_entertainment['label'] = pd.Series(['entertainment_real']*real_entertainment.shape[0])\n",
    "print(real_entertainment.shape)\n",
    "real_entertainment.head()"
   ]
  },
  {
   "cell_type": "code",
   "execution_count": 150,
   "metadata": {
    "execution": {
     "iopub.execute_input": "2023-04-28T19:24:32.508999Z",
     "iopub.status.busy": "2023-04-28T19:24:32.508999Z",
     "iopub.status.idle": "2023-04-28T19:24:32.514000Z",
     "shell.execute_reply": "2023-04-28T19:24:32.514000Z",
     "shell.execute_reply.started": "2023-04-28T19:24:32.508999Z"
    }
   },
   "outputs": [
    {
     "data": {
      "text/html": [
       "<div>\n",
       "<style scoped>\n",
       "    .dataframe tbody tr th:only-of-type {\n",
       "        vertical-align: middle;\n",
       "    }\n",
       "\n",
       "    .dataframe tbody tr th {\n",
       "        vertical-align: top;\n",
       "    }\n",
       "\n",
       "    .dataframe thead th {\n",
       "        text-align: right;\n",
       "    }\n",
       "</style>\n",
       "<table border=\"1\" class=\"dataframe\">\n",
       "  <thead>\n",
       "    <tr style=\"text-align: right;\">\n",
       "      <th></th>\n",
       "      <th>text</th>\n",
       "      <th>label</th>\n",
       "    </tr>\n",
       "  </thead>\n",
       "  <tbody>\n",
       "    <tr>\n",
       "      <th>0</th>\n",
       "      <td>Kim Kardashian Thanks Trump After Alice Johnso...</td>\n",
       "      <td>entertainment_real</td>\n",
       "    </tr>\n",
       "    <tr>\n",
       "      <th>1</th>\n",
       "      <td>Eva Longoria Lists Her $3.8 Million Hollywood ...</td>\n",
       "      <td>entertainment_real</td>\n",
       "    </tr>\n",
       "    <tr>\n",
       "      <th>2</th>\n",
       "      <td>Contact Support</td>\n",
       "      <td>entertainment_real</td>\n",
       "    </tr>\n",
       "  </tbody>\n",
       "</table>\n",
       "</div>"
      ],
      "text/plain": [
       "                                                text               label\n",
       "0  Kim Kardashian Thanks Trump After Alice Johnso...  entertainment_real\n",
       "1  Eva Longoria Lists Her $3.8 Million Hollywood ...  entertainment_real\n",
       "2                                    Contact Support  entertainment_real"
      ]
     },
     "execution_count": 150,
     "metadata": {},
     "output_type": "execute_result"
    }
   ],
   "source": [
    "real_entertainment.columns = ['text', 'label']\n",
    "real_entertainment.head(3)"
   ]
  },
  {
   "cell_type": "code",
   "execution_count": 139,
   "metadata": {
    "execution": {
     "iopub.execute_input": "2023-04-28T19:16:07.727288Z",
     "iopub.status.busy": "2023-04-28T19:16:07.726244Z",
     "iopub.status.idle": "2023-04-28T19:16:07.742754Z",
     "shell.execute_reply": "2023-04-28T19:16:07.741754Z",
     "shell.execute_reply.started": "2023-04-28T19:16:07.727288Z"
    }
   },
   "outputs": [],
   "source": [
    "fake_entertainment.columns = ['text']"
   ]
  },
  {
   "cell_type": "code",
   "execution_count": 143,
   "metadata": {
    "execution": {
     "iopub.execute_input": "2023-04-28T19:18:13.676129Z",
     "iopub.status.busy": "2023-04-28T19:18:13.676129Z",
     "iopub.status.idle": "2023-04-28T19:18:13.687122Z",
     "shell.execute_reply": "2023-04-28T19:18:13.687122Z",
     "shell.execute_reply.started": "2023-04-28T19:18:13.676129Z"
    },
    "tags": []
   },
   "outputs": [],
   "source": [
    "fake_entertainment = fake_entertainment.to_frame()"
   ]
  },
  {
   "cell_type": "code",
   "execution_count": 144,
   "metadata": {
    "execution": {
     "iopub.execute_input": "2023-04-28T19:18:16.301044Z",
     "iopub.status.busy": "2023-04-28T19:18:16.300043Z",
     "iopub.status.idle": "2023-04-28T19:18:16.322043Z",
     "shell.execute_reply": "2023-04-28T19:18:16.322043Z",
     "shell.execute_reply.started": "2023-04-28T19:18:16.301044Z"
    },
    "tags": []
   },
   "outputs": [
    {
     "name": "stdout",
     "output_type": "stream",
     "text": [
      "(5756, 2)\n"
     ]
    },
    {
     "data": {
      "text/html": [
       "<div>\n",
       "<style scoped>\n",
       "    .dataframe tbody tr th:only-of-type {\n",
       "        vertical-align: middle;\n",
       "    }\n",
       "\n",
       "    .dataframe tbody tr th {\n",
       "        vertical-align: top;\n",
       "    }\n",
       "\n",
       "    .dataframe thead th {\n",
       "        text-align: right;\n",
       "    }\n",
       "</style>\n",
       "<table border=\"1\" class=\"dataframe\">\n",
       "  <thead>\n",
       "    <tr style=\"text-align: right;\">\n",
       "      <th></th>\n",
       "      <th>title</th>\n",
       "      <th>label</th>\n",
       "    </tr>\n",
       "  </thead>\n",
       "  <tbody>\n",
       "    <tr>\n",
       "      <th>0</th>\n",
       "      <td>Gwen Stefani Got Dumped by Blake Shelton Over ...</td>\n",
       "      <td>entertainment_fake</td>\n",
       "    </tr>\n",
       "    <tr>\n",
       "      <th>1</th>\n",
       "      <td>Broward County Sheriff Fired For Lying About P...</td>\n",
       "      <td>entertainment_fake</td>\n",
       "    </tr>\n",
       "    <tr>\n",
       "      <th>2</th>\n",
       "      <td>Amber Rose Shuts Down French Montana Dating Ru...</td>\n",
       "      <td>entertainment_fake</td>\n",
       "    </tr>\n",
       "    <tr>\n",
       "      <th>3</th>\n",
       "      <td>Mel Gibson: Hollywood Pedophiles Have Nowhere ...</td>\n",
       "      <td>entertainment_fake</td>\n",
       "    </tr>\n",
       "    <tr>\n",
       "      <th>4</th>\n",
       "      <td>5 Reasons Why Tarek El Moussa Will Overcome Hi...</td>\n",
       "      <td>entertainment_fake</td>\n",
       "    </tr>\n",
       "  </tbody>\n",
       "</table>\n",
       "</div>"
      ],
      "text/plain": [
       "                                               title               label\n",
       "0  Gwen Stefani Got Dumped by Blake Shelton Over ...  entertainment_fake\n",
       "1  Broward County Sheriff Fired For Lying About P...  entertainment_fake\n",
       "2  Amber Rose Shuts Down French Montana Dating Ru...  entertainment_fake\n",
       "3  Mel Gibson: Hollywood Pedophiles Have Nowhere ...  entertainment_fake\n",
       "4  5 Reasons Why Tarek El Moussa Will Overcome Hi...  entertainment_fake"
      ]
     },
     "execution_count": 144,
     "metadata": {},
     "output_type": "execute_result"
    }
   ],
   "source": [
    "fake_entertainment['label'] = pd.Series(['entertainment_fake']*fake_entertainment.shape[0])\n",
    "print(fake_entertainment.shape)\n",
    "fake_entertainment.head()"
   ]
  },
  {
   "cell_type": "code",
   "execution_count": 177,
   "metadata": {
    "execution": {
     "iopub.execute_input": "2023-04-28T19:42:47.760686Z",
     "iopub.status.busy": "2023-04-28T19:42:47.760686Z",
     "iopub.status.idle": "2023-04-28T19:42:47.767684Z",
     "shell.execute_reply": "2023-04-28T19:42:47.767684Z",
     "shell.execute_reply.started": "2023-04-28T19:42:47.760686Z"
    }
   },
   "outputs": [
    {
     "data": {
      "text/html": [
       "<div>\n",
       "<style scoped>\n",
       "    .dataframe tbody tr th:only-of-type {\n",
       "        vertical-align: middle;\n",
       "    }\n",
       "\n",
       "    .dataframe tbody tr th {\n",
       "        vertical-align: top;\n",
       "    }\n",
       "\n",
       "    .dataframe thead th {\n",
       "        text-align: right;\n",
       "    }\n",
       "</style>\n",
       "<table border=\"1\" class=\"dataframe\">\n",
       "  <thead>\n",
       "    <tr style=\"text-align: right;\">\n",
       "      <th></th>\n",
       "      <th>text</th>\n",
       "      <th>label</th>\n",
       "    </tr>\n",
       "  </thead>\n",
       "  <tbody>\n",
       "    <tr>\n",
       "      <th>0</th>\n",
       "      <td>Gwen Stefani Got Dumped by Blake Shelton Over ...</td>\n",
       "      <td>entertainment_fake</td>\n",
       "    </tr>\n",
       "    <tr>\n",
       "      <th>1</th>\n",
       "      <td>Broward County Sheriff Fired For Lying About P...</td>\n",
       "      <td>entertainment_fake</td>\n",
       "    </tr>\n",
       "    <tr>\n",
       "      <th>2</th>\n",
       "      <td>Amber Rose Shuts Down French Montana Dating Ru...</td>\n",
       "      <td>entertainment_fake</td>\n",
       "    </tr>\n",
       "    <tr>\n",
       "      <th>3</th>\n",
       "      <td>Mel Gibson: Hollywood Pedophiles Have Nowhere ...</td>\n",
       "      <td>entertainment_fake</td>\n",
       "    </tr>\n",
       "    <tr>\n",
       "      <th>4</th>\n",
       "      <td>5 Reasons Why Tarek El Moussa Will Overcome Hi...</td>\n",
       "      <td>entertainment_fake</td>\n",
       "    </tr>\n",
       "  </tbody>\n",
       "</table>\n",
       "</div>"
      ],
      "text/plain": [
       "                                                text               label\n",
       "0  Gwen Stefani Got Dumped by Blake Shelton Over ...  entertainment_fake\n",
       "1  Broward County Sheriff Fired For Lying About P...  entertainment_fake\n",
       "2  Amber Rose Shuts Down French Montana Dating Ru...  entertainment_fake\n",
       "3  Mel Gibson: Hollywood Pedophiles Have Nowhere ...  entertainment_fake\n",
       "4  5 Reasons Why Tarek El Moussa Will Overcome Hi...  entertainment_fake"
      ]
     },
     "execution_count": 177,
     "metadata": {},
     "output_type": "execute_result"
    }
   ],
   "source": [
    "fake_entertainment.columns = ['text', 'label']\n",
    "fake_entertainment.head()"
   ]
  },
  {
   "cell_type": "markdown",
   "metadata": {
    "jp-MarkdownHeadingCollapsed": true,
    "tags": []
   },
   "source": [
    "## Health"
   ]
  },
  {
   "cell_type": "code",
   "execution_count": 151,
   "metadata": {
    "execution": {
     "iopub.execute_input": "2023-04-28T19:25:41.706955Z",
     "iopub.status.busy": "2023-04-28T19:25:41.706955Z",
     "iopub.status.idle": "2023-04-28T19:25:41.716955Z",
     "shell.execute_reply": "2023-04-28T19:25:41.716955Z",
     "shell.execute_reply.started": "2023-04-28T19:25:41.706955Z"
    }
   },
   "outputs": [
    {
     "data": {
      "text/html": [
       "<div>\n",
       "<style scoped>\n",
       "    .dataframe tbody tr th:only-of-type {\n",
       "        vertical-align: middle;\n",
       "    }\n",
       "\n",
       "    .dataframe tbody tr th {\n",
       "        vertical-align: top;\n",
       "    }\n",
       "\n",
       "    .dataframe thead th {\n",
       "        text-align: right;\n",
       "    }\n",
       "</style>\n",
       "<table border=\"1\" class=\"dataframe\">\n",
       "  <thead>\n",
       "    <tr style=\"text-align: right;\">\n",
       "      <th></th>\n",
       "      <th>id</th>\n",
       "      <th>tweet</th>\n",
       "      <th>label</th>\n",
       "    </tr>\n",
       "  </thead>\n",
       "  <tbody>\n",
       "    <tr>\n",
       "      <th>0</th>\n",
       "      <td>1</td>\n",
       "      <td>The CDC currently reports 99031 deaths. In gen...</td>\n",
       "      <td>real</td>\n",
       "    </tr>\n",
       "    <tr>\n",
       "      <th>1</th>\n",
       "      <td>2</td>\n",
       "      <td>States reported 1121 deaths a small rise from ...</td>\n",
       "      <td>real</td>\n",
       "    </tr>\n",
       "    <tr>\n",
       "      <th>2</th>\n",
       "      <td>3</td>\n",
       "      <td>Politically Correct Woman (Almost) Uses Pandem...</td>\n",
       "      <td>fake</td>\n",
       "    </tr>\n",
       "    <tr>\n",
       "      <th>3</th>\n",
       "      <td>4</td>\n",
       "      <td>#IndiaFightsCorona: We have 1524 #COVID testin...</td>\n",
       "      <td>real</td>\n",
       "    </tr>\n",
       "    <tr>\n",
       "      <th>4</th>\n",
       "      <td>5</td>\n",
       "      <td>Populous states can generate large case counts...</td>\n",
       "      <td>real</td>\n",
       "    </tr>\n",
       "    <tr>\n",
       "      <th>...</th>\n",
       "      <td>...</td>\n",
       "      <td>...</td>\n",
       "      <td>...</td>\n",
       "    </tr>\n",
       "    <tr>\n",
       "      <th>2135</th>\n",
       "      <td>2136</td>\n",
       "      <td>Donald Trump wrongly claimed that New Zealand ...</td>\n",
       "      <td>fake</td>\n",
       "    </tr>\n",
       "    <tr>\n",
       "      <th>2136</th>\n",
       "      <td>2137</td>\n",
       "      <td>Current understanding is #COVID19 spreads most...</td>\n",
       "      <td>real</td>\n",
       "    </tr>\n",
       "    <tr>\n",
       "      <th>2137</th>\n",
       "      <td>2138</td>\n",
       "      <td>Nothing screams “I am sat around doing fuck al...</td>\n",
       "      <td>fake</td>\n",
       "    </tr>\n",
       "    <tr>\n",
       "      <th>2138</th>\n",
       "      <td>2139</td>\n",
       "      <td>Birx says COVID-19 outbreak not under control ...</td>\n",
       "      <td>fake</td>\n",
       "    </tr>\n",
       "    <tr>\n",
       "      <th>2139</th>\n",
       "      <td>2140</td>\n",
       "      <td>Another 4422 new coronavirus cases have been c...</td>\n",
       "      <td>real</td>\n",
       "    </tr>\n",
       "  </tbody>\n",
       "</table>\n",
       "<p>10700 rows × 3 columns</p>\n",
       "</div>"
      ],
      "text/plain": [
       "        id                                              tweet label\n",
       "0        1  The CDC currently reports 99031 deaths. In gen...  real\n",
       "1        2  States reported 1121 deaths a small rise from ...  real\n",
       "2        3  Politically Correct Woman (Almost) Uses Pandem...  fake\n",
       "3        4  #IndiaFightsCorona: We have 1524 #COVID testin...  real\n",
       "4        5  Populous states can generate large case counts...  real\n",
       "...    ...                                                ...   ...\n",
       "2135  2136  Donald Trump wrongly claimed that New Zealand ...  fake\n",
       "2136  2137  Current understanding is #COVID19 spreads most...  real\n",
       "2137  2138  Nothing screams “I am sat around doing fuck al...  fake\n",
       "2138  2139  Birx says COVID-19 outbreak not under control ...  fake\n",
       "2139  2140  Another 4422 new coronavirus cases have been c...  real\n",
       "\n",
       "[10700 rows x 3 columns]"
      ]
     },
     "execution_count": 151,
     "metadata": {},
     "output_type": "execute_result"
    }
   ],
   "source": [
    "covid_df"
   ]
  },
  {
   "cell_type": "code",
   "execution_count": 154,
   "metadata": {
    "execution": {
     "iopub.execute_input": "2023-04-28T19:28:13.968956Z",
     "iopub.status.busy": "2023-04-28T19:28:13.968956Z",
     "iopub.status.idle": "2023-04-28T19:28:13.972955Z",
     "shell.execute_reply": "2023-04-28T19:28:13.972955Z",
     "shell.execute_reply.started": "2023-04-28T19:28:13.968956Z"
    },
    "tags": []
   },
   "outputs": [],
   "source": [
    "cov_fake = covid_news_by_categories['false'].to_frame()\n",
    "cov_fake['label'] = pd.Series(['health_fake']*cov_fake.shape[0])"
   ]
  },
  {
   "cell_type": "code",
   "execution_count": 158,
   "metadata": {
    "execution": {
     "iopub.execute_input": "2023-04-28T19:29:44.649954Z",
     "iopub.status.busy": "2023-04-28T19:29:44.648954Z",
     "iopub.status.idle": "2023-04-28T19:29:44.662954Z",
     "shell.execute_reply": "2023-04-28T19:29:44.662954Z",
     "shell.execute_reply.started": "2023-04-28T19:29:44.649954Z"
    }
   },
   "outputs": [],
   "source": [
    "cov_real = covid_news_by_categories['true'].to_frame()\n",
    "cov_real['label'] = pd.Series(['health_real']*cov_real.shape[0])"
   ]
  },
  {
   "cell_type": "code",
   "execution_count": 159,
   "metadata": {
    "execution": {
     "iopub.execute_input": "2023-04-28T19:30:44.901955Z",
     "iopub.status.busy": "2023-04-28T19:30:44.900954Z",
     "iopub.status.idle": "2023-04-28T19:30:44.919954Z",
     "shell.execute_reply": "2023-04-28T19:30:44.919954Z",
     "shell.execute_reply.started": "2023-04-28T19:30:44.901955Z"
    }
   },
   "outputs": [],
   "source": [
    "covid_df = covid_df[['tweet', 'label']]\n",
    "covid_df.columns = ['text', 'label']"
   ]
  },
  {
   "cell_type": "code",
   "execution_count": 165,
   "metadata": {
    "execution": {
     "iopub.execute_input": "2023-04-28T19:34:08.708043Z",
     "iopub.status.busy": "2023-04-28T19:34:08.707043Z",
     "iopub.status.idle": "2023-04-28T19:34:08.715551Z",
     "shell.execute_reply": "2023-04-28T19:34:08.715551Z",
     "shell.execute_reply.started": "2023-04-28T19:34:08.708043Z"
    },
    "tags": []
   },
   "outputs": [],
   "source": [
    "def label_transform(label):\n",
    "    if label=='real':\n",
    "        label = 'health_real'\n",
    "    else:\n",
    "        label = 'health_fake'\n",
    "    return label"
   ]
  },
  {
   "cell_type": "code",
   "execution_count": 168,
   "metadata": {
    "execution": {
     "iopub.execute_input": "2023-04-28T19:34:24.493962Z",
     "iopub.status.busy": "2023-04-28T19:34:24.493962Z",
     "iopub.status.idle": "2023-04-28T19:34:24.514476Z",
     "shell.execute_reply": "2023-04-28T19:34:24.514476Z",
     "shell.execute_reply.started": "2023-04-28T19:34:24.493962Z"
    },
    "tags": []
   },
   "outputs": [
    {
     "name": "stderr",
     "output_type": "stream",
     "text": [
      "C:\\Users\\Home\\AppData\\Local\\Temp\\ipykernel_15552\\317385225.py:1: SettingWithCopyWarning: \n",
      "A value is trying to be set on a copy of a slice from a DataFrame.\n",
      "Try using .loc[row_indexer,col_indexer] = value instead\n",
      "\n",
      "See the caveats in the documentation: https://pandas.pydata.org/pandas-docs/stable/user_guide/indexing.html#returning-a-view-versus-a-copy\n",
      "  covid_df['label'] = covid_df['label'].apply(lambda x: label_transform(x))\n"
     ]
    }
   ],
   "source": [
    "covid_df['label'] = covid_df['label'].apply(lambda x: label_transform(x))"
   ]
  },
  {
   "cell_type": "code",
   "execution_count": 170,
   "metadata": {
    "execution": {
     "iopub.execute_input": "2023-04-28T19:35:34.566539Z",
     "iopub.status.busy": "2023-04-28T19:35:34.566539Z",
     "iopub.status.idle": "2023-04-28T19:35:34.584534Z",
     "shell.execute_reply": "2023-04-28T19:35:34.584534Z",
     "shell.execute_reply.started": "2023-04-28T19:35:34.566539Z"
    },
    "tags": []
   },
   "outputs": [
    {
     "name": "stdout",
     "output_type": "stream",
     "text": [
      "(17085, 2)\n"
     ]
    },
    {
     "data": {
      "text/html": [
       "<div>\n",
       "<style scoped>\n",
       "    .dataframe tbody tr th:only-of-type {\n",
       "        vertical-align: middle;\n",
       "    }\n",
       "\n",
       "    .dataframe tbody tr th {\n",
       "        vertical-align: top;\n",
       "    }\n",
       "\n",
       "    .dataframe thead th {\n",
       "        text-align: right;\n",
       "    }\n",
       "</style>\n",
       "<table border=\"1\" class=\"dataframe\">\n",
       "  <thead>\n",
       "    <tr style=\"text-align: right;\">\n",
       "      <th></th>\n",
       "      <th>text</th>\n",
       "      <th>label</th>\n",
       "    </tr>\n",
       "  </thead>\n",
       "  <tbody>\n",
       "    <tr>\n",
       "      <th>0</th>\n",
       "      <td>The CDC currently reports 99031 deaths. In gen...</td>\n",
       "      <td>health_real</td>\n",
       "    </tr>\n",
       "    <tr>\n",
       "      <th>1</th>\n",
       "      <td>States reported 1121 deaths a small rise from ...</td>\n",
       "      <td>health_real</td>\n",
       "    </tr>\n",
       "    <tr>\n",
       "      <th>2</th>\n",
       "      <td>Politically Correct Woman (Almost) Uses Pandem...</td>\n",
       "      <td>health_fake</td>\n",
       "    </tr>\n",
       "    <tr>\n",
       "      <th>3</th>\n",
       "      <td>#IndiaFightsCorona: We have 1524 #COVID testin...</td>\n",
       "      <td>health_real</td>\n",
       "    </tr>\n",
       "    <tr>\n",
       "      <th>4</th>\n",
       "      <td>Populous states can generate large case counts...</td>\n",
       "      <td>health_real</td>\n",
       "    </tr>\n",
       "  </tbody>\n",
       "</table>\n",
       "</div>"
      ],
      "text/plain": [
       "                                                text        label\n",
       "0  The CDC currently reports 99031 deaths. In gen...  health_real\n",
       "1  States reported 1121 deaths a small rise from ...  health_real\n",
       "2  Politically Correct Woman (Almost) Uses Pandem...  health_fake\n",
       "3  #IndiaFightsCorona: We have 1524 #COVID testin...  health_real\n",
       "4  Populous states can generate large case counts...  health_real"
      ]
     },
     "execution_count": 170,
     "metadata": {},
     "output_type": "execute_result"
    }
   ],
   "source": [
    "health = pd.concat([covid_df, cov_fake, cov_real])\n",
    "print(health.shape)\n",
    "health.head()"
   ]
  },
  {
   "cell_type": "code",
   "execution_count": 171,
   "metadata": {
    "execution": {
     "iopub.execute_input": "2023-04-28T19:36:05.036962Z",
     "iopub.status.busy": "2023-04-28T19:36:05.036962Z",
     "iopub.status.idle": "2023-04-28T19:36:05.055471Z",
     "shell.execute_reply": "2023-04-28T19:36:05.055471Z",
     "shell.execute_reply.started": "2023-04-28T19:36:05.036962Z"
    }
   },
   "outputs": [
    {
     "data": {
      "text/plain": [
       "health_fake    11415\n",
       "health_real     5670\n",
       "Name: label, dtype: int64"
      ]
     },
     "execution_count": 171,
     "metadata": {},
     "output_type": "execute_result"
    }
   ],
   "source": [
    "health['label'].value_counts()"
   ]
  },
  {
   "cell_type": "code",
   "execution_count": 173,
   "metadata": {
    "execution": {
     "iopub.execute_input": "2023-04-28T19:38:57.016511Z",
     "iopub.status.busy": "2023-04-28T19:38:57.015511Z",
     "iopub.status.idle": "2023-04-28T19:38:57.033509Z",
     "shell.execute_reply": "2023-04-28T19:38:57.033509Z",
     "shell.execute_reply.started": "2023-04-28T19:38:57.016511Z"
    },
    "tags": []
   },
   "outputs": [
    {
     "name": "stdout",
     "output_type": "stream",
     "text": [
      "(11340, 2)\n"
     ]
    },
    {
     "data": {
      "text/html": [
       "<div>\n",
       "<style scoped>\n",
       "    .dataframe tbody tr th:only-of-type {\n",
       "        vertical-align: middle;\n",
       "    }\n",
       "\n",
       "    .dataframe tbody tr th {\n",
       "        vertical-align: top;\n",
       "    }\n",
       "\n",
       "    .dataframe thead th {\n",
       "        text-align: right;\n",
       "    }\n",
       "</style>\n",
       "<table border=\"1\" class=\"dataframe\">\n",
       "  <thead>\n",
       "    <tr style=\"text-align: right;\">\n",
       "      <th></th>\n",
       "      <th>text</th>\n",
       "      <th>label</th>\n",
       "    </tr>\n",
       "  </thead>\n",
       "  <tbody>\n",
       "    <tr>\n",
       "      <th>0</th>\n",
       "      <td>The CDC currently reports 99031 deaths. In gen...</td>\n",
       "      <td>health_real</td>\n",
       "    </tr>\n",
       "    <tr>\n",
       "      <th>1</th>\n",
       "      <td>States reported 1121 deaths a small rise from ...</td>\n",
       "      <td>health_real</td>\n",
       "    </tr>\n",
       "    <tr>\n",
       "      <th>2</th>\n",
       "      <td>#IndiaFightsCorona: We have 1524 #COVID testin...</td>\n",
       "      <td>health_real</td>\n",
       "    </tr>\n",
       "    <tr>\n",
       "      <th>3</th>\n",
       "      <td>Populous states can generate large case counts...</td>\n",
       "      <td>health_real</td>\n",
       "    </tr>\n",
       "    <tr>\n",
       "      <th>4</th>\n",
       "      <td>Covid Act Now found \"on average each person in...</td>\n",
       "      <td>health_real</td>\n",
       "    </tr>\n",
       "  </tbody>\n",
       "</table>\n",
       "</div>"
      ],
      "text/plain": [
       "                                                text        label\n",
       "0  The CDC currently reports 99031 deaths. In gen...  health_real\n",
       "1  States reported 1121 deaths a small rise from ...  health_real\n",
       "2  #IndiaFightsCorona: We have 1524 #COVID testin...  health_real\n",
       "3  Populous states can generate large case counts...  health_real\n",
       "4  Covid Act Now found \"on average each person in...  health_real"
      ]
     },
     "execution_count": 173,
     "metadata": {},
     "output_type": "execute_result"
    }
   ],
   "source": [
    "health = pd.concat([\n",
    "    health[health['label']=='health_real'].reset_index(drop=True),\n",
    "    health[health['label']=='health_fake'].sample(5670).reset_index(drop=True)\n",
    "])\n",
    "print(health.shape)\n",
    "health.head()"
   ]
  },
  {
   "cell_type": "code",
   "execution_count": 174,
   "metadata": {
    "execution": {
     "iopub.execute_input": "2023-04-28T19:39:06.948169Z",
     "iopub.status.busy": "2023-04-28T19:39:06.948169Z",
     "iopub.status.idle": "2023-04-28T19:39:06.964167Z",
     "shell.execute_reply": "2023-04-28T19:39:06.964167Z",
     "shell.execute_reply.started": "2023-04-28T19:39:06.948169Z"
    }
   },
   "outputs": [
    {
     "data": {
      "text/plain": [
       "health_real    5670\n",
       "health_fake    5670\n",
       "Name: label, dtype: int64"
      ]
     },
     "execution_count": 174,
     "metadata": {},
     "output_type": "execute_result"
    }
   ],
   "source": [
    "health['label'].value_counts()"
   ]
  },
  {
   "cell_type": "markdown",
   "metadata": {
    "tags": []
   },
   "source": [
    "## Final"
   ]
  },
  {
   "cell_type": "code",
   "execution_count": 202,
   "metadata": {
    "execution": {
     "iopub.execute_input": "2023-04-28T19:47:30.615954Z",
     "iopub.status.busy": "2023-04-28T19:47:30.614955Z",
     "iopub.status.idle": "2023-04-28T19:47:30.629963Z",
     "shell.execute_reply": "2023-04-28T19:47:30.629963Z",
     "shell.execute_reply.started": "2023-04-28T19:47:30.615954Z"
    },
    "tags": []
   },
   "outputs": [
    {
     "data": {
      "text/plain": [
       "(50852, 2)"
      ]
     },
     "execution_count": 202,
     "metadata": {},
     "output_type": "execute_result"
    }
   ],
   "source": [
    "subj_fake_real_dataset = pd.concat([health, fake_entertainment, real_entertainment, football, politics]).reset_index(drop=True)\n",
    "subj_fake_real_dataset.shape"
   ]
  },
  {
   "cell_type": "code",
   "execution_count": 203,
   "metadata": {
    "execution": {
     "iopub.execute_input": "2023-04-28T19:47:31.122991Z",
     "iopub.status.busy": "2023-04-28T19:47:31.122991Z",
     "iopub.status.idle": "2023-04-28T19:47:31.149505Z",
     "shell.execute_reply": "2023-04-28T19:47:31.148504Z",
     "shell.execute_reply.started": "2023-04-28T19:47:31.122991Z"
    },
    "tags": []
   },
   "outputs": [],
   "source": [
    "subj_fake_real_dataset = subj_fake_real_dataset.dropna()"
   ]
  },
  {
   "cell_type": "code",
   "execution_count": 204,
   "metadata": {
    "execution": {
     "iopub.execute_input": "2023-04-28T19:47:32.276454Z",
     "iopub.status.busy": "2023-04-28T19:47:32.275457Z",
     "iopub.status.idle": "2023-04-28T19:47:32.296468Z",
     "shell.execute_reply": "2023-04-28T19:47:32.296468Z",
     "shell.execute_reply.started": "2023-04-28T19:47:32.276454Z"
    }
   },
   "outputs": [],
   "source": [
    "subj_fake_real_dataset = subj_fake_real_dataset.sample(frac=1).reset_index(drop=True)"
   ]
  },
  {
   "cell_type": "code",
   "execution_count": 205,
   "metadata": {
    "execution": {
     "iopub.execute_input": "2023-04-28T19:47:33.800960Z",
     "iopub.status.busy": "2023-04-28T19:47:33.800960Z",
     "iopub.status.idle": "2023-04-28T19:47:33.821955Z",
     "shell.execute_reply": "2023-04-28T19:47:33.821955Z",
     "shell.execute_reply.started": "2023-04-28T19:47:33.800960Z"
    },
    "tags": []
   },
   "outputs": [
    {
     "name": "stdout",
     "output_type": "stream",
     "text": [
      "<class 'pandas.core.frame.DataFrame'>\n",
      "RangeIndex: 50847 entries, 0 to 50846\n",
      "Data columns (total 2 columns):\n",
      " #   Column  Non-Null Count  Dtype \n",
      "---  ------  --------------  ----- \n",
      " 0   text    50847 non-null  object\n",
      " 1   label   50847 non-null  object\n",
      "dtypes: object(2)\n",
      "memory usage: 794.6+ KB\n"
     ]
    }
   ],
   "source": [
    "subj_fake_real_dataset.info()"
   ]
  },
  {
   "cell_type": "code",
   "execution_count": 206,
   "metadata": {
    "execution": {
     "iopub.execute_input": "2023-04-28T19:47:34.422967Z",
     "iopub.status.busy": "2023-04-28T19:47:34.422967Z",
     "iopub.status.idle": "2023-04-28T19:47:34.435978Z",
     "shell.execute_reply": "2023-04-28T19:47:34.435978Z",
     "shell.execute_reply.started": "2023-04-28T19:47:34.422967Z"
    },
    "tags": []
   },
   "outputs": [
    {
     "data": {
      "text/plain": [
       "politics_fake         7000\n",
       "politics_real         7000\n",
       "sports_fake           6999\n",
       "sports_real           6999\n",
       "entertainment_fake    5755\n",
       "entertainment_real    5754\n",
       "health_real           5670\n",
       "health_fake           5670\n",
       "Name: label, dtype: int64"
      ]
     },
     "execution_count": 206,
     "metadata": {},
     "output_type": "execute_result"
    }
   ],
   "source": [
    "subj_fake_real_dataset.label.value_counts()"
   ]
  },
  {
   "cell_type": "code",
   "execution_count": 207,
   "metadata": {
    "execution": {
     "iopub.execute_input": "2023-04-28T19:47:36.863459Z",
     "iopub.status.busy": "2023-04-28T19:47:36.863459Z",
     "iopub.status.idle": "2023-04-28T19:47:36.877459Z",
     "shell.execute_reply": "2023-04-28T19:47:36.877459Z",
     "shell.execute_reply.started": "2023-04-28T19:47:36.863459Z"
    },
    "tags": []
   },
   "outputs": [
    {
     "data": {
      "text/html": [
       "<div>\n",
       "<style scoped>\n",
       "    .dataframe tbody tr th:only-of-type {\n",
       "        vertical-align: middle;\n",
       "    }\n",
       "\n",
       "    .dataframe tbody tr th {\n",
       "        vertical-align: top;\n",
       "    }\n",
       "\n",
       "    .dataframe thead th {\n",
       "        text-align: right;\n",
       "    }\n",
       "</style>\n",
       "<table border=\"1\" class=\"dataframe\">\n",
       "  <thead>\n",
       "    <tr style=\"text-align: right;\">\n",
       "      <th></th>\n",
       "      <th>text</th>\n",
       "      <th>label</th>\n",
       "    </tr>\n",
       "  </thead>\n",
       "  <tbody>\n",
       "    <tr>\n",
       "      <th>0</th>\n",
       "      <td>Our daily update is published. We’ve now track...</td>\n",
       "      <td>health_real</td>\n",
       "    </tr>\n",
       "    <tr>\n",
       "      <th>1</th>\n",
       "      <td>???Joe Biden and the Democrats want to prosecu...</td>\n",
       "      <td>health_fake</td>\n",
       "    </tr>\n",
       "    <tr>\n",
       "      <th>2</th>\n",
       "      <td>Anne Hathaway and Kate Hudson Interview – BRID...</td>\n",
       "      <td>entertainment_fake</td>\n",
       "    </tr>\n",
       "    <tr>\n",
       "      <th>3</th>\n",
       "      <td>-hilal _ al-fath\\nwe told you the verdict is a...</td>\n",
       "      <td>sports_fake</td>\n",
       "    </tr>\n",
       "    <tr>\n",
       "      <th>4</th>\n",
       "      <td>referee haha</td>\n",
       "      <td>sports_fake</td>\n",
       "    </tr>\n",
       "  </tbody>\n",
       "</table>\n",
       "</div>"
      ],
      "text/plain": [
       "                                                text               label\n",
       "0  Our daily update is published. We’ve now track...         health_real\n",
       "1  ???Joe Biden and the Democrats want to prosecu...         health_fake\n",
       "2  Anne Hathaway and Kate Hudson Interview – BRID...  entertainment_fake\n",
       "3  -hilal _ al-fath\\nwe told you the verdict is a...         sports_fake\n",
       "4                                       referee haha         sports_fake"
      ]
     },
     "execution_count": 207,
     "metadata": {},
     "output_type": "execute_result"
    }
   ],
   "source": [
    "subj_fake_real_dataset.head()"
   ]
  },
  {
   "cell_type": "code",
   "execution_count": 208,
   "metadata": {
    "execution": {
     "iopub.execute_input": "2023-04-28T19:47:38.160237Z",
     "iopub.status.busy": "2023-04-28T19:47:38.160237Z",
     "iopub.status.idle": "2023-04-28T19:47:38.178237Z",
     "shell.execute_reply": "2023-04-28T19:47:38.177237Z",
     "shell.execute_reply.started": "2023-04-28T19:47:38.160237Z"
    },
    "tags": []
   },
   "outputs": [
    {
     "data": {
      "text/html": [
       "<div>\n",
       "<style scoped>\n",
       "    .dataframe tbody tr th:only-of-type {\n",
       "        vertical-align: middle;\n",
       "    }\n",
       "\n",
       "    .dataframe tbody tr th {\n",
       "        vertical-align: top;\n",
       "    }\n",
       "\n",
       "    .dataframe thead th {\n",
       "        text-align: right;\n",
       "    }\n",
       "</style>\n",
       "<table border=\"1\" class=\"dataframe\">\n",
       "  <thead>\n",
       "    <tr style=\"text-align: right;\">\n",
       "      <th></th>\n",
       "      <th>text</th>\n",
       "      <th>label</th>\n",
       "    </tr>\n",
       "  </thead>\n",
       "  <tbody>\n",
       "    <tr>\n",
       "      <th>50842</th>\n",
       "      <td>Botched recap: drs. terry dubrow and paul nass...</td>\n",
       "      <td>entertainment_real</td>\n",
       "    </tr>\n",
       "    <tr>\n",
       "      <th>50843</th>\n",
       "      <td>LEGENDARY DIRECTOR Shocks Liberal Elites With ...</td>\n",
       "      <td>politics_fake</td>\n",
       "    </tr>\n",
       "    <tr>\n",
       "      <th>50844</th>\n",
       "      <td>will the national team travel to cameroon with...</td>\n",
       "      <td>sports_real</td>\n",
       "    </tr>\n",
       "    <tr>\n",
       "      <th>50845</th>\n",
       "      <td>mostafa shalabi is shooting fire, we are waiti...</td>\n",
       "      <td>sports_fake</td>\n",
       "    </tr>\n",
       "    <tr>\n",
       "      <th>50846</th>\n",
       "      <td>'Who wore it best?' Kate Hudson channels Leona...</td>\n",
       "      <td>entertainment_real</td>\n",
       "    </tr>\n",
       "  </tbody>\n",
       "</table>\n",
       "</div>"
      ],
      "text/plain": [
       "                                                    text               label\n",
       "50842  Botched recap: drs. terry dubrow and paul nass...  entertainment_real\n",
       "50843  LEGENDARY DIRECTOR Shocks Liberal Elites With ...       politics_fake\n",
       "50844  will the national team travel to cameroon with...         sports_real\n",
       "50845  mostafa shalabi is shooting fire, we are waiti...         sports_fake\n",
       "50846  'Who wore it best?' Kate Hudson channels Leona...  entertainment_real"
      ]
     },
     "execution_count": 208,
     "metadata": {},
     "output_type": "execute_result"
    }
   ],
   "source": [
    "subj_fake_real_dataset.tail()"
   ]
  },
  {
   "cell_type": "code",
   "execution_count": 209,
   "metadata": {
    "execution": {
     "iopub.execute_input": "2023-04-28T19:49:37.195956Z",
     "iopub.status.busy": "2023-04-28T19:49:37.195956Z",
     "iopub.status.idle": "2023-04-28T19:49:37.344479Z",
     "shell.execute_reply": "2023-04-28T19:49:37.344479Z",
     "shell.execute_reply.started": "2023-04-28T19:49:37.195956Z"
    }
   },
   "outputs": [],
   "source": [
    "subj_fake_real_dataset.to_csv('SubjFakeRealDataset.csv')"
   ]
  },
  {
   "cell_type": "code",
   "execution_count": null,
   "metadata": {},
   "outputs": [],
   "source": []
  }
 ],
 "metadata": {
  "colab": {
   "name": "Добро пожаловать в Colaboratory!",
   "provenance": [],
   "toc_visible": true
  },
  "kernelspec": {
   "display_name": "Python 3 (ipykernel)",
   "language": "python",
   "name": "python3"
  },
  "language_info": {
   "codemirror_mode": {
    "name": "ipython",
    "version": 3
   },
   "file_extension": ".py",
   "mimetype": "text/x-python",
   "name": "python",
   "nbconvert_exporter": "python",
   "pygments_lexer": "ipython3",
   "version": "3.9.16"
  },
  "toc-autonumbering": false,
  "toc-showcode": false,
  "toc-showmarkdowntxt": true,
  "widgets": {
   "application/vnd.jupyter.widget-state+json": {
    "009ff664c77e4df2ab170c5162575e09": {
     "model_module": "@jupyter-widgets/controls",
     "model_module_version": "1.5.0",
     "model_name": "HTMLModel",
     "state": {
      "_dom_classes": [],
      "_model_module": "@jupyter-widgets/controls",
      "_model_module_version": "1.5.0",
      "_model_name": "HTMLModel",
      "_view_count": null,
      "_view_module": "@jupyter-widgets/controls",
      "_view_module_version": "1.5.0",
      "_view_name": "HTMLView",
      "description": "",
      "description_tooltip": null,
      "layout": "IPY_MODEL_c2f72b5111df499fa54807ff0290e92f",
      "placeholder": "​",
      "style": "IPY_MODEL_ed8b3df44b87482da68515f62125b8cf",
      "value": "Downloading readme: 100%"
     }
    },
    "02b0c4e4cf7e4c90af73d25f8ef273bf": {
     "model_module": "@jupyter-widgets/controls",
     "model_module_version": "1.5.0",
     "model_name": "HTMLModel",
     "state": {
      "_dom_classes": [],
      "_model_module": "@jupyter-widgets/controls",
      "_model_module_version": "1.5.0",
      "_model_name": "HTMLModel",
      "_view_count": null,
      "_view_module": "@jupyter-widgets/controls",
      "_view_module_version": "1.5.0",
      "_view_name": "HTMLView",
      "description": "",
      "description_tooltip": null,
      "layout": "IPY_MODEL_9fe762d851704f12bcc01edfb082a1b1",
      "placeholder": "​",
      "style": "IPY_MODEL_16047b303bbc44c38f68465ebe61a332",
      "value": " 3/3 [00:01&lt;00:00,  3.10it/s]"
     }
    },
    "038aeb7ee7c04d55b122934dda7cc07e": {
     "model_module": "@jupyter-widgets/controls",
     "model_module_version": "1.5.0",
     "model_name": "DescriptionStyleModel",
     "state": {
      "_model_module": "@jupyter-widgets/controls",
      "_model_module_version": "1.5.0",
      "_model_name": "DescriptionStyleModel",
      "_view_count": null,
      "_view_module": "@jupyter-widgets/base",
      "_view_module_version": "1.2.0",
      "_view_name": "StyleView",
      "description_width": ""
     }
    },
    "03c6982991e945ec9d3d5c591accba96": {
     "model_module": "@jupyter-widgets/controls",
     "model_module_version": "1.5.0",
     "model_name": "HTMLModel",
     "state": {
      "_dom_classes": [],
      "_model_module": "@jupyter-widgets/controls",
      "_model_module_version": "1.5.0",
      "_model_name": "HTMLModel",
      "_view_count": null,
      "_view_module": "@jupyter-widgets/controls",
      "_view_module_version": "1.5.0",
      "_view_name": "HTMLView",
      "description": "",
      "description_tooltip": null,
      "layout": "IPY_MODEL_d68b3464bf274b4f898d29732e94fa1b",
      "placeholder": "​",
      "style": "IPY_MODEL_880d0af798c5468aaebf8c3dab2d5986",
      "value": " 93239/93239 [00:27&lt;00:00, 9113.53 examples/s]"
     }
    },
    "0469d520b86a422992b4e3ea0fd21746": {
     "model_module": "@jupyter-widgets/base",
     "model_module_version": "1.2.0",
     "model_name": "LayoutModel",
     "state": {
      "_model_module": "@jupyter-widgets/base",
      "_model_module_version": "1.2.0",
      "_model_name": "LayoutModel",
      "_view_count": null,
      "_view_module": "@jupyter-widgets/base",
      "_view_module_version": "1.2.0",
      "_view_name": "LayoutView",
      "align_content": null,
      "align_items": null,
      "align_self": null,
      "border": null,
      "bottom": null,
      "display": null,
      "flex": null,
      "flex_flow": null,
      "grid_area": null,
      "grid_auto_columns": null,
      "grid_auto_flow": null,
      "grid_auto_rows": null,
      "grid_column": null,
      "grid_gap": null,
      "grid_row": null,
      "grid_template_areas": null,
      "grid_template_columns": null,
      "grid_template_rows": null,
      "height": null,
      "justify_content": null,
      "justify_items": null,
      "left": null,
      "margin": null,
      "max_height": null,
      "max_width": null,
      "min_height": null,
      "min_width": null,
      "object_fit": null,
      "object_position": null,
      "order": null,
      "overflow": null,
      "overflow_x": null,
      "overflow_y": null,
      "padding": null,
      "right": null,
      "top": null,
      "visibility": null,
      "width": null
     }
    },
    "0560e819d5234db0877cadc64af3b8f9": {
     "model_module": "@jupyter-widgets/base",
     "model_module_version": "1.2.0",
     "model_name": "LayoutModel",
     "state": {
      "_model_module": "@jupyter-widgets/base",
      "_model_module_version": "1.2.0",
      "_model_name": "LayoutModel",
      "_view_count": null,
      "_view_module": "@jupyter-widgets/base",
      "_view_module_version": "1.2.0",
      "_view_name": "LayoutView",
      "align_content": null,
      "align_items": null,
      "align_self": null,
      "border": null,
      "bottom": null,
      "display": null,
      "flex": null,
      "flex_flow": null,
      "grid_area": null,
      "grid_auto_columns": null,
      "grid_auto_flow": null,
      "grid_auto_rows": null,
      "grid_column": null,
      "grid_gap": null,
      "grid_row": null,
      "grid_template_areas": null,
      "grid_template_columns": null,
      "grid_template_rows": null,
      "height": null,
      "justify_content": null,
      "justify_items": null,
      "left": null,
      "margin": null,
      "max_height": null,
      "max_width": null,
      "min_height": null,
      "min_width": null,
      "object_fit": null,
      "object_position": null,
      "order": null,
      "overflow": null,
      "overflow_x": null,
      "overflow_y": null,
      "padding": null,
      "right": null,
      "top": null,
      "visibility": null,
      "width": null
     }
    },
    "080fabeb5df949feaa76e0409fdfc70d": {
     "model_module": "@jupyter-widgets/controls",
     "model_module_version": "1.5.0",
     "model_name": "HTMLModel",
     "state": {
      "_dom_classes": [],
      "_model_module": "@jupyter-widgets/controls",
      "_model_module_version": "1.5.0",
      "_model_name": "HTMLModel",
      "_view_count": null,
      "_view_module": "@jupyter-widgets/controls",
      "_view_module_version": "1.5.0",
      "_view_name": "HTMLView",
      "description": "",
      "description_tooltip": null,
      "layout": "IPY_MODEL_f69cf70058cf4c37bd427c7bc13c51d0",
      "placeholder": "​",
      "style": "IPY_MODEL_f33f24d0b10a428aa7385165efe62bee",
      "value": " 3/3 [00:00&lt;00:00, 88.49it/s]"
     }
    },
    "0ca07394e83f4a848747154123c22984": {
     "model_module": "@jupyter-widgets/base",
     "model_module_version": "1.2.0",
     "model_name": "LayoutModel",
     "state": {
      "_model_module": "@jupyter-widgets/base",
      "_model_module_version": "1.2.0",
      "_model_name": "LayoutModel",
      "_view_count": null,
      "_view_module": "@jupyter-widgets/base",
      "_view_module_version": "1.2.0",
      "_view_name": "LayoutView",
      "align_content": null,
      "align_items": null,
      "align_self": null,
      "border": null,
      "bottom": null,
      "display": null,
      "flex": null,
      "flex_flow": null,
      "grid_area": null,
      "grid_auto_columns": null,
      "grid_auto_flow": null,
      "grid_auto_rows": null,
      "grid_column": null,
      "grid_gap": null,
      "grid_row": null,
      "grid_template_areas": null,
      "grid_template_columns": null,
      "grid_template_rows": null,
      "height": null,
      "justify_content": null,
      "justify_items": null,
      "left": null,
      "margin": null,
      "max_height": null,
      "max_width": null,
      "min_height": null,
      "min_width": null,
      "object_fit": null,
      "object_position": null,
      "order": null,
      "overflow": null,
      "overflow_x": null,
      "overflow_y": null,
      "padding": null,
      "right": null,
      "top": null,
      "visibility": null,
      "width": null
     }
    },
    "0cca24440cf64c76927b099c5feff449": {
     "model_module": "@jupyter-widgets/controls",
     "model_module_version": "1.5.0",
     "model_name": "HTMLModel",
     "state": {
      "_dom_classes": [],
      "_model_module": "@jupyter-widgets/controls",
      "_model_module_version": "1.5.0",
      "_model_name": "HTMLModel",
      "_view_count": null,
      "_view_module": "@jupyter-widgets/controls",
      "_view_module_version": "1.5.0",
      "_view_name": "HTMLView",
      "description": "",
      "description_tooltip": null,
      "layout": "IPY_MODEL_f99059193f3d45a8b242ba7300451226",
      "placeholder": "​",
      "style": "IPY_MODEL_1df0cd4a7377449f8da00e81e0facfea",
      "value": "Downloading data: 100%"
     }
    },
    "0d86c76ba15f4754814e8bc8ac21f87a": {
     "model_module": "@jupyter-widgets/base",
     "model_module_version": "1.2.0",
     "model_name": "LayoutModel",
     "state": {
      "_model_module": "@jupyter-widgets/base",
      "_model_module_version": "1.2.0",
      "_model_name": "LayoutModel",
      "_view_count": null,
      "_view_module": "@jupyter-widgets/base",
      "_view_module_version": "1.2.0",
      "_view_name": "LayoutView",
      "align_content": null,
      "align_items": null,
      "align_self": null,
      "border": null,
      "bottom": null,
      "display": null,
      "flex": null,
      "flex_flow": null,
      "grid_area": null,
      "grid_auto_columns": null,
      "grid_auto_flow": null,
      "grid_auto_rows": null,
      "grid_column": null,
      "grid_gap": null,
      "grid_row": null,
      "grid_template_areas": null,
      "grid_template_columns": null,
      "grid_template_rows": null,
      "height": null,
      "justify_content": null,
      "justify_items": null,
      "left": null,
      "margin": null,
      "max_height": null,
      "max_width": null,
      "min_height": null,
      "min_width": null,
      "object_fit": null,
      "object_position": null,
      "order": null,
      "overflow": null,
      "overflow_x": null,
      "overflow_y": null,
      "padding": null,
      "right": null,
      "top": null,
      "visibility": null,
      "width": null
     }
    },
    "0e9bbbcc103f46139b1e2df6f2777212": {
     "model_module": "@jupyter-widgets/controls",
     "model_module_version": "1.5.0",
     "model_name": "ProgressStyleModel",
     "state": {
      "_model_module": "@jupyter-widgets/controls",
      "_model_module_version": "1.5.0",
      "_model_name": "ProgressStyleModel",
      "_view_count": null,
      "_view_module": "@jupyter-widgets/base",
      "_view_module_version": "1.2.0",
      "_view_name": "StyleView",
      "bar_color": null,
      "description_width": ""
     }
    },
    "0f7a7c514b2f41d1926b249fc204a696": {
     "model_module": "@jupyter-widgets/base",
     "model_module_version": "1.2.0",
     "model_name": "LayoutModel",
     "state": {
      "_model_module": "@jupyter-widgets/base",
      "_model_module_version": "1.2.0",
      "_model_name": "LayoutModel",
      "_view_count": null,
      "_view_module": "@jupyter-widgets/base",
      "_view_module_version": "1.2.0",
      "_view_name": "LayoutView",
      "align_content": null,
      "align_items": null,
      "align_self": null,
      "border": null,
      "bottom": null,
      "display": null,
      "flex": null,
      "flex_flow": null,
      "grid_area": null,
      "grid_auto_columns": null,
      "grid_auto_flow": null,
      "grid_auto_rows": null,
      "grid_column": null,
      "grid_gap": null,
      "grid_row": null,
      "grid_template_areas": null,
      "grid_template_columns": null,
      "grid_template_rows": null,
      "height": null,
      "justify_content": null,
      "justify_items": null,
      "left": null,
      "margin": null,
      "max_height": null,
      "max_width": null,
      "min_height": null,
      "min_width": null,
      "object_fit": null,
      "object_position": null,
      "order": null,
      "overflow": null,
      "overflow_x": null,
      "overflow_y": null,
      "padding": null,
      "right": null,
      "top": null,
      "visibility": null,
      "width": null
     }
    },
    "0fd788394a1c49ffb04dcf0589f5b5ad": {
     "model_module": "@jupyter-widgets/controls",
     "model_module_version": "1.5.0",
     "model_name": "DescriptionStyleModel",
     "state": {
      "_model_module": "@jupyter-widgets/controls",
      "_model_module_version": "1.5.0",
      "_model_name": "DescriptionStyleModel",
      "_view_count": null,
      "_view_module": "@jupyter-widgets/base",
      "_view_module_version": "1.2.0",
      "_view_name": "StyleView",
      "description_width": ""
     }
    },
    "1120ea4bc70c404798807bf798f89fff": {
     "model_module": "@jupyter-widgets/controls",
     "model_module_version": "1.5.0",
     "model_name": "HTMLModel",
     "state": {
      "_dom_classes": [],
      "_model_module": "@jupyter-widgets/controls",
      "_model_module_version": "1.5.0",
      "_model_name": "HTMLModel",
      "_view_count": null,
      "_view_module": "@jupyter-widgets/controls",
      "_view_module_version": "1.5.0",
      "_view_name": "HTMLView",
      "description": "",
      "description_tooltip": null,
      "layout": "IPY_MODEL_786a8f5cf7ba4f1a920983e55aa796da",
      "placeholder": "​",
      "style": "IPY_MODEL_40bd3939ad92479eb9eb8e7e555f53f3",
      "value": " 3/3 [00:00&lt;00:00, 120.46it/s]"
     }
    },
    "12e03d29f3a548c288a73b9bf268cb6e": {
     "model_module": "@jupyter-widgets/controls",
     "model_module_version": "1.5.0",
     "model_name": "DescriptionStyleModel",
     "state": {
      "_model_module": "@jupyter-widgets/controls",
      "_model_module_version": "1.5.0",
      "_model_name": "DescriptionStyleModel",
      "_view_count": null,
      "_view_module": "@jupyter-widgets/base",
      "_view_module_version": "1.2.0",
      "_view_name": "StyleView",
      "description_width": ""
     }
    },
    "137c4c6ab50d4c07b9aec81e42d7a529": {
     "model_module": "@jupyter-widgets/controls",
     "model_module_version": "1.5.0",
     "model_name": "DescriptionStyleModel",
     "state": {
      "_model_module": "@jupyter-widgets/controls",
      "_model_module_version": "1.5.0",
      "_model_name": "DescriptionStyleModel",
      "_view_count": null,
      "_view_module": "@jupyter-widgets/base",
      "_view_module_version": "1.2.0",
      "_view_name": "StyleView",
      "description_width": ""
     }
    },
    "16047b303bbc44c38f68465ebe61a332": {
     "model_module": "@jupyter-widgets/controls",
     "model_module_version": "1.5.0",
     "model_name": "DescriptionStyleModel",
     "state": {
      "_model_module": "@jupyter-widgets/controls",
      "_model_module_version": "1.5.0",
      "_model_name": "DescriptionStyleModel",
      "_view_count": null,
      "_view_module": "@jupyter-widgets/base",
      "_view_module_version": "1.2.0",
      "_view_name": "StyleView",
      "description_width": ""
     }
    },
    "167136f2a11043018cc6e1ad6890c875": {
     "model_module": "@jupyter-widgets/controls",
     "model_module_version": "1.5.0",
     "model_name": "HTMLModel",
     "state": {
      "_dom_classes": [],
      "_model_module": "@jupyter-widgets/controls",
      "_model_module_version": "1.5.0",
      "_model_name": "HTMLModel",
      "_view_count": null,
      "_view_module": "@jupyter-widgets/controls",
      "_view_module_version": "1.5.0",
      "_view_name": "HTMLView",
      "description": "",
      "description_tooltip": null,
      "layout": "IPY_MODEL_d37464b747d14354a9ac91f3f4cd4155",
      "placeholder": "​",
      "style": "IPY_MODEL_5d6e660b338d4ea480097fccf05a26ba",
      "value": " 4.90k/4.90k [00:00&lt;00:00, 249kB/s]"
     }
    },
    "1686472c512e4c66b29a9f6361eff5da": {
     "model_module": "@jupyter-widgets/controls",
     "model_module_version": "1.5.0",
     "model_name": "DescriptionStyleModel",
     "state": {
      "_model_module": "@jupyter-widgets/controls",
      "_model_module_version": "1.5.0",
      "_model_name": "DescriptionStyleModel",
      "_view_count": null,
      "_view_module": "@jupyter-widgets/base",
      "_view_module_version": "1.2.0",
      "_view_name": "StyleView",
      "description_width": ""
     }
    },
    "18bbc4701781448793864e6ef824ac4b": {
     "model_module": "@jupyter-widgets/controls",
     "model_module_version": "1.5.0",
     "model_name": "DescriptionStyleModel",
     "state": {
      "_model_module": "@jupyter-widgets/controls",
      "_model_module_version": "1.5.0",
      "_model_name": "DescriptionStyleModel",
      "_view_count": null,
      "_view_module": "@jupyter-widgets/base",
      "_view_module_version": "1.2.0",
      "_view_name": "StyleView",
      "description_width": ""
     }
    },
    "19f8b97907484f868673689938c87d10": {
     "model_module": "@jupyter-widgets/base",
     "model_module_version": "1.2.0",
     "model_name": "LayoutModel",
     "state": {
      "_model_module": "@jupyter-widgets/base",
      "_model_module_version": "1.2.0",
      "_model_name": "LayoutModel",
      "_view_count": null,
      "_view_module": "@jupyter-widgets/base",
      "_view_module_version": "1.2.0",
      "_view_name": "LayoutView",
      "align_content": null,
      "align_items": null,
      "align_self": null,
      "border": null,
      "bottom": null,
      "display": null,
      "flex": null,
      "flex_flow": null,
      "grid_area": null,
      "grid_auto_columns": null,
      "grid_auto_flow": null,
      "grid_auto_rows": null,
      "grid_column": null,
      "grid_gap": null,
      "grid_row": null,
      "grid_template_areas": null,
      "grid_template_columns": null,
      "grid_template_rows": null,
      "height": null,
      "justify_content": null,
      "justify_items": null,
      "left": null,
      "margin": null,
      "max_height": null,
      "max_width": null,
      "min_height": null,
      "min_width": null,
      "object_fit": null,
      "object_position": null,
      "order": null,
      "overflow": null,
      "overflow_x": null,
      "overflow_y": null,
      "padding": null,
      "right": null,
      "top": null,
      "visibility": null,
      "width": null
     }
    },
    "1d2e19d0512246a8b935a47240a4d4a4": {
     "model_module": "@jupyter-widgets/controls",
     "model_module_version": "1.5.0",
     "model_name": "DescriptionStyleModel",
     "state": {
      "_model_module": "@jupyter-widgets/controls",
      "_model_module_version": "1.5.0",
      "_model_name": "DescriptionStyleModel",
      "_view_count": null,
      "_view_module": "@jupyter-widgets/base",
      "_view_module_version": "1.2.0",
      "_view_name": "StyleView",
      "description_width": ""
     }
    },
    "1df0cd4a7377449f8da00e81e0facfea": {
     "model_module": "@jupyter-widgets/controls",
     "model_module_version": "1.5.0",
     "model_name": "DescriptionStyleModel",
     "state": {
      "_model_module": "@jupyter-widgets/controls",
      "_model_module_version": "1.5.0",
      "_model_name": "DescriptionStyleModel",
      "_view_count": null,
      "_view_module": "@jupyter-widgets/base",
      "_view_module_version": "1.2.0",
      "_view_name": "StyleView",
      "description_width": ""
     }
    },
    "1e0a183f51ce4a4391d00109d0819760": {
     "model_module": "@jupyter-widgets/controls",
     "model_module_version": "1.5.0",
     "model_name": "HTMLModel",
     "state": {
      "_dom_classes": [],
      "_model_module": "@jupyter-widgets/controls",
      "_model_module_version": "1.5.0",
      "_model_name": "HTMLModel",
      "_view_count": null,
      "_view_module": "@jupyter-widgets/controls",
      "_view_module_version": "1.5.0",
      "_view_name": "HTMLView",
      "description": "",
      "description_tooltip": null,
      "layout": "IPY_MODEL_9e7bb69f81194418a2f4e8a4799f0f61",
      "placeholder": "​",
      "style": "IPY_MODEL_038aeb7ee7c04d55b122934dda7cc07e",
      "value": "100%"
     }
    },
    "1e393d0f5bd34b7b8e775731463f0d36": {
     "model_module": "@jupyter-widgets/base",
     "model_module_version": "1.2.0",
     "model_name": "LayoutModel",
     "state": {
      "_model_module": "@jupyter-widgets/base",
      "_model_module_version": "1.2.0",
      "_model_name": "LayoutModel",
      "_view_count": null,
      "_view_module": "@jupyter-widgets/base",
      "_view_module_version": "1.2.0",
      "_view_name": "LayoutView",
      "align_content": null,
      "align_items": null,
      "align_self": null,
      "border": null,
      "bottom": null,
      "display": null,
      "flex": null,
      "flex_flow": null,
      "grid_area": null,
      "grid_auto_columns": null,
      "grid_auto_flow": null,
      "grid_auto_rows": null,
      "grid_column": null,
      "grid_gap": null,
      "grid_row": null,
      "grid_template_areas": null,
      "grid_template_columns": null,
      "grid_template_rows": null,
      "height": null,
      "justify_content": null,
      "justify_items": null,
      "left": null,
      "margin": null,
      "max_height": null,
      "max_width": null,
      "min_height": null,
      "min_width": null,
      "object_fit": null,
      "object_position": null,
      "order": null,
      "overflow": null,
      "overflow_x": null,
      "overflow_y": null,
      "padding": null,
      "right": null,
      "top": null,
      "visibility": null,
      "width": "20px"
     }
    },
    "1ed07144cd264112882f04dd7b24f32b": {
     "model_module": "@jupyter-widgets/controls",
     "model_module_version": "1.5.0",
     "model_name": "DescriptionStyleModel",
     "state": {
      "_model_module": "@jupyter-widgets/controls",
      "_model_module_version": "1.5.0",
      "_model_name": "DescriptionStyleModel",
      "_view_count": null,
      "_view_module": "@jupyter-widgets/base",
      "_view_module_version": "1.2.0",
      "_view_name": "StyleView",
      "description_width": ""
     }
    },
    "20275f612c6f4ca1bfeb66335ddf6bb2": {
     "model_module": "@jupyter-widgets/controls",
     "model_module_version": "1.5.0",
     "model_name": "HBoxModel",
     "state": {
      "_dom_classes": [],
      "_model_module": "@jupyter-widgets/controls",
      "_model_module_version": "1.5.0",
      "_model_name": "HBoxModel",
      "_view_count": null,
      "_view_module": "@jupyter-widgets/controls",
      "_view_module_version": "1.5.0",
      "_view_name": "HBoxView",
      "box_style": "",
      "children": [
       "IPY_MODEL_34cccb3e1c2f43cb9a656f30d2e9c4db",
       "IPY_MODEL_33a445bf99534b13b504ba63470cea21",
       "IPY_MODEL_03c6982991e945ec9d3d5c591accba96"
      ],
      "layout": "IPY_MODEL_cf59be65a9354587ba2cf5fefcbecf6a"
     }
    },
    "217b7fcb040643a5a6960dac63e9195f": {
     "model_module": "@jupyter-widgets/controls",
     "model_module_version": "1.5.0",
     "model_name": "DescriptionStyleModel",
     "state": {
      "_model_module": "@jupyter-widgets/controls",
      "_model_module_version": "1.5.0",
      "_model_name": "DescriptionStyleModel",
      "_view_count": null,
      "_view_module": "@jupyter-widgets/base",
      "_view_module_version": "1.2.0",
      "_view_name": "StyleView",
      "description_width": ""
     }
    },
    "21a7bed4b5644214a7f756394f9ebf57": {
     "model_module": "@jupyter-widgets/controls",
     "model_module_version": "1.5.0",
     "model_name": "HBoxModel",
     "state": {
      "_dom_classes": [],
      "_model_module": "@jupyter-widgets/controls",
      "_model_module_version": "1.5.0",
      "_model_name": "HBoxModel",
      "_view_count": null,
      "_view_module": "@jupyter-widgets/controls",
      "_view_module_version": "1.5.0",
      "_view_name": "HBoxView",
      "box_style": "",
      "children": [
       "IPY_MODEL_a8727573f47244b8afa96ba0e211c605",
       "IPY_MODEL_29be7a92c9234b74873709369fcbbfdb",
       "IPY_MODEL_d5637abd9b834c809b4ef4266b89fad8"
      ],
      "layout": "IPY_MODEL_d0e6cb426d404a73b041c2b23a6496c0"
     }
    },
    "224aa05321724125b8019e6059986a53": {
     "model_module": "@jupyter-widgets/controls",
     "model_module_version": "1.5.0",
     "model_name": "ProgressStyleModel",
     "state": {
      "_model_module": "@jupyter-widgets/controls",
      "_model_module_version": "1.5.0",
      "_model_name": "ProgressStyleModel",
      "_view_count": null,
      "_view_module": "@jupyter-widgets/base",
      "_view_module_version": "1.2.0",
      "_view_name": "StyleView",
      "bar_color": null,
      "description_width": ""
     }
    },
    "23455bbb05244d52ba107b275cb4c532": {
     "model_module": "@jupyter-widgets/controls",
     "model_module_version": "1.5.0",
     "model_name": "FloatProgressModel",
     "state": {
      "_dom_classes": [],
      "_model_module": "@jupyter-widgets/controls",
      "_model_module_version": "1.5.0",
      "_model_name": "FloatProgressModel",
      "_view_count": null,
      "_view_module": "@jupyter-widgets/controls",
      "_view_module_version": "1.5.0",
      "_view_name": "ProgressView",
      "bar_style": "success",
      "description": "",
      "description_tooltip": null,
      "layout": "IPY_MODEL_2f57cd092b8a414794cbfe3e088b4a22",
      "max": 3,
      "min": 0,
      "orientation": "horizontal",
      "style": "IPY_MODEL_fcb2713247b945e68f3300a0904513d1",
      "value": 3
     }
    },
    "2499e28d627641c29459456e60be2507": {
     "model_module": "@jupyter-widgets/base",
     "model_module_version": "1.2.0",
     "model_name": "LayoutModel",
     "state": {
      "_model_module": "@jupyter-widgets/base",
      "_model_module_version": "1.2.0",
      "_model_name": "LayoutModel",
      "_view_count": null,
      "_view_module": "@jupyter-widgets/base",
      "_view_module_version": "1.2.0",
      "_view_name": "LayoutView",
      "align_content": null,
      "align_items": null,
      "align_self": null,
      "border": null,
      "bottom": null,
      "display": null,
      "flex": null,
      "flex_flow": null,
      "grid_area": null,
      "grid_auto_columns": null,
      "grid_auto_flow": null,
      "grid_auto_rows": null,
      "grid_column": null,
      "grid_gap": null,
      "grid_row": null,
      "grid_template_areas": null,
      "grid_template_columns": null,
      "grid_template_rows": null,
      "height": null,
      "justify_content": null,
      "justify_items": null,
      "left": null,
      "margin": null,
      "max_height": null,
      "max_width": null,
      "min_height": null,
      "min_width": null,
      "object_fit": null,
      "object_position": null,
      "order": null,
      "overflow": null,
      "overflow_x": null,
      "overflow_y": null,
      "padding": null,
      "right": null,
      "top": null,
      "visibility": null,
      "width": null
     }
    },
    "26410c59ed2a4c1f8dc2c45866341dc0": {
     "model_module": "@jupyter-widgets/base",
     "model_module_version": "1.2.0",
     "model_name": "LayoutModel",
     "state": {
      "_model_module": "@jupyter-widgets/base",
      "_model_module_version": "1.2.0",
      "_model_name": "LayoutModel",
      "_view_count": null,
      "_view_module": "@jupyter-widgets/base",
      "_view_module_version": "1.2.0",
      "_view_name": "LayoutView",
      "align_content": null,
      "align_items": null,
      "align_self": null,
      "border": null,
      "bottom": null,
      "display": null,
      "flex": null,
      "flex_flow": null,
      "grid_area": null,
      "grid_auto_columns": null,
      "grid_auto_flow": null,
      "grid_auto_rows": null,
      "grid_column": null,
      "grid_gap": null,
      "grid_row": null,
      "grid_template_areas": null,
      "grid_template_columns": null,
      "grid_template_rows": null,
      "height": null,
      "justify_content": null,
      "justify_items": null,
      "left": null,
      "margin": null,
      "max_height": null,
      "max_width": null,
      "min_height": null,
      "min_width": null,
      "object_fit": null,
      "object_position": null,
      "order": null,
      "overflow": null,
      "overflow_x": null,
      "overflow_y": null,
      "padding": null,
      "right": null,
      "top": null,
      "visibility": null,
      "width": null
     }
    },
    "26bd902f8ed34b9593d7f15aeb0c9ba1": {
     "model_module": "@jupyter-widgets/controls",
     "model_module_version": "1.5.0",
     "model_name": "HTMLModel",
     "state": {
      "_dom_classes": [],
      "_model_module": "@jupyter-widgets/controls",
      "_model_module_version": "1.5.0",
      "_model_name": "HTMLModel",
      "_view_count": null,
      "_view_module": "@jupyter-widgets/controls",
      "_view_module_version": "1.5.0",
      "_view_name": "HTMLView",
      "description": "",
      "description_tooltip": null,
      "layout": "IPY_MODEL_3b1f6a40d5a04fe9ba90a48fe5a67021",
      "placeholder": "​",
      "style": "IPY_MODEL_12e03d29f3a548c288a73b9bf268cb6e",
      "value": "Downloading data: 100%"
     }
    },
    "27f414d1c3c94f98b1a2a5e6719248b3": {
     "model_module": "@jupyter-widgets/controls",
     "model_module_version": "1.5.0",
     "model_name": "HBoxModel",
     "state": {
      "_dom_classes": [],
      "_model_module": "@jupyter-widgets/controls",
      "_model_module_version": "1.5.0",
      "_model_name": "HBoxModel",
      "_view_count": null,
      "_view_module": "@jupyter-widgets/controls",
      "_view_module_version": "1.5.0",
      "_view_name": "HBoxView",
      "box_style": "",
      "children": [
       "IPY_MODEL_852e342f725a47bb80aec595a0c26570",
       "IPY_MODEL_5164fc43680b425c99e43e06dab89390",
       "IPY_MODEL_1120ea4bc70c404798807bf798f89fff"
      ],
      "layout": "IPY_MODEL_3664b193667c4609be8ab38f4f898d62"
     }
    },
    "2821ba5d508c4881bdb956eabd206336": {
     "model_module": "@jupyter-widgets/controls",
     "model_module_version": "1.5.0",
     "model_name": "FloatProgressModel",
     "state": {
      "_dom_classes": [],
      "_model_module": "@jupyter-widgets/controls",
      "_model_module_version": "1.5.0",
      "_model_name": "FloatProgressModel",
      "_view_count": null,
      "_view_module": "@jupyter-widgets/controls",
      "_view_module_version": "1.5.0",
      "_view_name": "ProgressView",
      "bar_style": "success",
      "description": "",
      "description_tooltip": null,
      "layout": "IPY_MODEL_71dd541021d64d8e96ddb7c3c97634de",
      "max": 2,
      "min": 0,
      "orientation": "horizontal",
      "style": "IPY_MODEL_e875f8ed89ca463484173db02a060ae2",
      "value": 2
     }
    },
    "29be7a92c9234b74873709369fcbbfdb": {
     "model_module": "@jupyter-widgets/controls",
     "model_module_version": "1.5.0",
     "model_name": "FloatProgressModel",
     "state": {
      "_dom_classes": [],
      "_model_module": "@jupyter-widgets/controls",
      "_model_module_version": "1.5.0",
      "_model_name": "FloatProgressModel",
      "_view_count": null,
      "_view_module": "@jupyter-widgets/controls",
      "_view_module_version": "1.5.0",
      "_view_name": "ProgressView",
      "bar_style": "success",
      "description": "",
      "description_tooltip": null,
      "layout": "IPY_MODEL_6e821d98fab54bc5bee0054967868883",
      "max": 2221,
      "min": 0,
      "orientation": "horizontal",
      "style": "IPY_MODEL_78ea8562bf514a61a209788c547374ed",
      "value": 2221
     }
    },
    "2a6b8bc2ff5b46aca37022c61aa951fd": {
     "model_module": "@jupyter-widgets/controls",
     "model_module_version": "1.5.0",
     "model_name": "HTMLModel",
     "state": {
      "_dom_classes": [],
      "_model_module": "@jupyter-widgets/controls",
      "_model_module_version": "1.5.0",
      "_model_name": "HTMLModel",
      "_view_count": null,
      "_view_module": "@jupyter-widgets/controls",
      "_view_module_version": "1.5.0",
      "_view_name": "HTMLView",
      "description": "",
      "description_tooltip": null,
      "layout": "IPY_MODEL_3cc0006def3e448d96f7684a149eef5e",
      "placeholder": "​",
      "style": "IPY_MODEL_49ccba210c134d499cf8e61744826b95",
      "value": " 1.25M/1.25M [00:00&lt;00:00, 7.63MB/s]"
     }
    },
    "2c3f99babaff44998afb3d0d9e35f94b": {
     "model_module": "@jupyter-widgets/base",
     "model_module_version": "1.2.0",
     "model_name": "LayoutModel",
     "state": {
      "_model_module": "@jupyter-widgets/base",
      "_model_module_version": "1.2.0",
      "_model_name": "LayoutModel",
      "_view_count": null,
      "_view_module": "@jupyter-widgets/base",
      "_view_module_version": "1.2.0",
      "_view_name": "LayoutView",
      "align_content": null,
      "align_items": null,
      "align_self": null,
      "border": null,
      "bottom": null,
      "display": null,
      "flex": null,
      "flex_flow": null,
      "grid_area": null,
      "grid_auto_columns": null,
      "grid_auto_flow": null,
      "grid_auto_rows": null,
      "grid_column": null,
      "grid_gap": null,
      "grid_row": null,
      "grid_template_areas": null,
      "grid_template_columns": null,
      "grid_template_rows": null,
      "height": null,
      "justify_content": null,
      "justify_items": null,
      "left": null,
      "margin": null,
      "max_height": null,
      "max_width": null,
      "min_height": null,
      "min_width": null,
      "object_fit": null,
      "object_position": null,
      "order": null,
      "overflow": null,
      "overflow_x": null,
      "overflow_y": null,
      "padding": null,
      "right": null,
      "top": null,
      "visibility": null,
      "width": null
     }
    },
    "2c7964e534ce41f2a32cca9bfed34af3": {
     "model_module": "@jupyter-widgets/controls",
     "model_module_version": "1.5.0",
     "model_name": "FloatProgressModel",
     "state": {
      "_dom_classes": [],
      "_model_module": "@jupyter-widgets/controls",
      "_model_module_version": "1.5.0",
      "_model_name": "FloatProgressModel",
      "_view_count": null,
      "_view_module": "@jupyter-widgets/controls",
      "_view_module_version": "1.5.0",
      "_view_name": "ProgressView",
      "bar_style": "success",
      "description": "",
      "description_tooltip": null,
      "layout": "IPY_MODEL_0ca07394e83f4a848747154123c22984",
      "max": 410649,
      "min": 0,
      "orientation": "horizontal",
      "style": "IPY_MODEL_5fdb7de963e94c56a53ea6f31d8314e8",
      "value": 410649
     }
    },
    "2d118324ddc4452ebcc92e1d5d3519e8": {
     "model_module": "@jupyter-widgets/controls",
     "model_module_version": "1.5.0",
     "model_name": "FloatProgressModel",
     "state": {
      "_dom_classes": [],
      "_model_module": "@jupyter-widgets/controls",
      "_model_module_version": "1.5.0",
      "_model_name": "FloatProgressModel",
      "_view_count": null,
      "_view_module": "@jupyter-widgets/controls",
      "_view_module_version": "1.5.0",
      "_view_name": "ProgressView",
      "bar_style": "success",
      "description": "",
      "description_tooltip": null,
      "layout": "IPY_MODEL_0560e819d5234db0877cadc64af3b8f9",
      "max": 4944,
      "min": 0,
      "orientation": "horizontal",
      "style": "IPY_MODEL_b0166acfc8ea4a5ca81ac33eca0a8c63",
      "value": 4944
     }
    },
    "2f57cd092b8a414794cbfe3e088b4a22": {
     "model_module": "@jupyter-widgets/base",
     "model_module_version": "1.2.0",
     "model_name": "LayoutModel",
     "state": {
      "_model_module": "@jupyter-widgets/base",
      "_model_module_version": "1.2.0",
      "_model_name": "LayoutModel",
      "_view_count": null,
      "_view_module": "@jupyter-widgets/base",
      "_view_module_version": "1.2.0",
      "_view_name": "LayoutView",
      "align_content": null,
      "align_items": null,
      "align_self": null,
      "border": null,
      "bottom": null,
      "display": null,
      "flex": null,
      "flex_flow": null,
      "grid_area": null,
      "grid_auto_columns": null,
      "grid_auto_flow": null,
      "grid_auto_rows": null,
      "grid_column": null,
      "grid_gap": null,
      "grid_row": null,
      "grid_template_areas": null,
      "grid_template_columns": null,
      "grid_template_rows": null,
      "height": null,
      "justify_content": null,
      "justify_items": null,
      "left": null,
      "margin": null,
      "max_height": null,
      "max_width": null,
      "min_height": null,
      "min_width": null,
      "object_fit": null,
      "object_position": null,
      "order": null,
      "overflow": null,
      "overflow_x": null,
      "overflow_y": null,
      "padding": null,
      "right": null,
      "top": null,
      "visibility": null,
      "width": null
     }
    },
    "3057553c666644e0a08355df8af89464": {
     "model_module": "@jupyter-widgets/base",
     "model_module_version": "1.2.0",
     "model_name": "LayoutModel",
     "state": {
      "_model_module": "@jupyter-widgets/base",
      "_model_module_version": "1.2.0",
      "_model_name": "LayoutModel",
      "_view_count": null,
      "_view_module": "@jupyter-widgets/base",
      "_view_module_version": "1.2.0",
      "_view_name": "LayoutView",
      "align_content": null,
      "align_items": null,
      "align_self": null,
      "border": null,
      "bottom": null,
      "display": null,
      "flex": null,
      "flex_flow": null,
      "grid_area": null,
      "grid_auto_columns": null,
      "grid_auto_flow": null,
      "grid_auto_rows": null,
      "grid_column": null,
      "grid_gap": null,
      "grid_row": null,
      "grid_template_areas": null,
      "grid_template_columns": null,
      "grid_template_rows": null,
      "height": null,
      "justify_content": null,
      "justify_items": null,
      "left": null,
      "margin": null,
      "max_height": null,
      "max_width": null,
      "min_height": null,
      "min_width": null,
      "object_fit": null,
      "object_position": null,
      "order": null,
      "overflow": null,
      "overflow_x": null,
      "overflow_y": null,
      "padding": null,
      "right": null,
      "top": null,
      "visibility": null,
      "width": null
     }
    },
    "323787e3ec9d4d48bbe3104b896f719a": {
     "model_module": "@jupyter-widgets/base",
     "model_module_version": "1.2.0",
     "model_name": "LayoutModel",
     "state": {
      "_model_module": "@jupyter-widgets/base",
      "_model_module_version": "1.2.0",
      "_model_name": "LayoutModel",
      "_view_count": null,
      "_view_module": "@jupyter-widgets/base",
      "_view_module_version": "1.2.0",
      "_view_name": "LayoutView",
      "align_content": null,
      "align_items": null,
      "align_self": null,
      "border": null,
      "bottom": null,
      "display": null,
      "flex": null,
      "flex_flow": null,
      "grid_area": null,
      "grid_auto_columns": null,
      "grid_auto_flow": null,
      "grid_auto_rows": null,
      "grid_column": null,
      "grid_gap": null,
      "grid_row": null,
      "grid_template_areas": null,
      "grid_template_columns": null,
      "grid_template_rows": null,
      "height": null,
      "justify_content": null,
      "justify_items": null,
      "left": null,
      "margin": null,
      "max_height": null,
      "max_width": null,
      "min_height": null,
      "min_width": null,
      "object_fit": null,
      "object_position": null,
      "order": null,
      "overflow": null,
      "overflow_x": null,
      "overflow_y": null,
      "padding": null,
      "right": null,
      "top": null,
      "visibility": null,
      "width": null
     }
    },
    "33004516d92f4c26a3f2f99bbd458f2b": {
     "model_module": "@jupyter-widgets/controls",
     "model_module_version": "1.5.0",
     "model_name": "DescriptionStyleModel",
     "state": {
      "_model_module": "@jupyter-widgets/controls",
      "_model_module_version": "1.5.0",
      "_model_name": "DescriptionStyleModel",
      "_view_count": null,
      "_view_module": "@jupyter-widgets/base",
      "_view_module_version": "1.2.0",
      "_view_name": "StyleView",
      "description_width": ""
     }
    },
    "33a445bf99534b13b504ba63470cea21": {
     "model_module": "@jupyter-widgets/controls",
     "model_module_version": "1.5.0",
     "model_name": "FloatProgressModel",
     "state": {
      "_dom_classes": [],
      "_model_module": "@jupyter-widgets/controls",
      "_model_module_version": "1.5.0",
      "_model_name": "FloatProgressModel",
      "_view_count": null,
      "_view_module": "@jupyter-widgets/controls",
      "_view_module_version": "1.5.0",
      "_view_name": "ProgressView",
      "bar_style": "",
      "description": "",
      "description_tooltip": null,
      "layout": "IPY_MODEL_948781a8f12b4dc2a9f8d0e4cf2669ed",
      "max": 93239,
      "min": 0,
      "orientation": "horizontal",
      "style": "IPY_MODEL_3dd3a0ddd0ce4402bfe482e0033f8402",
      "value": 93239
     }
    },
    "34cccb3e1c2f43cb9a656f30d2e9c4db": {
     "model_module": "@jupyter-widgets/controls",
     "model_module_version": "1.5.0",
     "model_name": "HTMLModel",
     "state": {
      "_dom_classes": [],
      "_model_module": "@jupyter-widgets/controls",
      "_model_module_version": "1.5.0",
      "_model_name": "HTMLModel",
      "_view_count": null,
      "_view_module": "@jupyter-widgets/controls",
      "_view_module_version": "1.5.0",
      "_view_name": "HTMLView",
      "description": "",
      "description_tooltip": null,
      "layout": "IPY_MODEL_2c3f99babaff44998afb3d0d9e35f94b",
      "placeholder": "​",
      "style": "IPY_MODEL_e0ce9a07be734d87bf54845b8327c262",
      "value": "Generating train split: 100%"
     }
    },
    "3664b193667c4609be8ab38f4f898d62": {
     "model_module": "@jupyter-widgets/base",
     "model_module_version": "1.2.0",
     "model_name": "LayoutModel",
     "state": {
      "_model_module": "@jupyter-widgets/base",
      "_model_module_version": "1.2.0",
      "_model_name": "LayoutModel",
      "_view_count": null,
      "_view_module": "@jupyter-widgets/base",
      "_view_module_version": "1.2.0",
      "_view_name": "LayoutView",
      "align_content": null,
      "align_items": null,
      "align_self": null,
      "border": null,
      "bottom": null,
      "display": null,
      "flex": null,
      "flex_flow": null,
      "grid_area": null,
      "grid_auto_columns": null,
      "grid_auto_flow": null,
      "grid_auto_rows": null,
      "grid_column": null,
      "grid_gap": null,
      "grid_row": null,
      "grid_template_areas": null,
      "grid_template_columns": null,
      "grid_template_rows": null,
      "height": null,
      "justify_content": null,
      "justify_items": null,
      "left": null,
      "margin": null,
      "max_height": null,
      "max_width": null,
      "min_height": null,
      "min_width": null,
      "object_fit": null,
      "object_position": null,
      "order": null,
      "overflow": null,
      "overflow_x": null,
      "overflow_y": null,
      "padding": null,
      "right": null,
      "top": null,
      "visibility": null,
      "width": null
     }
    },
    "38777242a0eb4241b6ced2198c8a1b1f": {
     "model_module": "@jupyter-widgets/controls",
     "model_module_version": "1.5.0",
     "model_name": "HBoxModel",
     "state": {
      "_dom_classes": [],
      "_model_module": "@jupyter-widgets/controls",
      "_model_module_version": "1.5.0",
      "_model_name": "HBoxModel",
      "_view_count": null,
      "_view_module": "@jupyter-widgets/controls",
      "_view_module_version": "1.5.0",
      "_view_name": "HBoxView",
      "box_style": "",
      "children": [
       "IPY_MODEL_009ff664c77e4df2ab170c5162575e09",
       "IPY_MODEL_2d118324ddc4452ebcc92e1d5d3519e8",
       "IPY_MODEL_3f6f33388bea4292807fa1f2e1de4bc6"
      ],
      "layout": "IPY_MODEL_551aad824d5d4e4d8a856e46b11b7651"
     }
    },
    "3941be476d444315ab563f88a9a4c0f4": {
     "model_module": "@jupyter-widgets/base",
     "model_module_version": "1.2.0",
     "model_name": "LayoutModel",
     "state": {
      "_model_module": "@jupyter-widgets/base",
      "_model_module_version": "1.2.0",
      "_model_name": "LayoutModel",
      "_view_count": null,
      "_view_module": "@jupyter-widgets/base",
      "_view_module_version": "1.2.0",
      "_view_name": "LayoutView",
      "align_content": null,
      "align_items": null,
      "align_self": null,
      "border": null,
      "bottom": null,
      "display": null,
      "flex": null,
      "flex_flow": null,
      "grid_area": null,
      "grid_auto_columns": null,
      "grid_auto_flow": null,
      "grid_auto_rows": null,
      "grid_column": null,
      "grid_gap": null,
      "grid_row": null,
      "grid_template_areas": null,
      "grid_template_columns": null,
      "grid_template_rows": null,
      "height": null,
      "justify_content": null,
      "justify_items": null,
      "left": null,
      "margin": null,
      "max_height": null,
      "max_width": null,
      "min_height": null,
      "min_width": null,
      "object_fit": null,
      "object_position": null,
      "order": null,
      "overflow": null,
      "overflow_x": null,
      "overflow_y": null,
      "padding": null,
      "right": null,
      "top": null,
      "visibility": null,
      "width": null
     }
    },
    "3a8d30632e97444daef0510cc0070e3d": {
     "model_module": "@jupyter-widgets/controls",
     "model_module_version": "1.5.0",
     "model_name": "DescriptionStyleModel",
     "state": {
      "_model_module": "@jupyter-widgets/controls",
      "_model_module_version": "1.5.0",
      "_model_name": "DescriptionStyleModel",
      "_view_count": null,
      "_view_module": "@jupyter-widgets/base",
      "_view_module_version": "1.2.0",
      "_view_name": "StyleView",
      "description_width": ""
     }
    },
    "3b1f6a40d5a04fe9ba90a48fe5a67021": {
     "model_module": "@jupyter-widgets/base",
     "model_module_version": "1.2.0",
     "model_name": "LayoutModel",
     "state": {
      "_model_module": "@jupyter-widgets/base",
      "_model_module_version": "1.2.0",
      "_model_name": "LayoutModel",
      "_view_count": null,
      "_view_module": "@jupyter-widgets/base",
      "_view_module_version": "1.2.0",
      "_view_name": "LayoutView",
      "align_content": null,
      "align_items": null,
      "align_self": null,
      "border": null,
      "bottom": null,
      "display": null,
      "flex": null,
      "flex_flow": null,
      "grid_area": null,
      "grid_auto_columns": null,
      "grid_auto_flow": null,
      "grid_auto_rows": null,
      "grid_column": null,
      "grid_gap": null,
      "grid_row": null,
      "grid_template_areas": null,
      "grid_template_columns": null,
      "grid_template_rows": null,
      "height": null,
      "justify_content": null,
      "justify_items": null,
      "left": null,
      "margin": null,
      "max_height": null,
      "max_width": null,
      "min_height": null,
      "min_width": null,
      "object_fit": null,
      "object_position": null,
      "order": null,
      "overflow": null,
      "overflow_x": null,
      "overflow_y": null,
      "padding": null,
      "right": null,
      "top": null,
      "visibility": null,
      "width": null
     }
    },
    "3b282fa63d6f4ace8722ec3907295b7b": {
     "model_module": "@jupyter-widgets/base",
     "model_module_version": "1.2.0",
     "model_name": "LayoutModel",
     "state": {
      "_model_module": "@jupyter-widgets/base",
      "_model_module_version": "1.2.0",
      "_model_name": "LayoutModel",
      "_view_count": null,
      "_view_module": "@jupyter-widgets/base",
      "_view_module_version": "1.2.0",
      "_view_name": "LayoutView",
      "align_content": null,
      "align_items": null,
      "align_self": null,
      "border": null,
      "bottom": null,
      "display": null,
      "flex": null,
      "flex_flow": null,
      "grid_area": null,
      "grid_auto_columns": null,
      "grid_auto_flow": null,
      "grid_auto_rows": null,
      "grid_column": null,
      "grid_gap": null,
      "grid_row": null,
      "grid_template_areas": null,
      "grid_template_columns": null,
      "grid_template_rows": null,
      "height": null,
      "justify_content": null,
      "justify_items": null,
      "left": null,
      "margin": null,
      "max_height": null,
      "max_width": null,
      "min_height": null,
      "min_width": null,
      "object_fit": null,
      "object_position": null,
      "order": null,
      "overflow": null,
      "overflow_x": null,
      "overflow_y": null,
      "padding": null,
      "right": null,
      "top": null,
      "visibility": "hidden",
      "width": null
     }
    },
    "3b748ac84c61498b951e75863127b4fa": {
     "model_module": "@jupyter-widgets/controls",
     "model_module_version": "1.5.0",
     "model_name": "DescriptionStyleModel",
     "state": {
      "_model_module": "@jupyter-widgets/controls",
      "_model_module_version": "1.5.0",
      "_model_name": "DescriptionStyleModel",
      "_view_count": null,
      "_view_module": "@jupyter-widgets/base",
      "_view_module_version": "1.2.0",
      "_view_name": "StyleView",
      "description_width": ""
     }
    },
    "3cc0006def3e448d96f7684a149eef5e": {
     "model_module": "@jupyter-widgets/base",
     "model_module_version": "1.2.0",
     "model_name": "LayoutModel",
     "state": {
      "_model_module": "@jupyter-widgets/base",
      "_model_module_version": "1.2.0",
      "_model_name": "LayoutModel",
      "_view_count": null,
      "_view_module": "@jupyter-widgets/base",
      "_view_module_version": "1.2.0",
      "_view_name": "LayoutView",
      "align_content": null,
      "align_items": null,
      "align_self": null,
      "border": null,
      "bottom": null,
      "display": null,
      "flex": null,
      "flex_flow": null,
      "grid_area": null,
      "grid_auto_columns": null,
      "grid_auto_flow": null,
      "grid_auto_rows": null,
      "grid_column": null,
      "grid_gap": null,
      "grid_row": null,
      "grid_template_areas": null,
      "grid_template_columns": null,
      "grid_template_rows": null,
      "height": null,
      "justify_content": null,
      "justify_items": null,
      "left": null,
      "margin": null,
      "max_height": null,
      "max_width": null,
      "min_height": null,
      "min_width": null,
      "object_fit": null,
      "object_position": null,
      "order": null,
      "overflow": null,
      "overflow_x": null,
      "overflow_y": null,
      "padding": null,
      "right": null,
      "top": null,
      "visibility": null,
      "width": null
     }
    },
    "3dd3a0ddd0ce4402bfe482e0033f8402": {
     "model_module": "@jupyter-widgets/controls",
     "model_module_version": "1.5.0",
     "model_name": "ProgressStyleModel",
     "state": {
      "_model_module": "@jupyter-widgets/controls",
      "_model_module_version": "1.5.0",
      "_model_name": "ProgressStyleModel",
      "_view_count": null,
      "_view_module": "@jupyter-widgets/base",
      "_view_module_version": "1.2.0",
      "_view_name": "StyleView",
      "bar_color": null,
      "description_width": ""
     }
    },
    "3e677af70d33416587f2b346982f745b": {
     "model_module": "@jupyter-widgets/base",
     "model_module_version": "1.2.0",
     "model_name": "LayoutModel",
     "state": {
      "_model_module": "@jupyter-widgets/base",
      "_model_module_version": "1.2.0",
      "_model_name": "LayoutModel",
      "_view_count": null,
      "_view_module": "@jupyter-widgets/base",
      "_view_module_version": "1.2.0",
      "_view_name": "LayoutView",
      "align_content": null,
      "align_items": null,
      "align_self": null,
      "border": null,
      "bottom": null,
      "display": null,
      "flex": null,
      "flex_flow": null,
      "grid_area": null,
      "grid_auto_columns": null,
      "grid_auto_flow": null,
      "grid_auto_rows": null,
      "grid_column": null,
      "grid_gap": null,
      "grid_row": null,
      "grid_template_areas": null,
      "grid_template_columns": null,
      "grid_template_rows": null,
      "height": null,
      "justify_content": null,
      "justify_items": null,
      "left": null,
      "margin": null,
      "max_height": null,
      "max_width": null,
      "min_height": null,
      "min_width": null,
      "object_fit": null,
      "object_position": null,
      "order": null,
      "overflow": null,
      "overflow_x": null,
      "overflow_y": null,
      "padding": null,
      "right": null,
      "top": null,
      "visibility": null,
      "width": null
     }
    },
    "3f6f33388bea4292807fa1f2e1de4bc6": {
     "model_module": "@jupyter-widgets/controls",
     "model_module_version": "1.5.0",
     "model_name": "HTMLModel",
     "state": {
      "_dom_classes": [],
      "_model_module": "@jupyter-widgets/controls",
      "_model_module_version": "1.5.0",
      "_model_name": "HTMLModel",
      "_view_count": null,
      "_view_module": "@jupyter-widgets/controls",
      "_view_module_version": "1.5.0",
      "_view_name": "HTMLView",
      "description": "",
      "description_tooltip": null,
      "layout": "IPY_MODEL_4aef2ab7daa74e01b5fc10cdd224ecad",
      "placeholder": "​",
      "style": "IPY_MODEL_217b7fcb040643a5a6960dac63e9195f",
      "value": " 4.94k/4.94k [00:00&lt;00:00, 192kB/s]"
     }
    },
    "40bd3939ad92479eb9eb8e7e555f53f3": {
     "model_module": "@jupyter-widgets/controls",
     "model_module_version": "1.5.0",
     "model_name": "DescriptionStyleModel",
     "state": {
      "_model_module": "@jupyter-widgets/controls",
      "_model_module_version": "1.5.0",
      "_model_name": "DescriptionStyleModel",
      "_view_count": null,
      "_view_module": "@jupyter-widgets/base",
      "_view_module_version": "1.2.0",
      "_view_name": "StyleView",
      "description_width": ""
     }
    },
    "4318b736a2774ee3b412c12ba632aee9": {
     "model_module": "@jupyter-widgets/controls",
     "model_module_version": "1.5.0",
     "model_name": "DescriptionStyleModel",
     "state": {
      "_model_module": "@jupyter-widgets/controls",
      "_model_module_version": "1.5.0",
      "_model_name": "DescriptionStyleModel",
      "_view_count": null,
      "_view_module": "@jupyter-widgets/base",
      "_view_module_version": "1.2.0",
      "_view_name": "StyleView",
      "description_width": ""
     }
    },
    "4510497c284a4dcbbbc777348b1f16fe": {
     "model_module": "@jupyter-widgets/base",
     "model_module_version": "1.2.0",
     "model_name": "LayoutModel",
     "state": {
      "_model_module": "@jupyter-widgets/base",
      "_model_module_version": "1.2.0",
      "_model_name": "LayoutModel",
      "_view_count": null,
      "_view_module": "@jupyter-widgets/base",
      "_view_module_version": "1.2.0",
      "_view_name": "LayoutView",
      "align_content": null,
      "align_items": null,
      "align_self": null,
      "border": null,
      "bottom": null,
      "display": null,
      "flex": null,
      "flex_flow": null,
      "grid_area": null,
      "grid_auto_columns": null,
      "grid_auto_flow": null,
      "grid_auto_rows": null,
      "grid_column": null,
      "grid_gap": null,
      "grid_row": null,
      "grid_template_areas": null,
      "grid_template_columns": null,
      "grid_template_rows": null,
      "height": null,
      "justify_content": null,
      "justify_items": null,
      "left": null,
      "margin": null,
      "max_height": null,
      "max_width": null,
      "min_height": null,
      "min_width": null,
      "object_fit": null,
      "object_position": null,
      "order": null,
      "overflow": null,
      "overflow_x": null,
      "overflow_y": null,
      "padding": null,
      "right": null,
      "top": null,
      "visibility": null,
      "width": null
     }
    },
    "45ea419a27a5441486a14745babcf1f5": {
     "model_module": "@jupyter-widgets/base",
     "model_module_version": "1.2.0",
     "model_name": "LayoutModel",
     "state": {
      "_model_module": "@jupyter-widgets/base",
      "_model_module_version": "1.2.0",
      "_model_name": "LayoutModel",
      "_view_count": null,
      "_view_module": "@jupyter-widgets/base",
      "_view_module_version": "1.2.0",
      "_view_name": "LayoutView",
      "align_content": null,
      "align_items": null,
      "align_self": null,
      "border": null,
      "bottom": null,
      "display": null,
      "flex": null,
      "flex_flow": null,
      "grid_area": null,
      "grid_auto_columns": null,
      "grid_auto_flow": null,
      "grid_auto_rows": null,
      "grid_column": null,
      "grid_gap": null,
      "grid_row": null,
      "grid_template_areas": null,
      "grid_template_columns": null,
      "grid_template_rows": null,
      "height": null,
      "justify_content": null,
      "justify_items": null,
      "left": null,
      "margin": null,
      "max_height": null,
      "max_width": null,
      "min_height": null,
      "min_width": null,
      "object_fit": null,
      "object_position": null,
      "order": null,
      "overflow": null,
      "overflow_x": null,
      "overflow_y": null,
      "padding": null,
      "right": null,
      "top": null,
      "visibility": null,
      "width": null
     }
    },
    "460143a762854358990cdd2977a4acd8": {
     "model_module": "@jupyter-widgets/controls",
     "model_module_version": "1.5.0",
     "model_name": "HBoxModel",
     "state": {
      "_dom_classes": [],
      "_model_module": "@jupyter-widgets/controls",
      "_model_module_version": "1.5.0",
      "_model_name": "HBoxModel",
      "_view_count": null,
      "_view_module": "@jupyter-widgets/controls",
      "_view_module_version": "1.5.0",
      "_view_name": "HBoxView",
      "box_style": "",
      "children": [
       "IPY_MODEL_26bd902f8ed34b9593d7f15aeb0c9ba1",
       "IPY_MODEL_7191ada65e9e40e4a8023fad7059e06c",
       "IPY_MODEL_93361ba6ba044d56a6e9690abc338b95"
      ],
      "layout": "IPY_MODEL_4510497c284a4dcbbbc777348b1f16fe"
     }
    },
    "48e7c8a98e4d410291afe493864f6368": {
     "model_module": "@jupyter-widgets/controls",
     "model_module_version": "1.5.0",
     "model_name": "HBoxModel",
     "state": {
      "_dom_classes": [],
      "_model_module": "@jupyter-widgets/controls",
      "_model_module_version": "1.5.0",
      "_model_name": "HBoxModel",
      "_view_count": null,
      "_view_module": "@jupyter-widgets/controls",
      "_view_module_version": "1.5.0",
      "_view_name": "HBoxView",
      "box_style": "",
      "children": [
       "IPY_MODEL_b6bf4952c31a48b2acf8d6da41238cff",
       "IPY_MODEL_86f019fa16a44f6798e80eb15eaeafd1",
       "IPY_MODEL_d72a35f51dc442499a0c479ec9eea2dc"
      ],
      "layout": "IPY_MODEL_642b2a12f8d34b569cb067a0b6763b7a"
     }
    },
    "49062416df324f828386e9f93eb41f49": {
     "model_module": "@jupyter-widgets/controls",
     "model_module_version": "1.5.0",
     "model_name": "HTMLModel",
     "state": {
      "_dom_classes": [],
      "_model_module": "@jupyter-widgets/controls",
      "_model_module_version": "1.5.0",
      "_model_name": "HTMLModel",
      "_view_count": null,
      "_view_module": "@jupyter-widgets/controls",
      "_view_module_version": "1.5.0",
      "_view_name": "HTMLView",
      "description": "",
      "description_tooltip": null,
      "layout": "IPY_MODEL_5522aebcc246461aad4151e942a25e4b",
      "placeholder": "​",
      "style": "IPY_MODEL_69ceae1142ec487abc672878456a9fcc",
      "value": " 1/1 [00:00&lt;00:00, 28.23it/s]"
     }
    },
    "49ccba210c134d499cf8e61744826b95": {
     "model_module": "@jupyter-widgets/controls",
     "model_module_version": "1.5.0",
     "model_name": "DescriptionStyleModel",
     "state": {
      "_model_module": "@jupyter-widgets/controls",
      "_model_module_version": "1.5.0",
      "_model_name": "DescriptionStyleModel",
      "_view_count": null,
      "_view_module": "@jupyter-widgets/base",
      "_view_module_version": "1.2.0",
      "_view_name": "StyleView",
      "description_width": ""
     }
    },
    "4acd8bba24ff4eb8801c36e448bb1b48": {
     "model_module": "@jupyter-widgets/controls",
     "model_module_version": "1.5.0",
     "model_name": "DescriptionStyleModel",
     "state": {
      "_model_module": "@jupyter-widgets/controls",
      "_model_module_version": "1.5.0",
      "_model_name": "DescriptionStyleModel",
      "_view_count": null,
      "_view_module": "@jupyter-widgets/base",
      "_view_module_version": "1.2.0",
      "_view_name": "StyleView",
      "description_width": ""
     }
    },
    "4aef2ab7daa74e01b5fc10cdd224ecad": {
     "model_module": "@jupyter-widgets/base",
     "model_module_version": "1.2.0",
     "model_name": "LayoutModel",
     "state": {
      "_model_module": "@jupyter-widgets/base",
      "_model_module_version": "1.2.0",
      "_model_name": "LayoutModel",
      "_view_count": null,
      "_view_module": "@jupyter-widgets/base",
      "_view_module_version": "1.2.0",
      "_view_name": "LayoutView",
      "align_content": null,
      "align_items": null,
      "align_self": null,
      "border": null,
      "bottom": null,
      "display": null,
      "flex": null,
      "flex_flow": null,
      "grid_area": null,
      "grid_auto_columns": null,
      "grid_auto_flow": null,
      "grid_auto_rows": null,
      "grid_column": null,
      "grid_gap": null,
      "grid_row": null,
      "grid_template_areas": null,
      "grid_template_columns": null,
      "grid_template_rows": null,
      "height": null,
      "justify_content": null,
      "justify_items": null,
      "left": null,
      "margin": null,
      "max_height": null,
      "max_width": null,
      "min_height": null,
      "min_width": null,
      "object_fit": null,
      "object_position": null,
      "order": null,
      "overflow": null,
      "overflow_x": null,
      "overflow_y": null,
      "padding": null,
      "right": null,
      "top": null,
      "visibility": null,
      "width": null
     }
    },
    "4d7f17b0d15f4203b06aa8159ef5d82f": {
     "model_module": "@jupyter-widgets/controls",
     "model_module_version": "1.5.0",
     "model_name": "HBoxModel",
     "state": {
      "_dom_classes": [],
      "_model_module": "@jupyter-widgets/controls",
      "_model_module_version": "1.5.0",
      "_model_name": "HBoxModel",
      "_view_count": null,
      "_view_module": "@jupyter-widgets/controls",
      "_view_module_version": "1.5.0",
      "_view_name": "HBoxView",
      "box_style": "",
      "children": [
       "IPY_MODEL_695e59c5c4e84e23b695c2e61c763755",
       "IPY_MODEL_db285299833149fd9c43859af99a4cff",
       "IPY_MODEL_70bb24eb618d4a7d815e911ecc77b2b9"
      ],
      "layout": "IPY_MODEL_c7224aba1bdc4183b71076cab29497f2"
     }
    },
    "4e064102b539408697415185ef93720b": {
     "model_module": "@jupyter-widgets/controls",
     "model_module_version": "1.5.0",
     "model_name": "DescriptionStyleModel",
     "state": {
      "_model_module": "@jupyter-widgets/controls",
      "_model_module_version": "1.5.0",
      "_model_name": "DescriptionStyleModel",
      "_view_count": null,
      "_view_module": "@jupyter-widgets/base",
      "_view_module_version": "1.2.0",
      "_view_name": "StyleView",
      "description_width": ""
     }
    },
    "4f796bfe388d41a694664fba54824d8f": {
     "model_module": "@jupyter-widgets/base",
     "model_module_version": "1.2.0",
     "model_name": "LayoutModel",
     "state": {
      "_model_module": "@jupyter-widgets/base",
      "_model_module_version": "1.2.0",
      "_model_name": "LayoutModel",
      "_view_count": null,
      "_view_module": "@jupyter-widgets/base",
      "_view_module_version": "1.2.0",
      "_view_name": "LayoutView",
      "align_content": null,
      "align_items": null,
      "align_self": null,
      "border": null,
      "bottom": null,
      "display": null,
      "flex": null,
      "flex_flow": null,
      "grid_area": null,
      "grid_auto_columns": null,
      "grid_auto_flow": null,
      "grid_auto_rows": null,
      "grid_column": null,
      "grid_gap": null,
      "grid_row": null,
      "grid_template_areas": null,
      "grid_template_columns": null,
      "grid_template_rows": null,
      "height": null,
      "justify_content": null,
      "justify_items": null,
      "left": null,
      "margin": null,
      "max_height": null,
      "max_width": null,
      "min_height": null,
      "min_width": null,
      "object_fit": null,
      "object_position": null,
      "order": null,
      "overflow": null,
      "overflow_x": null,
      "overflow_y": null,
      "padding": null,
      "right": null,
      "top": null,
      "visibility": null,
      "width": null
     }
    },
    "5164fc43680b425c99e43e06dab89390": {
     "model_module": "@jupyter-widgets/controls",
     "model_module_version": "1.5.0",
     "model_name": "FloatProgressModel",
     "state": {
      "_dom_classes": [],
      "_model_module": "@jupyter-widgets/controls",
      "_model_module_version": "1.5.0",
      "_model_name": "FloatProgressModel",
      "_view_count": null,
      "_view_module": "@jupyter-widgets/controls",
      "_view_module_version": "1.5.0",
      "_view_name": "ProgressView",
      "bar_style": "success",
      "description": "",
      "description_tooltip": null,
      "layout": "IPY_MODEL_9a60209ff2d84d8bac54de2ee5567fad",
      "max": 3,
      "min": 0,
      "orientation": "horizontal",
      "style": "IPY_MODEL_bd0c9d510e30462d9aeed17760dd467e",
      "value": 3
     }
    },
    "52262c3b8c95468f8e2568f06acbe750": {
     "model_module": "@jupyter-widgets/base",
     "model_module_version": "1.2.0",
     "model_name": "LayoutModel",
     "state": {
      "_model_module": "@jupyter-widgets/base",
      "_model_module_version": "1.2.0",
      "_model_name": "LayoutModel",
      "_view_count": null,
      "_view_module": "@jupyter-widgets/base",
      "_view_module_version": "1.2.0",
      "_view_name": "LayoutView",
      "align_content": null,
      "align_items": null,
      "align_self": null,
      "border": null,
      "bottom": null,
      "display": null,
      "flex": null,
      "flex_flow": null,
      "grid_area": null,
      "grid_auto_columns": null,
      "grid_auto_flow": null,
      "grid_auto_rows": null,
      "grid_column": null,
      "grid_gap": null,
      "grid_row": null,
      "grid_template_areas": null,
      "grid_template_columns": null,
      "grid_template_rows": null,
      "height": null,
      "justify_content": null,
      "justify_items": null,
      "left": null,
      "margin": null,
      "max_height": null,
      "max_width": null,
      "min_height": null,
      "min_width": null,
      "object_fit": null,
      "object_position": null,
      "order": null,
      "overflow": null,
      "overflow_x": null,
      "overflow_y": null,
      "padding": null,
      "right": null,
      "top": null,
      "visibility": null,
      "width": null
     }
    },
    "524d556f942f48de908d40f5aa7c2102": {
     "model_module": "@jupyter-widgets/base",
     "model_module_version": "1.2.0",
     "model_name": "LayoutModel",
     "state": {
      "_model_module": "@jupyter-widgets/base",
      "_model_module_version": "1.2.0",
      "_model_name": "LayoutModel",
      "_view_count": null,
      "_view_module": "@jupyter-widgets/base",
      "_view_module_version": "1.2.0",
      "_view_name": "LayoutView",
      "align_content": null,
      "align_items": null,
      "align_self": null,
      "border": null,
      "bottom": null,
      "display": null,
      "flex": null,
      "flex_flow": null,
      "grid_area": null,
      "grid_auto_columns": null,
      "grid_auto_flow": null,
      "grid_auto_rows": null,
      "grid_column": null,
      "grid_gap": null,
      "grid_row": null,
      "grid_template_areas": null,
      "grid_template_columns": null,
      "grid_template_rows": null,
      "height": null,
      "justify_content": null,
      "justify_items": null,
      "left": null,
      "margin": null,
      "max_height": null,
      "max_width": null,
      "min_height": null,
      "min_width": null,
      "object_fit": null,
      "object_position": null,
      "order": null,
      "overflow": null,
      "overflow_x": null,
      "overflow_y": null,
      "padding": null,
      "right": null,
      "top": null,
      "visibility": null,
      "width": null
     }
    },
    "551aad824d5d4e4d8a856e46b11b7651": {
     "model_module": "@jupyter-widgets/base",
     "model_module_version": "1.2.0",
     "model_name": "LayoutModel",
     "state": {
      "_model_module": "@jupyter-widgets/base",
      "_model_module_version": "1.2.0",
      "_model_name": "LayoutModel",
      "_view_count": null,
      "_view_module": "@jupyter-widgets/base",
      "_view_module_version": "1.2.0",
      "_view_name": "LayoutView",
      "align_content": null,
      "align_items": null,
      "align_self": null,
      "border": null,
      "bottom": null,
      "display": null,
      "flex": null,
      "flex_flow": null,
      "grid_area": null,
      "grid_auto_columns": null,
      "grid_auto_flow": null,
      "grid_auto_rows": null,
      "grid_column": null,
      "grid_gap": null,
      "grid_row": null,
      "grid_template_areas": null,
      "grid_template_columns": null,
      "grid_template_rows": null,
      "height": null,
      "justify_content": null,
      "justify_items": null,
      "left": null,
      "margin": null,
      "max_height": null,
      "max_width": null,
      "min_height": null,
      "min_width": null,
      "object_fit": null,
      "object_position": null,
      "order": null,
      "overflow": null,
      "overflow_x": null,
      "overflow_y": null,
      "padding": null,
      "right": null,
      "top": null,
      "visibility": null,
      "width": null
     }
    },
    "5522aebcc246461aad4151e942a25e4b": {
     "model_module": "@jupyter-widgets/base",
     "model_module_version": "1.2.0",
     "model_name": "LayoutModel",
     "state": {
      "_model_module": "@jupyter-widgets/base",
      "_model_module_version": "1.2.0",
      "_model_name": "LayoutModel",
      "_view_count": null,
      "_view_module": "@jupyter-widgets/base",
      "_view_module_version": "1.2.0",
      "_view_name": "LayoutView",
      "align_content": null,
      "align_items": null,
      "align_self": null,
      "border": null,
      "bottom": null,
      "display": null,
      "flex": null,
      "flex_flow": null,
      "grid_area": null,
      "grid_auto_columns": null,
      "grid_auto_flow": null,
      "grid_auto_rows": null,
      "grid_column": null,
      "grid_gap": null,
      "grid_row": null,
      "grid_template_areas": null,
      "grid_template_columns": null,
      "grid_template_rows": null,
      "height": null,
      "justify_content": null,
      "justify_items": null,
      "left": null,
      "margin": null,
      "max_height": null,
      "max_width": null,
      "min_height": null,
      "min_width": null,
      "object_fit": null,
      "object_position": null,
      "order": null,
      "overflow": null,
      "overflow_x": null,
      "overflow_y": null,
      "padding": null,
      "right": null,
      "top": null,
      "visibility": null,
      "width": null
     }
    },
    "5653ac904e1143998790e3bb37f06fd9": {
     "model_module": "@jupyter-widgets/controls",
     "model_module_version": "1.5.0",
     "model_name": "ProgressStyleModel",
     "state": {
      "_model_module": "@jupyter-widgets/controls",
      "_model_module_version": "1.5.0",
      "_model_name": "ProgressStyleModel",
      "_view_count": null,
      "_view_module": "@jupyter-widgets/base",
      "_view_module_version": "1.2.0",
      "_view_name": "StyleView",
      "bar_color": null,
      "description_width": ""
     }
    },
    "598a598e46974d259169feb3bd3f59af": {
     "model_module": "@jupyter-widgets/controls",
     "model_module_version": "1.5.0",
     "model_name": "HTMLModel",
     "state": {
      "_dom_classes": [],
      "_model_module": "@jupyter-widgets/controls",
      "_model_module_version": "1.5.0",
      "_model_name": "HTMLModel",
      "_view_count": null,
      "_view_module": "@jupyter-widgets/controls",
      "_view_module_version": "1.5.0",
      "_view_name": "HTMLView",
      "description": "",
      "description_tooltip": null,
      "layout": "IPY_MODEL_0f7a7c514b2f41d1926b249fc204a696",
      "placeholder": "​",
      "style": "IPY_MODEL_4e064102b539408697415185ef93720b",
      "value": "100%"
     }
    },
    "59b840e727fa4bbfa126f5a370d1ff6c": {
     "model_module": "@jupyter-widgets/controls",
     "model_module_version": "1.5.0",
     "model_name": "DescriptionStyleModel",
     "state": {
      "_model_module": "@jupyter-widgets/controls",
      "_model_module_version": "1.5.0",
      "_model_name": "DescriptionStyleModel",
      "_view_count": null,
      "_view_module": "@jupyter-widgets/base",
      "_view_module_version": "1.2.0",
      "_view_name": "StyleView",
      "description_width": ""
     }
    },
    "5b062b0cb47048648bd6d9479f24db57": {
     "model_module": "@jupyter-widgets/base",
     "model_module_version": "1.2.0",
     "model_name": "LayoutModel",
     "state": {
      "_model_module": "@jupyter-widgets/base",
      "_model_module_version": "1.2.0",
      "_model_name": "LayoutModel",
      "_view_count": null,
      "_view_module": "@jupyter-widgets/base",
      "_view_module_version": "1.2.0",
      "_view_name": "LayoutView",
      "align_content": null,
      "align_items": null,
      "align_self": null,
      "border": null,
      "bottom": null,
      "display": null,
      "flex": null,
      "flex_flow": null,
      "grid_area": null,
      "grid_auto_columns": null,
      "grid_auto_flow": null,
      "grid_auto_rows": null,
      "grid_column": null,
      "grid_gap": null,
      "grid_row": null,
      "grid_template_areas": null,
      "grid_template_columns": null,
      "grid_template_rows": null,
      "height": null,
      "justify_content": null,
      "justify_items": null,
      "left": null,
      "margin": null,
      "max_height": null,
      "max_width": null,
      "min_height": null,
      "min_width": null,
      "object_fit": null,
      "object_position": null,
      "order": null,
      "overflow": null,
      "overflow_x": null,
      "overflow_y": null,
      "padding": null,
      "right": null,
      "top": null,
      "visibility": null,
      "width": "20px"
     }
    },
    "5bd6302bc41149c49151a6e5daa6b368": {
     "model_module": "@jupyter-widgets/base",
     "model_module_version": "1.2.0",
     "model_name": "LayoutModel",
     "state": {
      "_model_module": "@jupyter-widgets/base",
      "_model_module_version": "1.2.0",
      "_model_name": "LayoutModel",
      "_view_count": null,
      "_view_module": "@jupyter-widgets/base",
      "_view_module_version": "1.2.0",
      "_view_name": "LayoutView",
      "align_content": null,
      "align_items": null,
      "align_self": null,
      "border": null,
      "bottom": null,
      "display": null,
      "flex": null,
      "flex_flow": null,
      "grid_area": null,
      "grid_auto_columns": null,
      "grid_auto_flow": null,
      "grid_auto_rows": null,
      "grid_column": null,
      "grid_gap": null,
      "grid_row": null,
      "grid_template_areas": null,
      "grid_template_columns": null,
      "grid_template_rows": null,
      "height": null,
      "justify_content": null,
      "justify_items": null,
      "left": null,
      "margin": null,
      "max_height": null,
      "max_width": null,
      "min_height": null,
      "min_width": null,
      "object_fit": null,
      "object_position": null,
      "order": null,
      "overflow": null,
      "overflow_x": null,
      "overflow_y": null,
      "padding": null,
      "right": null,
      "top": null,
      "visibility": null,
      "width": null
     }
    },
    "5d6e660b338d4ea480097fccf05a26ba": {
     "model_module": "@jupyter-widgets/controls",
     "model_module_version": "1.5.0",
     "model_name": "DescriptionStyleModel",
     "state": {
      "_model_module": "@jupyter-widgets/controls",
      "_model_module_version": "1.5.0",
      "_model_name": "DescriptionStyleModel",
      "_view_count": null,
      "_view_module": "@jupyter-widgets/base",
      "_view_module_version": "1.2.0",
      "_view_name": "StyleView",
      "description_width": ""
     }
    },
    "5db7d95fbba64619be95ee2749ab4775": {
     "model_module": "@jupyter-widgets/controls",
     "model_module_version": "1.5.0",
     "model_name": "HBoxModel",
     "state": {
      "_dom_classes": [],
      "_model_module": "@jupyter-widgets/controls",
      "_model_module_version": "1.5.0",
      "_model_name": "HBoxModel",
      "_view_count": null,
      "_view_module": "@jupyter-widgets/controls",
      "_view_module_version": "1.5.0",
      "_view_name": "HBoxView",
      "box_style": "",
      "children": [
       "IPY_MODEL_0cca24440cf64c76927b099c5feff449",
       "IPY_MODEL_2c7964e534ce41f2a32cca9bfed34af3",
       "IPY_MODEL_916d6f49f4ba4ce4b937df355bf41fe2"
      ],
      "layout": "IPY_MODEL_5bd6302bc41149c49151a6e5daa6b368"
     }
    },
    "5e1fde3290e4491e92ab8de320612958": {
     "model_module": "@jupyter-widgets/base",
     "model_module_version": "1.2.0",
     "model_name": "LayoutModel",
     "state": {
      "_model_module": "@jupyter-widgets/base",
      "_model_module_version": "1.2.0",
      "_model_name": "LayoutModel",
      "_view_count": null,
      "_view_module": "@jupyter-widgets/base",
      "_view_module_version": "1.2.0",
      "_view_name": "LayoutView",
      "align_content": null,
      "align_items": null,
      "align_self": null,
      "border": null,
      "bottom": null,
      "display": null,
      "flex": null,
      "flex_flow": null,
      "grid_area": null,
      "grid_auto_columns": null,
      "grid_auto_flow": null,
      "grid_auto_rows": null,
      "grid_column": null,
      "grid_gap": null,
      "grid_row": null,
      "grid_template_areas": null,
      "grid_template_columns": null,
      "grid_template_rows": null,
      "height": null,
      "justify_content": null,
      "justify_items": null,
      "left": null,
      "margin": null,
      "max_height": null,
      "max_width": null,
      "min_height": null,
      "min_width": null,
      "object_fit": null,
      "object_position": null,
      "order": null,
      "overflow": null,
      "overflow_x": null,
      "overflow_y": null,
      "padding": null,
      "right": null,
      "top": null,
      "visibility": null,
      "width": null
     }
    },
    "5fdb7de963e94c56a53ea6f31d8314e8": {
     "model_module": "@jupyter-widgets/controls",
     "model_module_version": "1.5.0",
     "model_name": "ProgressStyleModel",
     "state": {
      "_model_module": "@jupyter-widgets/controls",
      "_model_module_version": "1.5.0",
      "_model_name": "ProgressStyleModel",
      "_view_count": null,
      "_view_module": "@jupyter-widgets/base",
      "_view_module_version": "1.2.0",
      "_view_name": "StyleView",
      "bar_color": null,
      "description_width": ""
     }
    },
    "607e31821e0f43269ec2822cab858666": {
     "model_module": "@jupyter-widgets/controls",
     "model_module_version": "1.5.0",
     "model_name": "DescriptionStyleModel",
     "state": {
      "_model_module": "@jupyter-widgets/controls",
      "_model_module_version": "1.5.0",
      "_model_name": "DescriptionStyleModel",
      "_view_count": null,
      "_view_module": "@jupyter-widgets/base",
      "_view_module_version": "1.2.0",
      "_view_name": "StyleView",
      "description_width": ""
     }
    },
    "63b60fd26beb49da9167f8dad72a01ea": {
     "model_module": "@jupyter-widgets/controls",
     "model_module_version": "1.5.0",
     "model_name": "HBoxModel",
     "state": {
      "_dom_classes": [],
      "_model_module": "@jupyter-widgets/controls",
      "_model_module_version": "1.5.0",
      "_model_name": "HBoxModel",
      "_view_count": null,
      "_view_module": "@jupyter-widgets/controls",
      "_view_module_version": "1.5.0",
      "_view_name": "HBoxView",
      "box_style": "",
      "children": [
       "IPY_MODEL_ab9b45836cd14917979130a84ca5a8ce",
       "IPY_MODEL_ab41f6cbddb241818ddea236d96aa179",
       "IPY_MODEL_e3b693fb1aca40aa9133fb5729c8f9d7"
      ],
      "layout": "IPY_MODEL_f3d20f14724b4fad87efde3295faffc4"
     }
    },
    "642b2a12f8d34b569cb067a0b6763b7a": {
     "model_module": "@jupyter-widgets/base",
     "model_module_version": "1.2.0",
     "model_name": "LayoutModel",
     "state": {
      "_model_module": "@jupyter-widgets/base",
      "_model_module_version": "1.2.0",
      "_model_name": "LayoutModel",
      "_view_count": null,
      "_view_module": "@jupyter-widgets/base",
      "_view_module_version": "1.2.0",
      "_view_name": "LayoutView",
      "align_content": null,
      "align_items": null,
      "align_self": null,
      "border": null,
      "bottom": null,
      "display": null,
      "flex": null,
      "flex_flow": null,
      "grid_area": null,
      "grid_auto_columns": null,
      "grid_auto_flow": null,
      "grid_auto_rows": null,
      "grid_column": null,
      "grid_gap": null,
      "grid_row": null,
      "grid_template_areas": null,
      "grid_template_columns": null,
      "grid_template_rows": null,
      "height": null,
      "justify_content": null,
      "justify_items": null,
      "left": null,
      "margin": null,
      "max_height": null,
      "max_width": null,
      "min_height": null,
      "min_width": null,
      "object_fit": null,
      "object_position": null,
      "order": null,
      "overflow": null,
      "overflow_x": null,
      "overflow_y": null,
      "padding": null,
      "right": null,
      "top": null,
      "visibility": "hidden",
      "width": null
     }
    },
    "695e59c5c4e84e23b695c2e61c763755": {
     "model_module": "@jupyter-widgets/controls",
     "model_module_version": "1.5.0",
     "model_name": "HTMLModel",
     "state": {
      "_dom_classes": [],
      "_model_module": "@jupyter-widgets/controls",
      "_model_module_version": "1.5.0",
      "_model_name": "HTMLModel",
      "_view_count": null,
      "_view_module": "@jupyter-widgets/controls",
      "_view_module_version": "1.5.0",
      "_view_name": "HTMLView",
      "description": "",
      "description_tooltip": null,
      "layout": "IPY_MODEL_7c0a53c877c140daa475407729ab4159",
      "placeholder": "​",
      "style": "IPY_MODEL_4318b736a2774ee3b412c12ba632aee9",
      "value": "Generating train split: "
     }
    },
    "69ceae1142ec487abc672878456a9fcc": {
     "model_module": "@jupyter-widgets/controls",
     "model_module_version": "1.5.0",
     "model_name": "DescriptionStyleModel",
     "state": {
      "_model_module": "@jupyter-widgets/controls",
      "_model_module_version": "1.5.0",
      "_model_name": "DescriptionStyleModel",
      "_view_count": null,
      "_view_module": "@jupyter-widgets/base",
      "_view_module_version": "1.2.0",
      "_view_name": "StyleView",
      "description_width": ""
     }
    },
    "6c18ac88cfde49aa8637ce3946ee15e8": {
     "model_module": "@jupyter-widgets/base",
     "model_module_version": "1.2.0",
     "model_name": "LayoutModel",
     "state": {
      "_model_module": "@jupyter-widgets/base",
      "_model_module_version": "1.2.0",
      "_model_name": "LayoutModel",
      "_view_count": null,
      "_view_module": "@jupyter-widgets/base",
      "_view_module_version": "1.2.0",
      "_view_name": "LayoutView",
      "align_content": null,
      "align_items": null,
      "align_self": null,
      "border": null,
      "bottom": null,
      "display": null,
      "flex": null,
      "flex_flow": null,
      "grid_area": null,
      "grid_auto_columns": null,
      "grid_auto_flow": null,
      "grid_auto_rows": null,
      "grid_column": null,
      "grid_gap": null,
      "grid_row": null,
      "grid_template_areas": null,
      "grid_template_columns": null,
      "grid_template_rows": null,
      "height": null,
      "justify_content": null,
      "justify_items": null,
      "left": null,
      "margin": null,
      "max_height": null,
      "max_width": null,
      "min_height": null,
      "min_width": null,
      "object_fit": null,
      "object_position": null,
      "order": null,
      "overflow": null,
      "overflow_x": null,
      "overflow_y": null,
      "padding": null,
      "right": null,
      "top": null,
      "visibility": null,
      "width": null
     }
    },
    "6e821d98fab54bc5bee0054967868883": {
     "model_module": "@jupyter-widgets/base",
     "model_module_version": "1.2.0",
     "model_name": "LayoutModel",
     "state": {
      "_model_module": "@jupyter-widgets/base",
      "_model_module_version": "1.2.0",
      "_model_name": "LayoutModel",
      "_view_count": null,
      "_view_module": "@jupyter-widgets/base",
      "_view_module_version": "1.2.0",
      "_view_name": "LayoutView",
      "align_content": null,
      "align_items": null,
      "align_self": null,
      "border": null,
      "bottom": null,
      "display": null,
      "flex": null,
      "flex_flow": null,
      "grid_area": null,
      "grid_auto_columns": null,
      "grid_auto_flow": null,
      "grid_auto_rows": null,
      "grid_column": null,
      "grid_gap": null,
      "grid_row": null,
      "grid_template_areas": null,
      "grid_template_columns": null,
      "grid_template_rows": null,
      "height": null,
      "justify_content": null,
      "justify_items": null,
      "left": null,
      "margin": null,
      "max_height": null,
      "max_width": null,
      "min_height": null,
      "min_width": null,
      "object_fit": null,
      "object_position": null,
      "order": null,
      "overflow": null,
      "overflow_x": null,
      "overflow_y": null,
      "padding": null,
      "right": null,
      "top": null,
      "visibility": null,
      "width": null
     }
    },
    "6e90ba82841948a7a0229a1badfad497": {
     "model_module": "@jupyter-widgets/base",
     "model_module_version": "1.2.0",
     "model_name": "LayoutModel",
     "state": {
      "_model_module": "@jupyter-widgets/base",
      "_model_module_version": "1.2.0",
      "_model_name": "LayoutModel",
      "_view_count": null,
      "_view_module": "@jupyter-widgets/base",
      "_view_module_version": "1.2.0",
      "_view_name": "LayoutView",
      "align_content": null,
      "align_items": null,
      "align_self": null,
      "border": null,
      "bottom": null,
      "display": null,
      "flex": null,
      "flex_flow": null,
      "grid_area": null,
      "grid_auto_columns": null,
      "grid_auto_flow": null,
      "grid_auto_rows": null,
      "grid_column": null,
      "grid_gap": null,
      "grid_row": null,
      "grid_template_areas": null,
      "grid_template_columns": null,
      "grid_template_rows": null,
      "height": null,
      "justify_content": null,
      "justify_items": null,
      "left": null,
      "margin": null,
      "max_height": null,
      "max_width": null,
      "min_height": null,
      "min_width": null,
      "object_fit": null,
      "object_position": null,
      "order": null,
      "overflow": null,
      "overflow_x": null,
      "overflow_y": null,
      "padding": null,
      "right": null,
      "top": null,
      "visibility": null,
      "width": null
     }
    },
    "6ebbb79b4228412b9893d5e4721f87c0": {
     "model_module": "@jupyter-widgets/base",
     "model_module_version": "1.2.0",
     "model_name": "LayoutModel",
     "state": {
      "_model_module": "@jupyter-widgets/base",
      "_model_module_version": "1.2.0",
      "_model_name": "LayoutModel",
      "_view_count": null,
      "_view_module": "@jupyter-widgets/base",
      "_view_module_version": "1.2.0",
      "_view_name": "LayoutView",
      "align_content": null,
      "align_items": null,
      "align_self": null,
      "border": null,
      "bottom": null,
      "display": null,
      "flex": null,
      "flex_flow": null,
      "grid_area": null,
      "grid_auto_columns": null,
      "grid_auto_flow": null,
      "grid_auto_rows": null,
      "grid_column": null,
      "grid_gap": null,
      "grid_row": null,
      "grid_template_areas": null,
      "grid_template_columns": null,
      "grid_template_rows": null,
      "height": null,
      "justify_content": null,
      "justify_items": null,
      "left": null,
      "margin": null,
      "max_height": null,
      "max_width": null,
      "min_height": null,
      "min_width": null,
      "object_fit": null,
      "object_position": null,
      "order": null,
      "overflow": null,
      "overflow_x": null,
      "overflow_y": null,
      "padding": null,
      "right": null,
      "top": null,
      "visibility": null,
      "width": null
     }
    },
    "6fdd472ebe8d4b948a35025353c51a1c": {
     "model_module": "@jupyter-widgets/base",
     "model_module_version": "1.2.0",
     "model_name": "LayoutModel",
     "state": {
      "_model_module": "@jupyter-widgets/base",
      "_model_module_version": "1.2.0",
      "_model_name": "LayoutModel",
      "_view_count": null,
      "_view_module": "@jupyter-widgets/base",
      "_view_module_version": "1.2.0",
      "_view_name": "LayoutView",
      "align_content": null,
      "align_items": null,
      "align_self": null,
      "border": null,
      "bottom": null,
      "display": null,
      "flex": null,
      "flex_flow": null,
      "grid_area": null,
      "grid_auto_columns": null,
      "grid_auto_flow": null,
      "grid_auto_rows": null,
      "grid_column": null,
      "grid_gap": null,
      "grid_row": null,
      "grid_template_areas": null,
      "grid_template_columns": null,
      "grid_template_rows": null,
      "height": null,
      "justify_content": null,
      "justify_items": null,
      "left": null,
      "margin": null,
      "max_height": null,
      "max_width": null,
      "min_height": null,
      "min_width": null,
      "object_fit": null,
      "object_position": null,
      "order": null,
      "overflow": null,
      "overflow_x": null,
      "overflow_y": null,
      "padding": null,
      "right": null,
      "top": null,
      "visibility": null,
      "width": null
     }
    },
    "702ca484ee1d41988259d011a126e338": {
     "model_module": "@jupyter-widgets/base",
     "model_module_version": "1.2.0",
     "model_name": "LayoutModel",
     "state": {
      "_model_module": "@jupyter-widgets/base",
      "_model_module_version": "1.2.0",
      "_model_name": "LayoutModel",
      "_view_count": null,
      "_view_module": "@jupyter-widgets/base",
      "_view_module_version": "1.2.0",
      "_view_name": "LayoutView",
      "align_content": null,
      "align_items": null,
      "align_self": null,
      "border": null,
      "bottom": null,
      "display": null,
      "flex": null,
      "flex_flow": null,
      "grid_area": null,
      "grid_auto_columns": null,
      "grid_auto_flow": null,
      "grid_auto_rows": null,
      "grid_column": null,
      "grid_gap": null,
      "grid_row": null,
      "grid_template_areas": null,
      "grid_template_columns": null,
      "grid_template_rows": null,
      "height": null,
      "justify_content": null,
      "justify_items": null,
      "left": null,
      "margin": null,
      "max_height": null,
      "max_width": null,
      "min_height": null,
      "min_width": null,
      "object_fit": null,
      "object_position": null,
      "order": null,
      "overflow": null,
      "overflow_x": null,
      "overflow_y": null,
      "padding": null,
      "right": null,
      "top": null,
      "visibility": null,
      "width": null
     }
    },
    "70bb24eb618d4a7d815e911ecc77b2b9": {
     "model_module": "@jupyter-widgets/controls",
     "model_module_version": "1.5.0",
     "model_name": "HTMLModel",
     "state": {
      "_dom_classes": [],
      "_model_module": "@jupyter-widgets/controls",
      "_model_module_version": "1.5.0",
      "_model_name": "HTMLModel",
      "_view_count": null,
      "_view_module": "@jupyter-widgets/controls",
      "_view_module_version": "1.5.0",
      "_view_name": "HTMLView",
      "description": "",
      "description_tooltip": null,
      "layout": "IPY_MODEL_3e677af70d33416587f2b346982f745b",
      "placeholder": "​",
      "style": "IPY_MODEL_3b748ac84c61498b951e75863127b4fa",
      "value": " 0/0 [00:00&lt;?, ? examples/s]"
     }
    },
    "7191ada65e9e40e4a8023fad7059e06c": {
     "model_module": "@jupyter-widgets/controls",
     "model_module_version": "1.5.0",
     "model_name": "FloatProgressModel",
     "state": {
      "_dom_classes": [],
      "_model_module": "@jupyter-widgets/controls",
      "_model_module_version": "1.5.0",
      "_model_name": "FloatProgressModel",
      "_view_count": null,
      "_view_module": "@jupyter-widgets/controls",
      "_view_module_version": "1.5.0",
      "_view_name": "ProgressView",
      "bar_style": "success",
      "description": "",
      "description_tooltip": null,
      "layout": "IPY_MODEL_6ebbb79b4228412b9893d5e4721f87c0",
      "max": 422810,
      "min": 0,
      "orientation": "horizontal",
      "style": "IPY_MODEL_90710a10fe4e4b1da6c619178bdec5a1",
      "value": 422810
     }
    },
    "71dd541021d64d8e96ddb7c3c97634de": {
     "model_module": "@jupyter-widgets/base",
     "model_module_version": "1.2.0",
     "model_name": "LayoutModel",
     "state": {
      "_model_module": "@jupyter-widgets/base",
      "_model_module_version": "1.2.0",
      "_model_name": "LayoutModel",
      "_view_count": null,
      "_view_module": "@jupyter-widgets/base",
      "_view_module_version": "1.2.0",
      "_view_name": "LayoutView",
      "align_content": null,
      "align_items": null,
      "align_self": null,
      "border": null,
      "bottom": null,
      "display": null,
      "flex": null,
      "flex_flow": null,
      "grid_area": null,
      "grid_auto_columns": null,
      "grid_auto_flow": null,
      "grid_auto_rows": null,
      "grid_column": null,
      "grid_gap": null,
      "grid_row": null,
      "grid_template_areas": null,
      "grid_template_columns": null,
      "grid_template_rows": null,
      "height": null,
      "justify_content": null,
      "justify_items": null,
      "left": null,
      "margin": null,
      "max_height": null,
      "max_width": null,
      "min_height": null,
      "min_width": null,
      "object_fit": null,
      "object_position": null,
      "order": null,
      "overflow": null,
      "overflow_x": null,
      "overflow_y": null,
      "padding": null,
      "right": null,
      "top": null,
      "visibility": null,
      "width": null
     }
    },
    "7523818f7ef54e2f9519e166e59a30ba": {
     "model_module": "@jupyter-widgets/controls",
     "model_module_version": "1.5.0",
     "model_name": "DescriptionStyleModel",
     "state": {
      "_model_module": "@jupyter-widgets/controls",
      "_model_module_version": "1.5.0",
      "_model_name": "DescriptionStyleModel",
      "_view_count": null,
      "_view_module": "@jupyter-widgets/base",
      "_view_module_version": "1.2.0",
      "_view_name": "StyleView",
      "description_width": ""
     }
    },
    "786a8f5cf7ba4f1a920983e55aa796da": {
     "model_module": "@jupyter-widgets/base",
     "model_module_version": "1.2.0",
     "model_name": "LayoutModel",
     "state": {
      "_model_module": "@jupyter-widgets/base",
      "_model_module_version": "1.2.0",
      "_model_name": "LayoutModel",
      "_view_count": null,
      "_view_module": "@jupyter-widgets/base",
      "_view_module_version": "1.2.0",
      "_view_name": "LayoutView",
      "align_content": null,
      "align_items": null,
      "align_self": null,
      "border": null,
      "bottom": null,
      "display": null,
      "flex": null,
      "flex_flow": null,
      "grid_area": null,
      "grid_auto_columns": null,
      "grid_auto_flow": null,
      "grid_auto_rows": null,
      "grid_column": null,
      "grid_gap": null,
      "grid_row": null,
      "grid_template_areas": null,
      "grid_template_columns": null,
      "grid_template_rows": null,
      "height": null,
      "justify_content": null,
      "justify_items": null,
      "left": null,
      "margin": null,
      "max_height": null,
      "max_width": null,
      "min_height": null,
      "min_width": null,
      "object_fit": null,
      "object_position": null,
      "order": null,
      "overflow": null,
      "overflow_x": null,
      "overflow_y": null,
      "padding": null,
      "right": null,
      "top": null,
      "visibility": null,
      "width": null
     }
    },
    "788994e8a1f74d84b4c60d4ac8675ab2": {
     "model_module": "@jupyter-widgets/controls",
     "model_module_version": "1.5.0",
     "model_name": "HBoxModel",
     "state": {
      "_dom_classes": [],
      "_model_module": "@jupyter-widgets/controls",
      "_model_module_version": "1.5.0",
      "_model_name": "HBoxModel",
      "_view_count": null,
      "_view_module": "@jupyter-widgets/controls",
      "_view_module_version": "1.5.0",
      "_view_name": "HBoxView",
      "box_style": "",
      "children": [
       "IPY_MODEL_1e0a183f51ce4a4391d00109d0819760",
       "IPY_MODEL_f6a50eba222d45e583195bfe1faa0e7c",
       "IPY_MODEL_080fabeb5df949feaa76e0409fdfc70d"
      ],
      "layout": "IPY_MODEL_5e1fde3290e4491e92ab8de320612958"
     }
    },
    "78ea8562bf514a61a209788c547374ed": {
     "model_module": "@jupyter-widgets/controls",
     "model_module_version": "1.5.0",
     "model_name": "ProgressStyleModel",
     "state": {
      "_model_module": "@jupyter-widgets/controls",
      "_model_module_version": "1.5.0",
      "_model_name": "ProgressStyleModel",
      "_view_count": null,
      "_view_module": "@jupyter-widgets/base",
      "_view_module_version": "1.2.0",
      "_view_name": "StyleView",
      "bar_color": null,
      "description_width": ""
     }
    },
    "78f9afb5842a483997460b8387791399": {
     "model_module": "@jupyter-widgets/base",
     "model_module_version": "1.2.0",
     "model_name": "LayoutModel",
     "state": {
      "_model_module": "@jupyter-widgets/base",
      "_model_module_version": "1.2.0",
      "_model_name": "LayoutModel",
      "_view_count": null,
      "_view_module": "@jupyter-widgets/base",
      "_view_module_version": "1.2.0",
      "_view_name": "LayoutView",
      "align_content": null,
      "align_items": null,
      "align_self": null,
      "border": null,
      "bottom": null,
      "display": null,
      "flex": null,
      "flex_flow": null,
      "grid_area": null,
      "grid_auto_columns": null,
      "grid_auto_flow": null,
      "grid_auto_rows": null,
      "grid_column": null,
      "grid_gap": null,
      "grid_row": null,
      "grid_template_areas": null,
      "grid_template_columns": null,
      "grid_template_rows": null,
      "height": null,
      "justify_content": null,
      "justify_items": null,
      "left": null,
      "margin": null,
      "max_height": null,
      "max_width": null,
      "min_height": null,
      "min_width": null,
      "object_fit": null,
      "object_position": null,
      "order": null,
      "overflow": null,
      "overflow_x": null,
      "overflow_y": null,
      "padding": null,
      "right": null,
      "top": null,
      "visibility": null,
      "width": null
     }
    },
    "7a7e07f534dd45d9832fc041f4cda256": {
     "model_module": "@jupyter-widgets/controls",
     "model_module_version": "1.5.0",
     "model_name": "DescriptionStyleModel",
     "state": {
      "_model_module": "@jupyter-widgets/controls",
      "_model_module_version": "1.5.0",
      "_model_name": "DescriptionStyleModel",
      "_view_count": null,
      "_view_module": "@jupyter-widgets/base",
      "_view_module_version": "1.2.0",
      "_view_name": "StyleView",
      "description_width": ""
     }
    },
    "7af5607c50c9422ebf21724334c29c80": {
     "model_module": "@jupyter-widgets/controls",
     "model_module_version": "1.5.0",
     "model_name": "HTMLModel",
     "state": {
      "_dom_classes": [],
      "_model_module": "@jupyter-widgets/controls",
      "_model_module_version": "1.5.0",
      "_model_name": "HTMLModel",
      "_view_count": null,
      "_view_module": "@jupyter-widgets/controls",
      "_view_module_version": "1.5.0",
      "_view_name": "HTMLView",
      "description": "",
      "description_tooltip": null,
      "layout": "IPY_MODEL_b4623b98a9cf414fba88c55a985bcc1a",
      "placeholder": "​",
      "style": "IPY_MODEL_98a1f236612a4f1a93296b886068fb3d",
      "value": " 2/2 [00:00&lt;00:00, 67.83it/s]"
     }
    },
    "7c0a53c877c140daa475407729ab4159": {
     "model_module": "@jupyter-widgets/base",
     "model_module_version": "1.2.0",
     "model_name": "LayoutModel",
     "state": {
      "_model_module": "@jupyter-widgets/base",
      "_model_module_version": "1.2.0",
      "_model_name": "LayoutModel",
      "_view_count": null,
      "_view_module": "@jupyter-widgets/base",
      "_view_module_version": "1.2.0",
      "_view_name": "LayoutView",
      "align_content": null,
      "align_items": null,
      "align_self": null,
      "border": null,
      "bottom": null,
      "display": null,
      "flex": null,
      "flex_flow": null,
      "grid_area": null,
      "grid_auto_columns": null,
      "grid_auto_flow": null,
      "grid_auto_rows": null,
      "grid_column": null,
      "grid_gap": null,
      "grid_row": null,
      "grid_template_areas": null,
      "grid_template_columns": null,
      "grid_template_rows": null,
      "height": null,
      "justify_content": null,
      "justify_items": null,
      "left": null,
      "margin": null,
      "max_height": null,
      "max_width": null,
      "min_height": null,
      "min_width": null,
      "object_fit": null,
      "object_position": null,
      "order": null,
      "overflow": null,
      "overflow_x": null,
      "overflow_y": null,
      "padding": null,
      "right": null,
      "top": null,
      "visibility": null,
      "width": null
     }
    },
    "852e342f725a47bb80aec595a0c26570": {
     "model_module": "@jupyter-widgets/controls",
     "model_module_version": "1.5.0",
     "model_name": "HTMLModel",
     "state": {
      "_dom_classes": [],
      "_model_module": "@jupyter-widgets/controls",
      "_model_module_version": "1.5.0",
      "_model_name": "HTMLModel",
      "_view_count": null,
      "_view_module": "@jupyter-widgets/controls",
      "_view_module_version": "1.5.0",
      "_view_name": "HTMLView",
      "description": "",
      "description_tooltip": null,
      "layout": "IPY_MODEL_6c18ac88cfde49aa8637ce3946ee15e8",
      "placeholder": "​",
      "style": "IPY_MODEL_7a7e07f534dd45d9832fc041f4cda256",
      "value": "Extracting data files: 100%"
     }
    },
    "86f019fa16a44f6798e80eb15eaeafd1": {
     "model_module": "@jupyter-widgets/controls",
     "model_module_version": "1.5.0",
     "model_name": "FloatProgressModel",
     "state": {
      "_dom_classes": [],
      "_model_module": "@jupyter-widgets/controls",
      "_model_module_version": "1.5.0",
      "_model_name": "FloatProgressModel",
      "_view_count": null,
      "_view_module": "@jupyter-widgets/controls",
      "_view_module_version": "1.5.0",
      "_view_name": "ProgressView",
      "bar_style": "info",
      "description": "",
      "description_tooltip": null,
      "layout": "IPY_MODEL_92753da3e2ec420c8387eb7a6a867af7",
      "max": 1,
      "min": 0,
      "orientation": "horizontal",
      "style": "IPY_MODEL_d86fef8236e3456f8b90aa1a4c424039",
      "value": 1
     }
    },
    "87e10c9576ac43b59a6626bf41896a43": {
     "model_module": "@jupyter-widgets/controls",
     "model_module_version": "1.5.0",
     "model_name": "HTMLModel",
     "state": {
      "_dom_classes": [],
      "_model_module": "@jupyter-widgets/controls",
      "_model_module_version": "1.5.0",
      "_model_name": "HTMLModel",
      "_view_count": null,
      "_view_module": "@jupyter-widgets/controls",
      "_view_module_version": "1.5.0",
      "_view_name": "HTMLView",
      "description": "",
      "description_tooltip": null,
      "layout": "IPY_MODEL_e9dc06fdf11e47ee815592ae5571bed4",
      "placeholder": "​",
      "style": "IPY_MODEL_137c4c6ab50d4c07b9aec81e42d7a529",
      "value": "Generating test split: "
     }
    },
    "880d0af798c5468aaebf8c3dab2d5986": {
     "model_module": "@jupyter-widgets/controls",
     "model_module_version": "1.5.0",
     "model_name": "DescriptionStyleModel",
     "state": {
      "_model_module": "@jupyter-widgets/controls",
      "_model_module_version": "1.5.0",
      "_model_name": "DescriptionStyleModel",
      "_view_count": null,
      "_view_module": "@jupyter-widgets/base",
      "_view_module_version": "1.2.0",
      "_view_name": "StyleView",
      "description_width": ""
     }
    },
    "8afbc8dd3f4c4501be71bf116d23dda2": {
     "model_module": "@jupyter-widgets/controls",
     "model_module_version": "1.5.0",
     "model_name": "HTMLModel",
     "state": {
      "_dom_classes": [],
      "_model_module": "@jupyter-widgets/controls",
      "_model_module_version": "1.5.0",
      "_model_name": "HTMLModel",
      "_view_count": null,
      "_view_module": "@jupyter-widgets/controls",
      "_view_module_version": "1.5.0",
      "_view_name": "HTMLView",
      "description": "",
      "description_tooltip": null,
      "layout": "IPY_MODEL_f839b0449f99423e85f974e5c6da4e88",
      "placeholder": "​",
      "style": "IPY_MODEL_7523818f7ef54e2f9519e166e59a30ba",
      "value": "Downloading data: 100%"
     }
    },
    "8bbee7d490634387b3d4cdb0344d3027": {
     "model_module": "@jupyter-widgets/controls",
     "model_module_version": "1.5.0",
     "model_name": "ProgressStyleModel",
     "state": {
      "_model_module": "@jupyter-widgets/controls",
      "_model_module_version": "1.5.0",
      "_model_name": "ProgressStyleModel",
      "_view_count": null,
      "_view_module": "@jupyter-widgets/base",
      "_view_module_version": "1.2.0",
      "_view_name": "StyleView",
      "bar_color": null,
      "description_width": ""
     }
    },
    "8ceec0f227cc4c3caa4d6a3c052a17c7": {
     "model_module": "@jupyter-widgets/controls",
     "model_module_version": "1.5.0",
     "model_name": "HBoxModel",
     "state": {
      "_dom_classes": [],
      "_model_module": "@jupyter-widgets/controls",
      "_model_module_version": "1.5.0",
      "_model_name": "HBoxModel",
      "_view_count": null,
      "_view_module": "@jupyter-widgets/controls",
      "_view_module_version": "1.5.0",
      "_view_name": "HBoxView",
      "box_style": "",
      "children": [
       "IPY_MODEL_87e10c9576ac43b59a6626bf41896a43",
       "IPY_MODEL_c0bca0e7d5f4456d87382a8dbbeae8cc",
       "IPY_MODEL_e975ecc6c0cd438a890a400f6e0764ad"
      ],
      "layout": "IPY_MODEL_3b282fa63d6f4ace8722ec3907295b7b"
     }
    },
    "90710a10fe4e4b1da6c619178bdec5a1": {
     "model_module": "@jupyter-widgets/controls",
     "model_module_version": "1.5.0",
     "model_name": "ProgressStyleModel",
     "state": {
      "_model_module": "@jupyter-widgets/controls",
      "_model_module_version": "1.5.0",
      "_model_name": "ProgressStyleModel",
      "_view_count": null,
      "_view_module": "@jupyter-widgets/base",
      "_view_module_version": "1.2.0",
      "_view_name": "StyleView",
      "bar_color": null,
      "description_width": ""
     }
    },
    "90bda2821d354fe8a335e06044eadeca": {
     "model_module": "@jupyter-widgets/controls",
     "model_module_version": "1.5.0",
     "model_name": "FloatProgressModel",
     "state": {
      "_dom_classes": [],
      "_model_module": "@jupyter-widgets/controls",
      "_model_module_version": "1.5.0",
      "_model_name": "FloatProgressModel",
      "_view_count": null,
      "_view_module": "@jupyter-widgets/controls",
      "_view_module_version": "1.5.0",
      "_view_name": "ProgressView",
      "bar_style": "success",
      "description": "",
      "description_tooltip": null,
      "layout": "IPY_MODEL_323787e3ec9d4d48bbe3104b896f719a",
      "max": 4902,
      "min": 0,
      "orientation": "horizontal",
      "style": "IPY_MODEL_0e9bbbcc103f46139b1e2df6f2777212",
      "value": 4902
     }
    },
    "916d6f49f4ba4ce4b937df355bf41fe2": {
     "model_module": "@jupyter-widgets/controls",
     "model_module_version": "1.5.0",
     "model_name": "HTMLModel",
     "state": {
      "_dom_classes": [],
      "_model_module": "@jupyter-widgets/controls",
      "_model_module_version": "1.5.0",
      "_model_name": "HTMLModel",
      "_view_count": null,
      "_view_module": "@jupyter-widgets/controls",
      "_view_module_version": "1.5.0",
      "_view_name": "HTMLView",
      "description": "",
      "description_tooltip": null,
      "layout": "IPY_MODEL_45ea419a27a5441486a14745babcf1f5",
      "placeholder": "​",
      "style": "IPY_MODEL_59b840e727fa4bbfa126f5a370d1ff6c",
      "value": " 411k/411k [00:00&lt;00:00, 6.91MB/s]"
     }
    },
    "91f68b8f54b9496083bd8c40334c3dfd": {
     "model_module": "@jupyter-widgets/controls",
     "model_module_version": "1.5.0",
     "model_name": "HTMLModel",
     "state": {
      "_dom_classes": [],
      "_model_module": "@jupyter-widgets/controls",
      "_model_module_version": "1.5.0",
      "_model_name": "HTMLModel",
      "_view_count": null,
      "_view_module": "@jupyter-widgets/controls",
      "_view_module_version": "1.5.0",
      "_view_name": "HTMLView",
      "description": "",
      "description_tooltip": null,
      "layout": "IPY_MODEL_78f9afb5842a483997460b8387791399",
      "placeholder": "​",
      "style": "IPY_MODEL_607e31821e0f43269ec2822cab858666",
      "value": "Downloading data files: 100%"
     }
    },
    "92753da3e2ec420c8387eb7a6a867af7": {
     "model_module": "@jupyter-widgets/base",
     "model_module_version": "1.2.0",
     "model_name": "LayoutModel",
     "state": {
      "_model_module": "@jupyter-widgets/base",
      "_model_module_version": "1.2.0",
      "_model_name": "LayoutModel",
      "_view_count": null,
      "_view_module": "@jupyter-widgets/base",
      "_view_module_version": "1.2.0",
      "_view_name": "LayoutView",
      "align_content": null,
      "align_items": null,
      "align_self": null,
      "border": null,
      "bottom": null,
      "display": null,
      "flex": null,
      "flex_flow": null,
      "grid_area": null,
      "grid_auto_columns": null,
      "grid_auto_flow": null,
      "grid_auto_rows": null,
      "grid_column": null,
      "grid_gap": null,
      "grid_row": null,
      "grid_template_areas": null,
      "grid_template_columns": null,
      "grid_template_rows": null,
      "height": null,
      "justify_content": null,
      "justify_items": null,
      "left": null,
      "margin": null,
      "max_height": null,
      "max_width": null,
      "min_height": null,
      "min_width": null,
      "object_fit": null,
      "object_position": null,
      "order": null,
      "overflow": null,
      "overflow_x": null,
      "overflow_y": null,
      "padding": null,
      "right": null,
      "top": null,
      "visibility": null,
      "width": "20px"
     }
    },
    "93361ba6ba044d56a6e9690abc338b95": {
     "model_module": "@jupyter-widgets/controls",
     "model_module_version": "1.5.0",
     "model_name": "HTMLModel",
     "state": {
      "_dom_classes": [],
      "_model_module": "@jupyter-widgets/controls",
      "_model_module_version": "1.5.0",
      "_model_name": "HTMLModel",
      "_view_count": null,
      "_view_module": "@jupyter-widgets/controls",
      "_view_module_version": "1.5.0",
      "_view_name": "HTMLView",
      "description": "",
      "description_tooltip": null,
      "layout": "IPY_MODEL_9c0ca556c5ad4954bd1b42f259861dc9",
      "placeholder": "​",
      "style": "IPY_MODEL_a4679335c64a4b6eacbae7001cb728c3",
      "value": " 423k/423k [00:00&lt;00:00, 5.68MB/s]"
     }
    },
    "948781a8f12b4dc2a9f8d0e4cf2669ed": {
     "model_module": "@jupyter-widgets/base",
     "model_module_version": "1.2.0",
     "model_name": "LayoutModel",
     "state": {
      "_model_module": "@jupyter-widgets/base",
      "_model_module_version": "1.2.0",
      "_model_name": "LayoutModel",
      "_view_count": null,
      "_view_module": "@jupyter-widgets/base",
      "_view_module_version": "1.2.0",
      "_view_name": "LayoutView",
      "align_content": null,
      "align_items": null,
      "align_self": null,
      "border": null,
      "bottom": null,
      "display": null,
      "flex": null,
      "flex_flow": null,
      "grid_area": null,
      "grid_auto_columns": null,
      "grid_auto_flow": null,
      "grid_auto_rows": null,
      "grid_column": null,
      "grid_gap": null,
      "grid_row": null,
      "grid_template_areas": null,
      "grid_template_columns": null,
      "grid_template_rows": null,
      "height": null,
      "justify_content": null,
      "justify_items": null,
      "left": null,
      "margin": null,
      "max_height": null,
      "max_width": null,
      "min_height": null,
      "min_width": null,
      "object_fit": null,
      "object_position": null,
      "order": null,
      "overflow": null,
      "overflow_x": null,
      "overflow_y": null,
      "padding": null,
      "right": null,
      "top": null,
      "visibility": null,
      "width": null
     }
    },
    "958f8fbdb0074c269c0d3a9204161054": {
     "model_module": "@jupyter-widgets/base",
     "model_module_version": "1.2.0",
     "model_name": "LayoutModel",
     "state": {
      "_model_module": "@jupyter-widgets/base",
      "_model_module_version": "1.2.0",
      "_model_name": "LayoutModel",
      "_view_count": null,
      "_view_module": "@jupyter-widgets/base",
      "_view_module_version": "1.2.0",
      "_view_name": "LayoutView",
      "align_content": null,
      "align_items": null,
      "align_self": null,
      "border": null,
      "bottom": null,
      "display": null,
      "flex": null,
      "flex_flow": null,
      "grid_area": null,
      "grid_auto_columns": null,
      "grid_auto_flow": null,
      "grid_auto_rows": null,
      "grid_column": null,
      "grid_gap": null,
      "grid_row": null,
      "grid_template_areas": null,
      "grid_template_columns": null,
      "grid_template_rows": null,
      "height": null,
      "justify_content": null,
      "justify_items": null,
      "left": null,
      "margin": null,
      "max_height": null,
      "max_width": null,
      "min_height": null,
      "min_width": null,
      "object_fit": null,
      "object_position": null,
      "order": null,
      "overflow": null,
      "overflow_x": null,
      "overflow_y": null,
      "padding": null,
      "right": null,
      "top": null,
      "visibility": null,
      "width": null
     }
    },
    "98a1f236612a4f1a93296b886068fb3d": {
     "model_module": "@jupyter-widgets/controls",
     "model_module_version": "1.5.0",
     "model_name": "DescriptionStyleModel",
     "state": {
      "_model_module": "@jupyter-widgets/controls",
      "_model_module_version": "1.5.0",
      "_model_name": "DescriptionStyleModel",
      "_view_count": null,
      "_view_module": "@jupyter-widgets/base",
      "_view_module_version": "1.2.0",
      "_view_name": "StyleView",
      "description_width": ""
     }
    },
    "9a60209ff2d84d8bac54de2ee5567fad": {
     "model_module": "@jupyter-widgets/base",
     "model_module_version": "1.2.0",
     "model_name": "LayoutModel",
     "state": {
      "_model_module": "@jupyter-widgets/base",
      "_model_module_version": "1.2.0",
      "_model_name": "LayoutModel",
      "_view_count": null,
      "_view_module": "@jupyter-widgets/base",
      "_view_module_version": "1.2.0",
      "_view_name": "LayoutView",
      "align_content": null,
      "align_items": null,
      "align_self": null,
      "border": null,
      "bottom": null,
      "display": null,
      "flex": null,
      "flex_flow": null,
      "grid_area": null,
      "grid_auto_columns": null,
      "grid_auto_flow": null,
      "grid_auto_rows": null,
      "grid_column": null,
      "grid_gap": null,
      "grid_row": null,
      "grid_template_areas": null,
      "grid_template_columns": null,
      "grid_template_rows": null,
      "height": null,
      "justify_content": null,
      "justify_items": null,
      "left": null,
      "margin": null,
      "max_height": null,
      "max_width": null,
      "min_height": null,
      "min_width": null,
      "object_fit": null,
      "object_position": null,
      "order": null,
      "overflow": null,
      "overflow_x": null,
      "overflow_y": null,
      "padding": null,
      "right": null,
      "top": null,
      "visibility": null,
      "width": null
     }
    },
    "9c0ca556c5ad4954bd1b42f259861dc9": {
     "model_module": "@jupyter-widgets/base",
     "model_module_version": "1.2.0",
     "model_name": "LayoutModel",
     "state": {
      "_model_module": "@jupyter-widgets/base",
      "_model_module_version": "1.2.0",
      "_model_name": "LayoutModel",
      "_view_count": null,
      "_view_module": "@jupyter-widgets/base",
      "_view_module_version": "1.2.0",
      "_view_name": "LayoutView",
      "align_content": null,
      "align_items": null,
      "align_self": null,
      "border": null,
      "bottom": null,
      "display": null,
      "flex": null,
      "flex_flow": null,
      "grid_area": null,
      "grid_auto_columns": null,
      "grid_auto_flow": null,
      "grid_auto_rows": null,
      "grid_column": null,
      "grid_gap": null,
      "grid_row": null,
      "grid_template_areas": null,
      "grid_template_columns": null,
      "grid_template_rows": null,
      "height": null,
      "justify_content": null,
      "justify_items": null,
      "left": null,
      "margin": null,
      "max_height": null,
      "max_width": null,
      "min_height": null,
      "min_width": null,
      "object_fit": null,
      "object_position": null,
      "order": null,
      "overflow": null,
      "overflow_x": null,
      "overflow_y": null,
      "padding": null,
      "right": null,
      "top": null,
      "visibility": null,
      "width": null
     }
    },
    "9c5d9bd91ba5468eaac1d30ddfad7fe6": {
     "model_module": "@jupyter-widgets/controls",
     "model_module_version": "1.5.0",
     "model_name": "DescriptionStyleModel",
     "state": {
      "_model_module": "@jupyter-widgets/controls",
      "_model_module_version": "1.5.0",
      "_model_name": "DescriptionStyleModel",
      "_view_count": null,
      "_view_module": "@jupyter-widgets/base",
      "_view_module_version": "1.2.0",
      "_view_name": "StyleView",
      "description_width": ""
     }
    },
    "9c5dd396d0f94f7fbe81827a89d592c2": {
     "model_module": "@jupyter-widgets/controls",
     "model_module_version": "1.5.0",
     "model_name": "HTMLModel",
     "state": {
      "_dom_classes": [],
      "_model_module": "@jupyter-widgets/controls",
      "_model_module_version": "1.5.0",
      "_model_name": "HTMLModel",
      "_view_count": null,
      "_view_module": "@jupyter-widgets/controls",
      "_view_module_version": "1.5.0",
      "_view_name": "HTMLView",
      "description": "",
      "description_tooltip": null,
      "layout": "IPY_MODEL_e9349032ced54a86980a068c538b6380",
      "placeholder": "​",
      "style": "IPY_MODEL_1ed07144cd264112882f04dd7b24f32b",
      "value": " 30.3M/30.3M [00:00&lt;00:00, 44.6MB/s]"
     }
    },
    "9d54d98910a24b438fad79aec4524f23": {
     "model_module": "@jupyter-widgets/controls",
     "model_module_version": "1.5.0",
     "model_name": "FloatProgressModel",
     "state": {
      "_dom_classes": [],
      "_model_module": "@jupyter-widgets/controls",
      "_model_module_version": "1.5.0",
      "_model_name": "FloatProgressModel",
      "_view_count": null,
      "_view_module": "@jupyter-widgets/controls",
      "_view_module_version": "1.5.0",
      "_view_name": "ProgressView",
      "bar_style": "success",
      "description": "",
      "description_tooltip": null,
      "layout": "IPY_MODEL_6e90ba82841948a7a0229a1badfad497",
      "max": 1247142,
      "min": 0,
      "orientation": "horizontal",
      "style": "IPY_MODEL_aeed8330702b4bb885c9d68c5ed0a0ad",
      "value": 1247142
     }
    },
    "9d6fc164c94a4cf09ef6c9200e7c6fdd": {
     "model_module": "@jupyter-widgets/controls",
     "model_module_version": "1.5.0",
     "model_name": "ProgressStyleModel",
     "state": {
      "_model_module": "@jupyter-widgets/controls",
      "_model_module_version": "1.5.0",
      "_model_name": "ProgressStyleModel",
      "_view_count": null,
      "_view_module": "@jupyter-widgets/base",
      "_view_module_version": "1.2.0",
      "_view_name": "StyleView",
      "bar_color": null,
      "description_width": ""
     }
    },
    "9e7bb69f81194418a2f4e8a4799f0f61": {
     "model_module": "@jupyter-widgets/base",
     "model_module_version": "1.2.0",
     "model_name": "LayoutModel",
     "state": {
      "_model_module": "@jupyter-widgets/base",
      "_model_module_version": "1.2.0",
      "_model_name": "LayoutModel",
      "_view_count": null,
      "_view_module": "@jupyter-widgets/base",
      "_view_module_version": "1.2.0",
      "_view_name": "LayoutView",
      "align_content": null,
      "align_items": null,
      "align_self": null,
      "border": null,
      "bottom": null,
      "display": null,
      "flex": null,
      "flex_flow": null,
      "grid_area": null,
      "grid_auto_columns": null,
      "grid_auto_flow": null,
      "grid_auto_rows": null,
      "grid_column": null,
      "grid_gap": null,
      "grid_row": null,
      "grid_template_areas": null,
      "grid_template_columns": null,
      "grid_template_rows": null,
      "height": null,
      "justify_content": null,
      "justify_items": null,
      "left": null,
      "margin": null,
      "max_height": null,
      "max_width": null,
      "min_height": null,
      "min_width": null,
      "object_fit": null,
      "object_position": null,
      "order": null,
      "overflow": null,
      "overflow_x": null,
      "overflow_y": null,
      "padding": null,
      "right": null,
      "top": null,
      "visibility": null,
      "width": null
     }
    },
    "9fe762d851704f12bcc01edfb082a1b1": {
     "model_module": "@jupyter-widgets/base",
     "model_module_version": "1.2.0",
     "model_name": "LayoutModel",
     "state": {
      "_model_module": "@jupyter-widgets/base",
      "_model_module_version": "1.2.0",
      "_model_name": "LayoutModel",
      "_view_count": null,
      "_view_module": "@jupyter-widgets/base",
      "_view_module_version": "1.2.0",
      "_view_name": "LayoutView",
      "align_content": null,
      "align_items": null,
      "align_self": null,
      "border": null,
      "bottom": null,
      "display": null,
      "flex": null,
      "flex_flow": null,
      "grid_area": null,
      "grid_auto_columns": null,
      "grid_auto_flow": null,
      "grid_auto_rows": null,
      "grid_column": null,
      "grid_gap": null,
      "grid_row": null,
      "grid_template_areas": null,
      "grid_template_columns": null,
      "grid_template_rows": null,
      "height": null,
      "justify_content": null,
      "justify_items": null,
      "left": null,
      "margin": null,
      "max_height": null,
      "max_width": null,
      "min_height": null,
      "min_width": null,
      "object_fit": null,
      "object_position": null,
      "order": null,
      "overflow": null,
      "overflow_x": null,
      "overflow_y": null,
      "padding": null,
      "right": null,
      "top": null,
      "visibility": null,
      "width": null
     }
    },
    "a4679335c64a4b6eacbae7001cb728c3": {
     "model_module": "@jupyter-widgets/controls",
     "model_module_version": "1.5.0",
     "model_name": "DescriptionStyleModel",
     "state": {
      "_model_module": "@jupyter-widgets/controls",
      "_model_module_version": "1.5.0",
      "_model_name": "DescriptionStyleModel",
      "_view_count": null,
      "_view_module": "@jupyter-widgets/base",
      "_view_module_version": "1.2.0",
      "_view_name": "StyleView",
      "description_width": ""
     }
    },
    "a7e26e6825a94cd48a7f13a38525252b": {
     "model_module": "@jupyter-widgets/controls",
     "model_module_version": "1.5.0",
     "model_name": "HBoxModel",
     "state": {
      "_dom_classes": [],
      "_model_module": "@jupyter-widgets/controls",
      "_model_module_version": "1.5.0",
      "_model_name": "HBoxModel",
      "_view_count": null,
      "_view_module": "@jupyter-widgets/controls",
      "_view_module_version": "1.5.0",
      "_view_name": "HBoxView",
      "box_style": "",
      "children": [
       "IPY_MODEL_ff76c001625a4df7aa2a8dcb303d6c2b",
       "IPY_MODEL_90bda2821d354fe8a335e06044eadeca",
       "IPY_MODEL_167136f2a11043018cc6e1ad6890c875"
      ],
      "layout": "IPY_MODEL_f4620093682d4f939530fc47bd8de529"
     }
    },
    "a8727573f47244b8afa96ba0e211c605": {
     "model_module": "@jupyter-widgets/controls",
     "model_module_version": "1.5.0",
     "model_name": "HTMLModel",
     "state": {
      "_dom_classes": [],
      "_model_module": "@jupyter-widgets/controls",
      "_model_module_version": "1.5.0",
      "_model_name": "HTMLModel",
      "_view_count": null,
      "_view_module": "@jupyter-widgets/controls",
      "_view_module_version": "1.5.0",
      "_view_name": "HTMLView",
      "description": "",
      "description_tooltip": null,
      "layout": "IPY_MODEL_52262c3b8c95468f8e2568f06acbe750",
      "placeholder": "​",
      "style": "IPY_MODEL_4acd8bba24ff4eb8801c36e448bb1b48",
      "value": "Downloading metadata: 100%"
     }
    },
    "ab41f6cbddb241818ddea236d96aa179": {
     "model_module": "@jupyter-widgets/controls",
     "model_module_version": "1.5.0",
     "model_name": "FloatProgressModel",
     "state": {
      "_dom_classes": [],
      "_model_module": "@jupyter-widgets/controls",
      "_model_module_version": "1.5.0",
      "_model_name": "FloatProgressModel",
      "_view_count": null,
      "_view_module": "@jupyter-widgets/controls",
      "_view_module_version": "1.5.0",
      "_view_name": "ProgressView",
      "bar_style": "success",
      "description": "",
      "description_tooltip": null,
      "layout": "IPY_MODEL_6fdd472ebe8d4b948a35025353c51a1c",
      "max": 495,
      "min": 0,
      "orientation": "horizontal",
      "style": "IPY_MODEL_5653ac904e1143998790e3bb37f06fd9",
      "value": 495
     }
    },
    "ab9b45836cd14917979130a84ca5a8ce": {
     "model_module": "@jupyter-widgets/controls",
     "model_module_version": "1.5.0",
     "model_name": "HTMLModel",
     "state": {
      "_dom_classes": [],
      "_model_module": "@jupyter-widgets/controls",
      "_model_module_version": "1.5.0",
      "_model_name": "HTMLModel",
      "_view_count": null,
      "_view_module": "@jupyter-widgets/controls",
      "_view_module_version": "1.5.0",
      "_view_name": "HTMLView",
      "description": "",
      "description_tooltip": null,
      "layout": "IPY_MODEL_b8a65b51871a41b387c923bde286d727",
      "placeholder": "​",
      "style": "IPY_MODEL_0fd788394a1c49ffb04dcf0589f5b5ad",
      "value": "Downloading readme: 100%"
     }
    },
    "ad0bf3ce237e4401aa536eba37c7306a": {
     "model_module": "@jupyter-widgets/controls",
     "model_module_version": "1.5.0",
     "model_name": "DescriptionStyleModel",
     "state": {
      "_model_module": "@jupyter-widgets/controls",
      "_model_module_version": "1.5.0",
      "_model_name": "DescriptionStyleModel",
      "_view_count": null,
      "_view_module": "@jupyter-widgets/base",
      "_view_module_version": "1.2.0",
      "_view_name": "StyleView",
      "description_width": ""
     }
    },
    "aeed8330702b4bb885c9d68c5ed0a0ad": {
     "model_module": "@jupyter-widgets/controls",
     "model_module_version": "1.5.0",
     "model_name": "ProgressStyleModel",
     "state": {
      "_model_module": "@jupyter-widgets/controls",
      "_model_module_version": "1.5.0",
      "_model_name": "ProgressStyleModel",
      "_view_count": null,
      "_view_module": "@jupyter-widgets/base",
      "_view_module_version": "1.2.0",
      "_view_name": "StyleView",
      "bar_color": null,
      "description_width": ""
     }
    },
    "b0166acfc8ea4a5ca81ac33eca0a8c63": {
     "model_module": "@jupyter-widgets/controls",
     "model_module_version": "1.5.0",
     "model_name": "ProgressStyleModel",
     "state": {
      "_model_module": "@jupyter-widgets/controls",
      "_model_module_version": "1.5.0",
      "_model_name": "ProgressStyleModel",
      "_view_count": null,
      "_view_module": "@jupyter-widgets/base",
      "_view_module_version": "1.2.0",
      "_view_name": "StyleView",
      "bar_color": null,
      "description_width": ""
     }
    },
    "b4623b98a9cf414fba88c55a985bcc1a": {
     "model_module": "@jupyter-widgets/base",
     "model_module_version": "1.2.0",
     "model_name": "LayoutModel",
     "state": {
      "_model_module": "@jupyter-widgets/base",
      "_model_module_version": "1.2.0",
      "_model_name": "LayoutModel",
      "_view_count": null,
      "_view_module": "@jupyter-widgets/base",
      "_view_module_version": "1.2.0",
      "_view_name": "LayoutView",
      "align_content": null,
      "align_items": null,
      "align_self": null,
      "border": null,
      "bottom": null,
      "display": null,
      "flex": null,
      "flex_flow": null,
      "grid_area": null,
      "grid_auto_columns": null,
      "grid_auto_flow": null,
      "grid_auto_rows": null,
      "grid_column": null,
      "grid_gap": null,
      "grid_row": null,
      "grid_template_areas": null,
      "grid_template_columns": null,
      "grid_template_rows": null,
      "height": null,
      "justify_content": null,
      "justify_items": null,
      "left": null,
      "margin": null,
      "max_height": null,
      "max_width": null,
      "min_height": null,
      "min_width": null,
      "object_fit": null,
      "object_position": null,
      "order": null,
      "overflow": null,
      "overflow_x": null,
      "overflow_y": null,
      "padding": null,
      "right": null,
      "top": null,
      "visibility": null,
      "width": null
     }
    },
    "b5c0f7f04137426e87cd07606bbbc254": {
     "model_module": "@jupyter-widgets/controls",
     "model_module_version": "1.5.0",
     "model_name": "ProgressStyleModel",
     "state": {
      "_model_module": "@jupyter-widgets/controls",
      "_model_module_version": "1.5.0",
      "_model_name": "ProgressStyleModel",
      "_view_count": null,
      "_view_module": "@jupyter-widgets/base",
      "_view_module_version": "1.2.0",
      "_view_name": "StyleView",
      "bar_color": null,
      "description_width": ""
     }
    },
    "b6bf4952c31a48b2acf8d6da41238cff": {
     "model_module": "@jupyter-widgets/controls",
     "model_module_version": "1.5.0",
     "model_name": "HTMLModel",
     "state": {
      "_dom_classes": [],
      "_model_module": "@jupyter-widgets/controls",
      "_model_module_version": "1.5.0",
      "_model_name": "HTMLModel",
      "_view_count": null,
      "_view_module": "@jupyter-widgets/controls",
      "_view_module_version": "1.5.0",
      "_view_name": "HTMLView",
      "description": "",
      "description_tooltip": null,
      "layout": "IPY_MODEL_524d556f942f48de908d40f5aa7c2102",
      "placeholder": "​",
      "style": "IPY_MODEL_33004516d92f4c26a3f2f99bbd458f2b",
      "value": "Generating validation split: "
     }
    },
    "b8a65b51871a41b387c923bde286d727": {
     "model_module": "@jupyter-widgets/base",
     "model_module_version": "1.2.0",
     "model_name": "LayoutModel",
     "state": {
      "_model_module": "@jupyter-widgets/base",
      "_model_module_version": "1.2.0",
      "_model_name": "LayoutModel",
      "_view_count": null,
      "_view_module": "@jupyter-widgets/base",
      "_view_module_version": "1.2.0",
      "_view_name": "LayoutView",
      "align_content": null,
      "align_items": null,
      "align_self": null,
      "border": null,
      "bottom": null,
      "display": null,
      "flex": null,
      "flex_flow": null,
      "grid_area": null,
      "grid_auto_columns": null,
      "grid_auto_flow": null,
      "grid_auto_rows": null,
      "grid_column": null,
      "grid_gap": null,
      "grid_row": null,
      "grid_template_areas": null,
      "grid_template_columns": null,
      "grid_template_rows": null,
      "height": null,
      "justify_content": null,
      "justify_items": null,
      "left": null,
      "margin": null,
      "max_height": null,
      "max_width": null,
      "min_height": null,
      "min_width": null,
      "object_fit": null,
      "object_position": null,
      "order": null,
      "overflow": null,
      "overflow_x": null,
      "overflow_y": null,
      "padding": null,
      "right": null,
      "top": null,
      "visibility": null,
      "width": null
     }
    },
    "bbf42664eb05460ea681f93a8d51838b": {
     "model_module": "@jupyter-widgets/controls",
     "model_module_version": "1.5.0",
     "model_name": "HBoxModel",
     "state": {
      "_dom_classes": [],
      "_model_module": "@jupyter-widgets/controls",
      "_model_module_version": "1.5.0",
      "_model_name": "HBoxModel",
      "_view_count": null,
      "_view_module": "@jupyter-widgets/controls",
      "_view_module_version": "1.5.0",
      "_view_name": "HBoxView",
      "box_style": "",
      "children": [
       "IPY_MODEL_d3c9f05d319a4635bd9be9e54c066124",
       "IPY_MODEL_2821ba5d508c4881bdb956eabd206336",
       "IPY_MODEL_7af5607c50c9422ebf21724334c29c80"
      ],
      "layout": "IPY_MODEL_3057553c666644e0a08355df8af89464"
     }
    },
    "bd0c9d510e30462d9aeed17760dd467e": {
     "model_module": "@jupyter-widgets/controls",
     "model_module_version": "1.5.0",
     "model_name": "ProgressStyleModel",
     "state": {
      "_model_module": "@jupyter-widgets/controls",
      "_model_module_version": "1.5.0",
      "_model_name": "ProgressStyleModel",
      "_view_count": null,
      "_view_module": "@jupyter-widgets/base",
      "_view_module_version": "1.2.0",
      "_view_name": "StyleView",
      "bar_color": null,
      "description_width": ""
     }
    },
    "c0bca0e7d5f4456d87382a8dbbeae8cc": {
     "model_module": "@jupyter-widgets/controls",
     "model_module_version": "1.5.0",
     "model_name": "FloatProgressModel",
     "state": {
      "_dom_classes": [],
      "_model_module": "@jupyter-widgets/controls",
      "_model_module_version": "1.5.0",
      "_model_name": "FloatProgressModel",
      "_view_count": null,
      "_view_module": "@jupyter-widgets/controls",
      "_view_module_version": "1.5.0",
      "_view_name": "ProgressView",
      "bar_style": "info",
      "description": "",
      "description_tooltip": null,
      "layout": "IPY_MODEL_5b062b0cb47048648bd6d9479f24db57",
      "max": 1,
      "min": 0,
      "orientation": "horizontal",
      "style": "IPY_MODEL_8bbee7d490634387b3d4cdb0344d3027",
      "value": 1
     }
    },
    "c2f72b5111df499fa54807ff0290e92f": {
     "model_module": "@jupyter-widgets/base",
     "model_module_version": "1.2.0",
     "model_name": "LayoutModel",
     "state": {
      "_model_module": "@jupyter-widgets/base",
      "_model_module_version": "1.2.0",
      "_model_name": "LayoutModel",
      "_view_count": null,
      "_view_module": "@jupyter-widgets/base",
      "_view_module_version": "1.2.0",
      "_view_name": "LayoutView",
      "align_content": null,
      "align_items": null,
      "align_self": null,
      "border": null,
      "bottom": null,
      "display": null,
      "flex": null,
      "flex_flow": null,
      "grid_area": null,
      "grid_auto_columns": null,
      "grid_auto_flow": null,
      "grid_auto_rows": null,
      "grid_column": null,
      "grid_gap": null,
      "grid_row": null,
      "grid_template_areas": null,
      "grid_template_columns": null,
      "grid_template_rows": null,
      "height": null,
      "justify_content": null,
      "justify_items": null,
      "left": null,
      "margin": null,
      "max_height": null,
      "max_width": null,
      "min_height": null,
      "min_width": null,
      "object_fit": null,
      "object_position": null,
      "order": null,
      "overflow": null,
      "overflow_x": null,
      "overflow_y": null,
      "padding": null,
      "right": null,
      "top": null,
      "visibility": null,
      "width": null
     }
    },
    "c3199da7523c4695a9fdfa528bb1f133": {
     "model_module": "@jupyter-widgets/controls",
     "model_module_version": "1.5.0",
     "model_name": "ProgressStyleModel",
     "state": {
      "_model_module": "@jupyter-widgets/controls",
      "_model_module_version": "1.5.0",
      "_model_name": "ProgressStyleModel",
      "_view_count": null,
      "_view_module": "@jupyter-widgets/base",
      "_view_module_version": "1.2.0",
      "_view_name": "StyleView",
      "bar_color": null,
      "description_width": ""
     }
    },
    "c4c88086211b473e95c16e01af4a371e": {
     "model_module": "@jupyter-widgets/controls",
     "model_module_version": "1.5.0",
     "model_name": "HBoxModel",
     "state": {
      "_dom_classes": [],
      "_model_module": "@jupyter-widgets/controls",
      "_model_module_version": "1.5.0",
      "_model_name": "HBoxModel",
      "_view_count": null,
      "_view_module": "@jupyter-widgets/controls",
      "_view_module_version": "1.5.0",
      "_view_name": "HBoxView",
      "box_style": "",
      "children": [
       "IPY_MODEL_598a598e46974d259169feb3bd3f59af",
       "IPY_MODEL_dda69079d24a40fdb7e6ae5e7dda064f",
       "IPY_MODEL_49062416df324f828386e9f93eb41f49"
      ],
      "layout": "IPY_MODEL_19f8b97907484f868673689938c87d10"
     }
    },
    "c7224aba1bdc4183b71076cab29497f2": {
     "model_module": "@jupyter-widgets/base",
     "model_module_version": "1.2.0",
     "model_name": "LayoutModel",
     "state": {
      "_model_module": "@jupyter-widgets/base",
      "_model_module_version": "1.2.0",
      "_model_name": "LayoutModel",
      "_view_count": null,
      "_view_module": "@jupyter-widgets/base",
      "_view_module_version": "1.2.0",
      "_view_name": "LayoutView",
      "align_content": null,
      "align_items": null,
      "align_self": null,
      "border": null,
      "bottom": null,
      "display": null,
      "flex": null,
      "flex_flow": null,
      "grid_area": null,
      "grid_auto_columns": null,
      "grid_auto_flow": null,
      "grid_auto_rows": null,
      "grid_column": null,
      "grid_gap": null,
      "grid_row": null,
      "grid_template_areas": null,
      "grid_template_columns": null,
      "grid_template_rows": null,
      "height": null,
      "justify_content": null,
      "justify_items": null,
      "left": null,
      "margin": null,
      "max_height": null,
      "max_width": null,
      "min_height": null,
      "min_width": null,
      "object_fit": null,
      "object_position": null,
      "order": null,
      "overflow": null,
      "overflow_x": null,
      "overflow_y": null,
      "padding": null,
      "right": null,
      "top": null,
      "visibility": "hidden",
      "width": null
     }
    },
    "cea885e1d3c64657a5e567fcfbcd3639": {
     "model_module": "@jupyter-widgets/controls",
     "model_module_version": "1.5.0",
     "model_name": "HBoxModel",
     "state": {
      "_dom_classes": [],
      "_model_module": "@jupyter-widgets/controls",
      "_model_module_version": "1.5.0",
      "_model_name": "HBoxModel",
      "_view_count": null,
      "_view_module": "@jupyter-widgets/controls",
      "_view_module_version": "1.5.0",
      "_view_name": "HBoxView",
      "box_style": "",
      "children": [
       "IPY_MODEL_8afbc8dd3f4c4501be71bf116d23dda2",
       "IPY_MODEL_9d54d98910a24b438fad79aec4524f23",
       "IPY_MODEL_2a6b8bc2ff5b46aca37022c61aa951fd"
      ],
      "layout": "IPY_MODEL_f2c04a3d9fad4025a17bc43b78769f72"
     }
    },
    "cf59be65a9354587ba2cf5fefcbecf6a": {
     "model_module": "@jupyter-widgets/base",
     "model_module_version": "1.2.0",
     "model_name": "LayoutModel",
     "state": {
      "_model_module": "@jupyter-widgets/base",
      "_model_module_version": "1.2.0",
      "_model_name": "LayoutModel",
      "_view_count": null,
      "_view_module": "@jupyter-widgets/base",
      "_view_module_version": "1.2.0",
      "_view_name": "LayoutView",
      "align_content": null,
      "align_items": null,
      "align_self": null,
      "border": null,
      "bottom": null,
      "display": null,
      "flex": null,
      "flex_flow": null,
      "grid_area": null,
      "grid_auto_columns": null,
      "grid_auto_flow": null,
      "grid_auto_rows": null,
      "grid_column": null,
      "grid_gap": null,
      "grid_row": null,
      "grid_template_areas": null,
      "grid_template_columns": null,
      "grid_template_rows": null,
      "height": null,
      "justify_content": null,
      "justify_items": null,
      "left": null,
      "margin": null,
      "max_height": null,
      "max_width": null,
      "min_height": null,
      "min_width": null,
      "object_fit": null,
      "object_position": null,
      "order": null,
      "overflow": null,
      "overflow_x": null,
      "overflow_y": null,
      "padding": null,
      "right": null,
      "top": null,
      "visibility": "hidden",
      "width": null
     }
    },
    "d0e6cb426d404a73b041c2b23a6496c0": {
     "model_module": "@jupyter-widgets/base",
     "model_module_version": "1.2.0",
     "model_name": "LayoutModel",
     "state": {
      "_model_module": "@jupyter-widgets/base",
      "_model_module_version": "1.2.0",
      "_model_name": "LayoutModel",
      "_view_count": null,
      "_view_module": "@jupyter-widgets/base",
      "_view_module_version": "1.2.0",
      "_view_name": "LayoutView",
      "align_content": null,
      "align_items": null,
      "align_self": null,
      "border": null,
      "bottom": null,
      "display": null,
      "flex": null,
      "flex_flow": null,
      "grid_area": null,
      "grid_auto_columns": null,
      "grid_auto_flow": null,
      "grid_auto_rows": null,
      "grid_column": null,
      "grid_gap": null,
      "grid_row": null,
      "grid_template_areas": null,
      "grid_template_columns": null,
      "grid_template_rows": null,
      "height": null,
      "justify_content": null,
      "justify_items": null,
      "left": null,
      "margin": null,
      "max_height": null,
      "max_width": null,
      "min_height": null,
      "min_width": null,
      "object_fit": null,
      "object_position": null,
      "order": null,
      "overflow": null,
      "overflow_x": null,
      "overflow_y": null,
      "padding": null,
      "right": null,
      "top": null,
      "visibility": null,
      "width": null
     }
    },
    "d1c0935300b048bcbb4f61f39c01f6b9": {
     "model_module": "@jupyter-widgets/base",
     "model_module_version": "1.2.0",
     "model_name": "LayoutModel",
     "state": {
      "_model_module": "@jupyter-widgets/base",
      "_model_module_version": "1.2.0",
      "_model_name": "LayoutModel",
      "_view_count": null,
      "_view_module": "@jupyter-widgets/base",
      "_view_module_version": "1.2.0",
      "_view_name": "LayoutView",
      "align_content": null,
      "align_items": null,
      "align_self": null,
      "border": null,
      "bottom": null,
      "display": null,
      "flex": null,
      "flex_flow": null,
      "grid_area": null,
      "grid_auto_columns": null,
      "grid_auto_flow": null,
      "grid_auto_rows": null,
      "grid_column": null,
      "grid_gap": null,
      "grid_row": null,
      "grid_template_areas": null,
      "grid_template_columns": null,
      "grid_template_rows": null,
      "height": null,
      "justify_content": null,
      "justify_items": null,
      "left": null,
      "margin": null,
      "max_height": null,
      "max_width": null,
      "min_height": null,
      "min_width": null,
      "object_fit": null,
      "object_position": null,
      "order": null,
      "overflow": null,
      "overflow_x": null,
      "overflow_y": null,
      "padding": null,
      "right": null,
      "top": null,
      "visibility": null,
      "width": null
     }
    },
    "d225c5eb63744c83aa5fe99a8787b6ee": {
     "model_module": "@jupyter-widgets/controls",
     "model_module_version": "1.5.0",
     "model_name": "FloatProgressModel",
     "state": {
      "_dom_classes": [],
      "_model_module": "@jupyter-widgets/controls",
      "_model_module_version": "1.5.0",
      "_model_name": "FloatProgressModel",
      "_view_count": null,
      "_view_module": "@jupyter-widgets/controls",
      "_view_module_version": "1.5.0",
      "_view_name": "ProgressView",
      "bar_style": "success",
      "description": "",
      "description_tooltip": null,
      "layout": "IPY_MODEL_4f796bfe388d41a694664fba54824d8f",
      "max": 30338277,
      "min": 0,
      "orientation": "horizontal",
      "style": "IPY_MODEL_c3199da7523c4695a9fdfa528bb1f133",
      "value": 30338277
     }
    },
    "d37464b747d14354a9ac91f3f4cd4155": {
     "model_module": "@jupyter-widgets/base",
     "model_module_version": "1.2.0",
     "model_name": "LayoutModel",
     "state": {
      "_model_module": "@jupyter-widgets/base",
      "_model_module_version": "1.2.0",
      "_model_name": "LayoutModel",
      "_view_count": null,
      "_view_module": "@jupyter-widgets/base",
      "_view_module_version": "1.2.0",
      "_view_name": "LayoutView",
      "align_content": null,
      "align_items": null,
      "align_self": null,
      "border": null,
      "bottom": null,
      "display": null,
      "flex": null,
      "flex_flow": null,
      "grid_area": null,
      "grid_auto_columns": null,
      "grid_auto_flow": null,
      "grid_auto_rows": null,
      "grid_column": null,
      "grid_gap": null,
      "grid_row": null,
      "grid_template_areas": null,
      "grid_template_columns": null,
      "grid_template_rows": null,
      "height": null,
      "justify_content": null,
      "justify_items": null,
      "left": null,
      "margin": null,
      "max_height": null,
      "max_width": null,
      "min_height": null,
      "min_width": null,
      "object_fit": null,
      "object_position": null,
      "order": null,
      "overflow": null,
      "overflow_x": null,
      "overflow_y": null,
      "padding": null,
      "right": null,
      "top": null,
      "visibility": null,
      "width": null
     }
    },
    "d3c9f05d319a4635bd9be9e54c066124": {
     "model_module": "@jupyter-widgets/controls",
     "model_module_version": "1.5.0",
     "model_name": "HTMLModel",
     "state": {
      "_dom_classes": [],
      "_model_module": "@jupyter-widgets/controls",
      "_model_module_version": "1.5.0",
      "_model_name": "HTMLModel",
      "_view_count": null,
      "_view_module": "@jupyter-widgets/controls",
      "_view_module_version": "1.5.0",
      "_view_name": "HTMLView",
      "description": "",
      "description_tooltip": null,
      "layout": "IPY_MODEL_3941be476d444315ab563f88a9a4c0f4",
      "placeholder": "​",
      "style": "IPY_MODEL_9c5d9bd91ba5468eaac1d30ddfad7fe6",
      "value": "100%"
     }
    },
    "d5637abd9b834c809b4ef4266b89fad8": {
     "model_module": "@jupyter-widgets/controls",
     "model_module_version": "1.5.0",
     "model_name": "HTMLModel",
     "state": {
      "_dom_classes": [],
      "_model_module": "@jupyter-widgets/controls",
      "_model_module_version": "1.5.0",
      "_model_name": "HTMLModel",
      "_view_count": null,
      "_view_module": "@jupyter-widgets/controls",
      "_view_module_version": "1.5.0",
      "_view_name": "HTMLView",
      "description": "",
      "description_tooltip": null,
      "layout": "IPY_MODEL_702ca484ee1d41988259d011a126e338",
      "placeholder": "​",
      "style": "IPY_MODEL_3a8d30632e97444daef0510cc0070e3d",
      "value": " 2.22k/2.22k [00:00&lt;00:00, 99.5kB/s]"
     }
    },
    "d68b3464bf274b4f898d29732e94fa1b": {
     "model_module": "@jupyter-widgets/base",
     "model_module_version": "1.2.0",
     "model_name": "LayoutModel",
     "state": {
      "_model_module": "@jupyter-widgets/base",
      "_model_module_version": "1.2.0",
      "_model_name": "LayoutModel",
      "_view_count": null,
      "_view_module": "@jupyter-widgets/base",
      "_view_module_version": "1.2.0",
      "_view_name": "LayoutView",
      "align_content": null,
      "align_items": null,
      "align_self": null,
      "border": null,
      "bottom": null,
      "display": null,
      "flex": null,
      "flex_flow": null,
      "grid_area": null,
      "grid_auto_columns": null,
      "grid_auto_flow": null,
      "grid_auto_rows": null,
      "grid_column": null,
      "grid_gap": null,
      "grid_row": null,
      "grid_template_areas": null,
      "grid_template_columns": null,
      "grid_template_rows": null,
      "height": null,
      "justify_content": null,
      "justify_items": null,
      "left": null,
      "margin": null,
      "max_height": null,
      "max_width": null,
      "min_height": null,
      "min_width": null,
      "object_fit": null,
      "object_position": null,
      "order": null,
      "overflow": null,
      "overflow_x": null,
      "overflow_y": null,
      "padding": null,
      "right": null,
      "top": null,
      "visibility": null,
      "width": null
     }
    },
    "d72a35f51dc442499a0c479ec9eea2dc": {
     "model_module": "@jupyter-widgets/controls",
     "model_module_version": "1.5.0",
     "model_name": "HTMLModel",
     "state": {
      "_dom_classes": [],
      "_model_module": "@jupyter-widgets/controls",
      "_model_module_version": "1.5.0",
      "_model_name": "HTMLModel",
      "_view_count": null,
      "_view_module": "@jupyter-widgets/controls",
      "_view_module_version": "1.5.0",
      "_view_name": "HTMLView",
      "description": "",
      "description_tooltip": null,
      "layout": "IPY_MODEL_dda82376818e407a9679c5fb2cc7fcb2",
      "placeholder": "​",
      "style": "IPY_MODEL_fd973f51faca491fa466690bb789b9b3",
      "value": " 0/0 [00:00&lt;?, ? examples/s]"
     }
    },
    "d86fef8236e3456f8b90aa1a4c424039": {
     "model_module": "@jupyter-widgets/controls",
     "model_module_version": "1.5.0",
     "model_name": "ProgressStyleModel",
     "state": {
      "_model_module": "@jupyter-widgets/controls",
      "_model_module_version": "1.5.0",
      "_model_name": "ProgressStyleModel",
      "_view_count": null,
      "_view_module": "@jupyter-widgets/base",
      "_view_module_version": "1.2.0",
      "_view_name": "StyleView",
      "bar_color": null,
      "description_width": ""
     }
    },
    "d919c569a65c43b5aedacfc8b6147277": {
     "model_module": "@jupyter-widgets/controls",
     "model_module_version": "1.5.0",
     "model_name": "HBoxModel",
     "state": {
      "_dom_classes": [],
      "_model_module": "@jupyter-widgets/controls",
      "_model_module_version": "1.5.0",
      "_model_name": "HBoxModel",
      "_view_count": null,
      "_view_module": "@jupyter-widgets/controls",
      "_view_module_version": "1.5.0",
      "_view_name": "HBoxView",
      "box_style": "",
      "children": [
       "IPY_MODEL_fb15437ffa6f41829b1dc6b18341d647",
       "IPY_MODEL_d225c5eb63744c83aa5fe99a8787b6ee",
       "IPY_MODEL_9c5dd396d0f94f7fbe81827a89d592c2"
      ],
      "layout": "IPY_MODEL_0469d520b86a422992b4e3ea0fd21746"
     }
    },
    "db285299833149fd9c43859af99a4cff": {
     "model_module": "@jupyter-widgets/controls",
     "model_module_version": "1.5.0",
     "model_name": "FloatProgressModel",
     "state": {
      "_dom_classes": [],
      "_model_module": "@jupyter-widgets/controls",
      "_model_module_version": "1.5.0",
      "_model_name": "FloatProgressModel",
      "_view_count": null,
      "_view_module": "@jupyter-widgets/controls",
      "_view_module_version": "1.5.0",
      "_view_name": "ProgressView",
      "bar_style": "info",
      "description": "",
      "description_tooltip": null,
      "layout": "IPY_MODEL_1e393d0f5bd34b7b8e775731463f0d36",
      "max": 1,
      "min": 0,
      "orientation": "horizontal",
      "style": "IPY_MODEL_9d6fc164c94a4cf09ef6c9200e7c6fdd",
      "value": 1
     }
    },
    "dda69079d24a40fdb7e6ae5e7dda064f": {
     "model_module": "@jupyter-widgets/controls",
     "model_module_version": "1.5.0",
     "model_name": "FloatProgressModel",
     "state": {
      "_dom_classes": [],
      "_model_module": "@jupyter-widgets/controls",
      "_model_module_version": "1.5.0",
      "_model_name": "FloatProgressModel",
      "_view_count": null,
      "_view_module": "@jupyter-widgets/controls",
      "_view_module_version": "1.5.0",
      "_view_name": "ProgressView",
      "bar_style": "success",
      "description": "",
      "description_tooltip": null,
      "layout": "IPY_MODEL_26410c59ed2a4c1f8dc2c45866341dc0",
      "max": 1,
      "min": 0,
      "orientation": "horizontal",
      "style": "IPY_MODEL_b5c0f7f04137426e87cd07606bbbc254",
      "value": 1
     }
    },
    "dda82376818e407a9679c5fb2cc7fcb2": {
     "model_module": "@jupyter-widgets/base",
     "model_module_version": "1.2.0",
     "model_name": "LayoutModel",
     "state": {
      "_model_module": "@jupyter-widgets/base",
      "_model_module_version": "1.2.0",
      "_model_name": "LayoutModel",
      "_view_count": null,
      "_view_module": "@jupyter-widgets/base",
      "_view_module_version": "1.2.0",
      "_view_name": "LayoutView",
      "align_content": null,
      "align_items": null,
      "align_self": null,
      "border": null,
      "bottom": null,
      "display": null,
      "flex": null,
      "flex_flow": null,
      "grid_area": null,
      "grid_auto_columns": null,
      "grid_auto_flow": null,
      "grid_auto_rows": null,
      "grid_column": null,
      "grid_gap": null,
      "grid_row": null,
      "grid_template_areas": null,
      "grid_template_columns": null,
      "grid_template_rows": null,
      "height": null,
      "justify_content": null,
      "justify_items": null,
      "left": null,
      "margin": null,
      "max_height": null,
      "max_width": null,
      "min_height": null,
      "min_width": null,
      "object_fit": null,
      "object_position": null,
      "order": null,
      "overflow": null,
      "overflow_x": null,
      "overflow_y": null,
      "padding": null,
      "right": null,
      "top": null,
      "visibility": null,
      "width": null
     }
    },
    "e0ce9a07be734d87bf54845b8327c262": {
     "model_module": "@jupyter-widgets/controls",
     "model_module_version": "1.5.0",
     "model_name": "DescriptionStyleModel",
     "state": {
      "_model_module": "@jupyter-widgets/controls",
      "_model_module_version": "1.5.0",
      "_model_name": "DescriptionStyleModel",
      "_view_count": null,
      "_view_module": "@jupyter-widgets/base",
      "_view_module_version": "1.2.0",
      "_view_name": "StyleView",
      "description_width": ""
     }
    },
    "e3b693fb1aca40aa9133fb5729c8f9d7": {
     "model_module": "@jupyter-widgets/controls",
     "model_module_version": "1.5.0",
     "model_name": "HTMLModel",
     "state": {
      "_dom_classes": [],
      "_model_module": "@jupyter-widgets/controls",
      "_model_module_version": "1.5.0",
      "_model_name": "HTMLModel",
      "_view_count": null,
      "_view_module": "@jupyter-widgets/controls",
      "_view_module_version": "1.5.0",
      "_view_name": "HTMLView",
      "description": "",
      "description_tooltip": null,
      "layout": "IPY_MODEL_d1c0935300b048bcbb4f61f39c01f6b9",
      "placeholder": "​",
      "style": "IPY_MODEL_1d2e19d0512246a8b935a47240a4d4a4",
      "value": " 495/495 [00:00&lt;00:00, 17.7kB/s]"
     }
    },
    "e875f8ed89ca463484173db02a060ae2": {
     "model_module": "@jupyter-widgets/controls",
     "model_module_version": "1.5.0",
     "model_name": "ProgressStyleModel",
     "state": {
      "_model_module": "@jupyter-widgets/controls",
      "_model_module_version": "1.5.0",
      "_model_name": "ProgressStyleModel",
      "_view_count": null,
      "_view_module": "@jupyter-widgets/base",
      "_view_module_version": "1.2.0",
      "_view_name": "StyleView",
      "bar_color": null,
      "description_width": ""
     }
    },
    "e9349032ced54a86980a068c538b6380": {
     "model_module": "@jupyter-widgets/base",
     "model_module_version": "1.2.0",
     "model_name": "LayoutModel",
     "state": {
      "_model_module": "@jupyter-widgets/base",
      "_model_module_version": "1.2.0",
      "_model_name": "LayoutModel",
      "_view_count": null,
      "_view_module": "@jupyter-widgets/base",
      "_view_module_version": "1.2.0",
      "_view_name": "LayoutView",
      "align_content": null,
      "align_items": null,
      "align_self": null,
      "border": null,
      "bottom": null,
      "display": null,
      "flex": null,
      "flex_flow": null,
      "grid_area": null,
      "grid_auto_columns": null,
      "grid_auto_flow": null,
      "grid_auto_rows": null,
      "grid_column": null,
      "grid_gap": null,
      "grid_row": null,
      "grid_template_areas": null,
      "grid_template_columns": null,
      "grid_template_rows": null,
      "height": null,
      "justify_content": null,
      "justify_items": null,
      "left": null,
      "margin": null,
      "max_height": null,
      "max_width": null,
      "min_height": null,
      "min_width": null,
      "object_fit": null,
      "object_position": null,
      "order": null,
      "overflow": null,
      "overflow_x": null,
      "overflow_y": null,
      "padding": null,
      "right": null,
      "top": null,
      "visibility": null,
      "width": null
     }
    },
    "e975ecc6c0cd438a890a400f6e0764ad": {
     "model_module": "@jupyter-widgets/controls",
     "model_module_version": "1.5.0",
     "model_name": "HTMLModel",
     "state": {
      "_dom_classes": [],
      "_model_module": "@jupyter-widgets/controls",
      "_model_module_version": "1.5.0",
      "_model_name": "HTMLModel",
      "_view_count": null,
      "_view_module": "@jupyter-widgets/controls",
      "_view_module_version": "1.5.0",
      "_view_name": "HTMLView",
      "description": "",
      "description_tooltip": null,
      "layout": "IPY_MODEL_0d86c76ba15f4754814e8bc8ac21f87a",
      "placeholder": "​",
      "style": "IPY_MODEL_ad0bf3ce237e4401aa536eba37c7306a",
      "value": " 0/0 [00:00&lt;?, ? examples/s]"
     }
    },
    "e9dc06fdf11e47ee815592ae5571bed4": {
     "model_module": "@jupyter-widgets/base",
     "model_module_version": "1.2.0",
     "model_name": "LayoutModel",
     "state": {
      "_model_module": "@jupyter-widgets/base",
      "_model_module_version": "1.2.0",
      "_model_name": "LayoutModel",
      "_view_count": null,
      "_view_module": "@jupyter-widgets/base",
      "_view_module_version": "1.2.0",
      "_view_name": "LayoutView",
      "align_content": null,
      "align_items": null,
      "align_self": null,
      "border": null,
      "bottom": null,
      "display": null,
      "flex": null,
      "flex_flow": null,
      "grid_area": null,
      "grid_auto_columns": null,
      "grid_auto_flow": null,
      "grid_auto_rows": null,
      "grid_column": null,
      "grid_gap": null,
      "grid_row": null,
      "grid_template_areas": null,
      "grid_template_columns": null,
      "grid_template_rows": null,
      "height": null,
      "justify_content": null,
      "justify_items": null,
      "left": null,
      "margin": null,
      "max_height": null,
      "max_width": null,
      "min_height": null,
      "min_width": null,
      "object_fit": null,
      "object_position": null,
      "order": null,
      "overflow": null,
      "overflow_x": null,
      "overflow_y": null,
      "padding": null,
      "right": null,
      "top": null,
      "visibility": null,
      "width": null
     }
    },
    "eac425bd10be479db06d7a591041ee40": {
     "model_module": "@jupyter-widgets/controls",
     "model_module_version": "1.5.0",
     "model_name": "HBoxModel",
     "state": {
      "_dom_classes": [],
      "_model_module": "@jupyter-widgets/controls",
      "_model_module_version": "1.5.0",
      "_model_name": "HBoxModel",
      "_view_count": null,
      "_view_module": "@jupyter-widgets/controls",
      "_view_module_version": "1.5.0",
      "_view_name": "HBoxView",
      "box_style": "",
      "children": [
       "IPY_MODEL_91f68b8f54b9496083bd8c40334c3dfd",
       "IPY_MODEL_23455bbb05244d52ba107b275cb4c532",
       "IPY_MODEL_02b0c4e4cf7e4c90af73d25f8ef273bf"
      ],
      "layout": "IPY_MODEL_fc88a6f7a3654a7da5b72d3d9a79426d"
     }
    },
    "ed8b3df44b87482da68515f62125b8cf": {
     "model_module": "@jupyter-widgets/controls",
     "model_module_version": "1.5.0",
     "model_name": "DescriptionStyleModel",
     "state": {
      "_model_module": "@jupyter-widgets/controls",
      "_model_module_version": "1.5.0",
      "_model_name": "DescriptionStyleModel",
      "_view_count": null,
      "_view_module": "@jupyter-widgets/base",
      "_view_module_version": "1.2.0",
      "_view_name": "StyleView",
      "description_width": ""
     }
    },
    "ef830f832c6d4b5d879dc038ba8a876e": {
     "model_module": "@jupyter-widgets/base",
     "model_module_version": "1.2.0",
     "model_name": "LayoutModel",
     "state": {
      "_model_module": "@jupyter-widgets/base",
      "_model_module_version": "1.2.0",
      "_model_name": "LayoutModel",
      "_view_count": null,
      "_view_module": "@jupyter-widgets/base",
      "_view_module_version": "1.2.0",
      "_view_name": "LayoutView",
      "align_content": null,
      "align_items": null,
      "align_self": null,
      "border": null,
      "bottom": null,
      "display": null,
      "flex": null,
      "flex_flow": null,
      "grid_area": null,
      "grid_auto_columns": null,
      "grid_auto_flow": null,
      "grid_auto_rows": null,
      "grid_column": null,
      "grid_gap": null,
      "grid_row": null,
      "grid_template_areas": null,
      "grid_template_columns": null,
      "grid_template_rows": null,
      "height": null,
      "justify_content": null,
      "justify_items": null,
      "left": null,
      "margin": null,
      "max_height": null,
      "max_width": null,
      "min_height": null,
      "min_width": null,
      "object_fit": null,
      "object_position": null,
      "order": null,
      "overflow": null,
      "overflow_x": null,
      "overflow_y": null,
      "padding": null,
      "right": null,
      "top": null,
      "visibility": null,
      "width": null
     }
    },
    "f2c04a3d9fad4025a17bc43b78769f72": {
     "model_module": "@jupyter-widgets/base",
     "model_module_version": "1.2.0",
     "model_name": "LayoutModel",
     "state": {
      "_model_module": "@jupyter-widgets/base",
      "_model_module_version": "1.2.0",
      "_model_name": "LayoutModel",
      "_view_count": null,
      "_view_module": "@jupyter-widgets/base",
      "_view_module_version": "1.2.0",
      "_view_name": "LayoutView",
      "align_content": null,
      "align_items": null,
      "align_self": null,
      "border": null,
      "bottom": null,
      "display": null,
      "flex": null,
      "flex_flow": null,
      "grid_area": null,
      "grid_auto_columns": null,
      "grid_auto_flow": null,
      "grid_auto_rows": null,
      "grid_column": null,
      "grid_gap": null,
      "grid_row": null,
      "grid_template_areas": null,
      "grid_template_columns": null,
      "grid_template_rows": null,
      "height": null,
      "justify_content": null,
      "justify_items": null,
      "left": null,
      "margin": null,
      "max_height": null,
      "max_width": null,
      "min_height": null,
      "min_width": null,
      "object_fit": null,
      "object_position": null,
      "order": null,
      "overflow": null,
      "overflow_x": null,
      "overflow_y": null,
      "padding": null,
      "right": null,
      "top": null,
      "visibility": null,
      "width": null
     }
    },
    "f33f24d0b10a428aa7385165efe62bee": {
     "model_module": "@jupyter-widgets/controls",
     "model_module_version": "1.5.0",
     "model_name": "DescriptionStyleModel",
     "state": {
      "_model_module": "@jupyter-widgets/controls",
      "_model_module_version": "1.5.0",
      "_model_name": "DescriptionStyleModel",
      "_view_count": null,
      "_view_module": "@jupyter-widgets/base",
      "_view_module_version": "1.2.0",
      "_view_name": "StyleView",
      "description_width": ""
     }
    },
    "f3d20f14724b4fad87efde3295faffc4": {
     "model_module": "@jupyter-widgets/base",
     "model_module_version": "1.2.0",
     "model_name": "LayoutModel",
     "state": {
      "_model_module": "@jupyter-widgets/base",
      "_model_module_version": "1.2.0",
      "_model_name": "LayoutModel",
      "_view_count": null,
      "_view_module": "@jupyter-widgets/base",
      "_view_module_version": "1.2.0",
      "_view_name": "LayoutView",
      "align_content": null,
      "align_items": null,
      "align_self": null,
      "border": null,
      "bottom": null,
      "display": null,
      "flex": null,
      "flex_flow": null,
      "grid_area": null,
      "grid_auto_columns": null,
      "grid_auto_flow": null,
      "grid_auto_rows": null,
      "grid_column": null,
      "grid_gap": null,
      "grid_row": null,
      "grid_template_areas": null,
      "grid_template_columns": null,
      "grid_template_rows": null,
      "height": null,
      "justify_content": null,
      "justify_items": null,
      "left": null,
      "margin": null,
      "max_height": null,
      "max_width": null,
      "min_height": null,
      "min_width": null,
      "object_fit": null,
      "object_position": null,
      "order": null,
      "overflow": null,
      "overflow_x": null,
      "overflow_y": null,
      "padding": null,
      "right": null,
      "top": null,
      "visibility": null,
      "width": null
     }
    },
    "f4620093682d4f939530fc47bd8de529": {
     "model_module": "@jupyter-widgets/base",
     "model_module_version": "1.2.0",
     "model_name": "LayoutModel",
     "state": {
      "_model_module": "@jupyter-widgets/base",
      "_model_module_version": "1.2.0",
      "_model_name": "LayoutModel",
      "_view_count": null,
      "_view_module": "@jupyter-widgets/base",
      "_view_module_version": "1.2.0",
      "_view_name": "LayoutView",
      "align_content": null,
      "align_items": null,
      "align_self": null,
      "border": null,
      "bottom": null,
      "display": null,
      "flex": null,
      "flex_flow": null,
      "grid_area": null,
      "grid_auto_columns": null,
      "grid_auto_flow": null,
      "grid_auto_rows": null,
      "grid_column": null,
      "grid_gap": null,
      "grid_row": null,
      "grid_template_areas": null,
      "grid_template_columns": null,
      "grid_template_rows": null,
      "height": null,
      "justify_content": null,
      "justify_items": null,
      "left": null,
      "margin": null,
      "max_height": null,
      "max_width": null,
      "min_height": null,
      "min_width": null,
      "object_fit": null,
      "object_position": null,
      "order": null,
      "overflow": null,
      "overflow_x": null,
      "overflow_y": null,
      "padding": null,
      "right": null,
      "top": null,
      "visibility": null,
      "width": null
     }
    },
    "f69cf70058cf4c37bd427c7bc13c51d0": {
     "model_module": "@jupyter-widgets/base",
     "model_module_version": "1.2.0",
     "model_name": "LayoutModel",
     "state": {
      "_model_module": "@jupyter-widgets/base",
      "_model_module_version": "1.2.0",
      "_model_name": "LayoutModel",
      "_view_count": null,
      "_view_module": "@jupyter-widgets/base",
      "_view_module_version": "1.2.0",
      "_view_name": "LayoutView",
      "align_content": null,
      "align_items": null,
      "align_self": null,
      "border": null,
      "bottom": null,
      "display": null,
      "flex": null,
      "flex_flow": null,
      "grid_area": null,
      "grid_auto_columns": null,
      "grid_auto_flow": null,
      "grid_auto_rows": null,
      "grid_column": null,
      "grid_gap": null,
      "grid_row": null,
      "grid_template_areas": null,
      "grid_template_columns": null,
      "grid_template_rows": null,
      "height": null,
      "justify_content": null,
      "justify_items": null,
      "left": null,
      "margin": null,
      "max_height": null,
      "max_width": null,
      "min_height": null,
      "min_width": null,
      "object_fit": null,
      "object_position": null,
      "order": null,
      "overflow": null,
      "overflow_x": null,
      "overflow_y": null,
      "padding": null,
      "right": null,
      "top": null,
      "visibility": null,
      "width": null
     }
    },
    "f6a50eba222d45e583195bfe1faa0e7c": {
     "model_module": "@jupyter-widgets/controls",
     "model_module_version": "1.5.0",
     "model_name": "FloatProgressModel",
     "state": {
      "_dom_classes": [],
      "_model_module": "@jupyter-widgets/controls",
      "_model_module_version": "1.5.0",
      "_model_name": "FloatProgressModel",
      "_view_count": null,
      "_view_module": "@jupyter-widgets/controls",
      "_view_module_version": "1.5.0",
      "_view_name": "ProgressView",
      "bar_style": "success",
      "description": "",
      "description_tooltip": null,
      "layout": "IPY_MODEL_ef830f832c6d4b5d879dc038ba8a876e",
      "max": 3,
      "min": 0,
      "orientation": "horizontal",
      "style": "IPY_MODEL_224aa05321724125b8019e6059986a53",
      "value": 3
     }
    },
    "f839b0449f99423e85f974e5c6da4e88": {
     "model_module": "@jupyter-widgets/base",
     "model_module_version": "1.2.0",
     "model_name": "LayoutModel",
     "state": {
      "_model_module": "@jupyter-widgets/base",
      "_model_module_version": "1.2.0",
      "_model_name": "LayoutModel",
      "_view_count": null,
      "_view_module": "@jupyter-widgets/base",
      "_view_module_version": "1.2.0",
      "_view_name": "LayoutView",
      "align_content": null,
      "align_items": null,
      "align_self": null,
      "border": null,
      "bottom": null,
      "display": null,
      "flex": null,
      "flex_flow": null,
      "grid_area": null,
      "grid_auto_columns": null,
      "grid_auto_flow": null,
      "grid_auto_rows": null,
      "grid_column": null,
      "grid_gap": null,
      "grid_row": null,
      "grid_template_areas": null,
      "grid_template_columns": null,
      "grid_template_rows": null,
      "height": null,
      "justify_content": null,
      "justify_items": null,
      "left": null,
      "margin": null,
      "max_height": null,
      "max_width": null,
      "min_height": null,
      "min_width": null,
      "object_fit": null,
      "object_position": null,
      "order": null,
      "overflow": null,
      "overflow_x": null,
      "overflow_y": null,
      "padding": null,
      "right": null,
      "top": null,
      "visibility": null,
      "width": null
     }
    },
    "f99059193f3d45a8b242ba7300451226": {
     "model_module": "@jupyter-widgets/base",
     "model_module_version": "1.2.0",
     "model_name": "LayoutModel",
     "state": {
      "_model_module": "@jupyter-widgets/base",
      "_model_module_version": "1.2.0",
      "_model_name": "LayoutModel",
      "_view_count": null,
      "_view_module": "@jupyter-widgets/base",
      "_view_module_version": "1.2.0",
      "_view_name": "LayoutView",
      "align_content": null,
      "align_items": null,
      "align_self": null,
      "border": null,
      "bottom": null,
      "display": null,
      "flex": null,
      "flex_flow": null,
      "grid_area": null,
      "grid_auto_columns": null,
      "grid_auto_flow": null,
      "grid_auto_rows": null,
      "grid_column": null,
      "grid_gap": null,
      "grid_row": null,
      "grid_template_areas": null,
      "grid_template_columns": null,
      "grid_template_rows": null,
      "height": null,
      "justify_content": null,
      "justify_items": null,
      "left": null,
      "margin": null,
      "max_height": null,
      "max_width": null,
      "min_height": null,
      "min_width": null,
      "object_fit": null,
      "object_position": null,
      "order": null,
      "overflow": null,
      "overflow_x": null,
      "overflow_y": null,
      "padding": null,
      "right": null,
      "top": null,
      "visibility": null,
      "width": null
     }
    },
    "fb15437ffa6f41829b1dc6b18341d647": {
     "model_module": "@jupyter-widgets/controls",
     "model_module_version": "1.5.0",
     "model_name": "HTMLModel",
     "state": {
      "_dom_classes": [],
      "_model_module": "@jupyter-widgets/controls",
      "_model_module_version": "1.5.0",
      "_model_name": "HTMLModel",
      "_view_count": null,
      "_view_module": "@jupyter-widgets/controls",
      "_view_module_version": "1.5.0",
      "_view_name": "HTMLView",
      "description": "",
      "description_tooltip": null,
      "layout": "IPY_MODEL_958f8fbdb0074c269c0d3a9204161054",
      "placeholder": "​",
      "style": "IPY_MODEL_1686472c512e4c66b29a9f6361eff5da",
      "value": "Downloading data: 100%"
     }
    },
    "fc88a6f7a3654a7da5b72d3d9a79426d": {
     "model_module": "@jupyter-widgets/base",
     "model_module_version": "1.2.0",
     "model_name": "LayoutModel",
     "state": {
      "_model_module": "@jupyter-widgets/base",
      "_model_module_version": "1.2.0",
      "_model_name": "LayoutModel",
      "_view_count": null,
      "_view_module": "@jupyter-widgets/base",
      "_view_module_version": "1.2.0",
      "_view_name": "LayoutView",
      "align_content": null,
      "align_items": null,
      "align_self": null,
      "border": null,
      "bottom": null,
      "display": null,
      "flex": null,
      "flex_flow": null,
      "grid_area": null,
      "grid_auto_columns": null,
      "grid_auto_flow": null,
      "grid_auto_rows": null,
      "grid_column": null,
      "grid_gap": null,
      "grid_row": null,
      "grid_template_areas": null,
      "grid_template_columns": null,
      "grid_template_rows": null,
      "height": null,
      "justify_content": null,
      "justify_items": null,
      "left": null,
      "margin": null,
      "max_height": null,
      "max_width": null,
      "min_height": null,
      "min_width": null,
      "object_fit": null,
      "object_position": null,
      "order": null,
      "overflow": null,
      "overflow_x": null,
      "overflow_y": null,
      "padding": null,
      "right": null,
      "top": null,
      "visibility": null,
      "width": null
     }
    },
    "fcb2713247b945e68f3300a0904513d1": {
     "model_module": "@jupyter-widgets/controls",
     "model_module_version": "1.5.0",
     "model_name": "ProgressStyleModel",
     "state": {
      "_model_module": "@jupyter-widgets/controls",
      "_model_module_version": "1.5.0",
      "_model_name": "ProgressStyleModel",
      "_view_count": null,
      "_view_module": "@jupyter-widgets/base",
      "_view_module_version": "1.2.0",
      "_view_name": "StyleView",
      "bar_color": null,
      "description_width": ""
     }
    },
    "fd973f51faca491fa466690bb789b9b3": {
     "model_module": "@jupyter-widgets/controls",
     "model_module_version": "1.5.0",
     "model_name": "DescriptionStyleModel",
     "state": {
      "_model_module": "@jupyter-widgets/controls",
      "_model_module_version": "1.5.0",
      "_model_name": "DescriptionStyleModel",
      "_view_count": null,
      "_view_module": "@jupyter-widgets/base",
      "_view_module_version": "1.2.0",
      "_view_name": "StyleView",
      "description_width": ""
     }
    },
    "ff76c001625a4df7aa2a8dcb303d6c2b": {
     "model_module": "@jupyter-widgets/controls",
     "model_module_version": "1.5.0",
     "model_name": "HTMLModel",
     "state": {
      "_dom_classes": [],
      "_model_module": "@jupyter-widgets/controls",
      "_model_module_version": "1.5.0",
      "_model_name": "HTMLModel",
      "_view_count": null,
      "_view_module": "@jupyter-widgets/controls",
      "_view_module_version": "1.5.0",
      "_view_name": "HTMLView",
      "description": "",
      "description_tooltip": null,
      "layout": "IPY_MODEL_2499e28d627641c29459456e60be2507",
      "placeholder": "​",
      "style": "IPY_MODEL_18bbc4701781448793864e6ef824ac4b",
      "value": "Downloading builder script: 100%"
     }
    }
   }
  }
 },
 "nbformat": 4,
 "nbformat_minor": 4
}
